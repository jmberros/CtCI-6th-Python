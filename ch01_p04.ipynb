{
 "cells": [
  {
   "cell_type": "markdown",
   "metadata": {},
   "source": [
    "Palindrome Permutation: Given a string, write a function to check if it is a permutation of a palin­\n",
    "drome. A palindrome is a word or phrase that is the same forwards and backwards. A permutation\n",
    "is a rearrangement of letters. The palindrome does not need to be limited to just dictionary words.\n",
    "\n",
    "EXAMPLE\n",
    "\n",
    "Input:Tact Coa\n",
    "\n",
    "Output:True (permutations: \"taco cat\", \"atco eta\", etc.)"
   ]
  },
  {
   "cell_type": "code",
   "execution_count": 39,
   "metadata": {},
   "outputs": [],
   "source": [
    "TEST_CASES = [\n",
    "    (\"Tact Coa\", True),\n",
    "    (\"abcba\", True),\n",
    "    (\"abccba\", True),\n",
    "    (\"aabbcc\", True),\n",
    "    (\"aabbc\", True),\n",
    "    (\"\", True),\n",
    "    (\"A\", True),\n",
    "    (\"aa\", True),\n",
    "    (\"aB\", False),\n",
    "    (\"bAa\", True),\n",
    "    (\"baac\", False),\n",
    "    (\"aba\", True),\n",
    "    (\"aab\", True),\n",
    "    (\"abba\", True),\n",
    "    (\"aabb\", True),\n",
    "    (\"a-bba\", True),\n",
    "    (\"a-bba!\", True),\n",
    "    (\"Tact Coa\", True),\n",
    "    (\"jhsabckuj ahjsbckj\", True),\n",
    "    (\"Able was I ere I saw Elba\", True),\n",
    "    (\"So patient a nurse to nurse a patient so\", False),\n",
    "    (\"Random Words\", False),\n",
    "    (\"Not a Palindrome\", False),\n",
    "    (\"no x in nixon\", True),\n",
    "    (\"azAZ\", True),\n",
    "]\n",
    "\n",
    "def run_test_cases(f):\n",
    "    for *inputs, expected_result in TEST_CASES:\n",
    "        result = f(*inputs)\n",
    "        if result != expected_result:\n",
    "            print(f\"f({', '.join(str(i) for i in inputs)}) = {result} != {expected_result}\")\n",
    "            return\n",
    "\n",
    "    print(\"everything OK\")"
   ]
  },
  {
   "cell_type": "code",
   "execution_count": 44,
   "metadata": {},
   "outputs": [
    {
     "data": {
      "text/plain": [
       "False"
      ]
     },
     "execution_count": 44,
     "metadata": {},
     "output_type": "execute_result"
    }
   ],
   "source": [
    "\" \".isalnum()"
   ]
  },
  {
   "cell_type": "code",
   "execution_count": 45,
   "metadata": {},
   "outputs": [
    {
     "name": "stdout",
     "output_type": "stream",
     "text": [
      "everything OK\n"
     ]
    }
   ],
   "source": [
    "from collections import Counter\n",
    "\n",
    "s = \"Tact Coa\"\n",
    "#####\n",
    "\n",
    "def is_palindrome_permutation_2(s: str) -> bool:\n",
    "    s = s.lower()\n",
    "    counts = Counter(char for char in s if char.isalnum())\n",
    "    n_odd = sum(1 for count in counts.values() if count % 2 != 0)\n",
    "    return n_odd in [0, 1]\n",
    "\n",
    "\n",
    "run_test_cases(is_palindrome_permutation_2)"
   ]
  },
  {
   "cell_type": "code",
   "execution_count": 30,
   "metadata": {},
   "outputs": [
    {
     "name": "stdout",
     "output_type": "stream",
     "text": [
      "['t', 'a', 'c', 't', 'c', 'o', 'a'] t ['a', 'c', 't', 'c', 'o', 'a']\n",
      "['a', 'c', 'c', 'o', 'a'] a ['c', 'c', 'o', 'a']\n",
      "['c', 'c', 'o'] c ['c', 'o']\n",
      "['o']\n",
      "--\n"
     ]
    },
    {
     "data": {
      "text/plain": [
       "True"
      ]
     },
     "execution_count": 30,
     "metadata": {},
     "output_type": "execute_result"
    }
   ],
   "source": [
    "s = \"Tact Coa\"\n",
    "\n",
    "\n",
    "####\n",
    "\n",
    "\n",
    "def is_palindrome_permutation(s: str) -> bool:\n",
    "    s = s.lower().replace(\" \", \"\")\n",
    "\n",
    "    remaining_chars = list(s)\n",
    "    for _ in range(len(s)//2):\n",
    "        head, tail = remaining_chars[0], remaining_chars[1:]\n",
    "        print(remaining_chars, head, tail)\n",
    "        if head not in tail:\n",
    "            return False\n",
    "        tail.remove(head)\n",
    "        remaining_chars = list(tail)\n",
    "        # print(remaining_chars)\n",
    "        # print(\"---\")\n",
    "\n",
    "    print(remaining_chars)\n",
    "    print(\"--\")\n",
    "    return len(remaining_chars) in [0, 1]\n",
    "\n",
    "is_palindrome_permutation(s)\n"
   ]
  },
  {
   "cell_type": "code",
   "execution_count": 31,
   "metadata": {},
   "outputs": [
    {
     "name": "stdout",
     "output_type": "stream",
     "text": [
      "['t', 'a', 'c', 't', 'c', 'o', 'a'] t ['a', 'c', 't', 'c', 'o', 'a']\n",
      "['a', 'c', 'c', 'o', 'a'] a ['c', 'c', 'o', 'a']\n",
      "['c', 'c', 'o'] c ['c', 'o']\n",
      "['o']\n",
      "--\n",
      "['a', 'b', 'c', 'b', 'a'] a ['b', 'c', 'b', 'a']\n",
      "['b', 'c', 'b'] b ['c', 'b']\n",
      "['c']\n",
      "--\n",
      "['a', 'b', 'c', 'c', 'b', 'a'] a ['b', 'c', 'c', 'b', 'a']\n",
      "['b', 'c', 'c', 'b'] b ['c', 'c', 'b']\n",
      "['c', 'c'] c ['c']\n",
      "[]\n",
      "--\n",
      "['a', 'a', 'b', 'b', 'c', 'c'] a ['a', 'b', 'b', 'c', 'c']\n",
      "['b', 'b', 'c', 'c'] b ['b', 'c', 'c']\n",
      "['c', 'c'] c ['c']\n",
      "[]\n",
      "--\n",
      "['a', 'a', 'b', 'b', 'c'] a ['a', 'b', 'b', 'c']\n",
      "['b', 'b', 'c'] b ['b', 'c']\n",
      "['c']\n",
      "--\n",
      "[]\n",
      "--\n",
      "['a']\n",
      "--\n",
      "['a', 'a'] a ['a']\n",
      "[]\n",
      "--\n",
      "['a', 'b'] a ['b']\n",
      "['b', 'a', 'a'] b ['a', 'a']\n",
      "f(bAa) = False != True\n"
     ]
    }
   ],
   "source": [
    "run_test_cases(is_palindrome_permutation)"
   ]
  },
  {
   "cell_type": "code",
   "execution_count": null,
   "metadata": {},
   "outputs": [],
   "source": []
  },
  {
   "cell_type": "code",
   "execution_count": null,
   "metadata": {},
   "outputs": [],
   "source": []
  },
  {
   "cell_type": "code",
   "execution_count": null,
   "metadata": {},
   "outputs": [],
   "source": []
  },
  {
   "cell_type": "code",
   "execution_count": null,
   "metadata": {},
   "outputs": [],
   "source": []
  }
 ],
 "metadata": {
  "kernelspec": {
   "display_name": "py311",
   "language": "python",
   "name": "python3"
  },
  "language_info": {
   "codemirror_mode": {
    "name": "ipython",
    "version": 3
   },
   "file_extension": ".py",
   "mimetype": "text/x-python",
   "name": "python",
   "nbconvert_exporter": "python",
   "pygments_lexer": "ipython3",
   "version": "3.11.3"
  },
  "orig_nbformat": 4
 },
 "nbformat": 4,
 "nbformat_minor": 2
}

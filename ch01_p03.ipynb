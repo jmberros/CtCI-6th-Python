{
 "cells": [
  {
   "cell_type": "markdown",
   "metadata": {},
   "source": [
    "URLify: Write a method to replace all spaces in a string with '%20'. You may assume that the string\n",
    "has sufficient space at the end to hold the additional characters,and that you are given the \"true\"\n",
    "length of the string. (Note: If implementing in Java, please use a character array so that you can\n",
    "perform this operation in place.)"
   ]
  },
  {
   "cell_type": "code",
   "execution_count": 18,
   "metadata": {},
   "outputs": [],
   "source": [
    "TEST_CASES = [\n",
    "    (\" a b c \", 7, \"%20a%20b%20c%20\"),\n",
    "    (\" a b c \", 6, \"%20a%20b%20c\"),\n",
    "    (\"\", 0, \"\"),\n",
    "    (\" \", 1, \"%20\"),\n",
    "    (\"aaa   \", 3, \"aaa\"),\n",
    "]\n",
    "\n",
    "def run_test_cases(f):\n",
    "    for *inputs, expected_result in TEST_CASES:\n",
    "        result = f(*inputs)\n",
    "        if result != expected_result:\n",
    "            print(f\"f({', '.join(str(i) for i in inputs)}) = {result} != {expected_result}\")\n",
    "            return\n",
    "\n",
    "    print(\"everything OK\")"
   ]
  },
  {
   "cell_type": "code",
   "execution_count": 21,
   "metadata": {},
   "outputs": [
    {
     "name": "stdout",
     "output_type": "stream",
     "text": [
      "everything OK\n"
     ]
    }
   ],
   "source": [
    "s = \"a bc d\"\n",
    "\n",
    "####\n",
    "\n",
    "def urlify_1(s: str, length: int) -> str:\n",
    "    return s[:length].replace(\" \", \"%20\")\n",
    "\n",
    "run_test_cases(urlify_1)"
   ]
  },
  {
   "cell_type": "code",
   "execution_count": null,
   "metadata": {},
   "outputs": [],
   "source": []
  },
  {
   "cell_type": "code",
   "execution_count": null,
   "metadata": {},
   "outputs": [],
   "source": []
  },
  {
   "cell_type": "code",
   "execution_count": null,
   "metadata": {},
   "outputs": [],
   "source": []
  }
 ],
 "metadata": {
  "kernelspec": {
   "display_name": "py311",
   "language": "python",
   "name": "python3"
  },
  "language_info": {
   "codemirror_mode": {
    "name": "ipython",
    "version": 3
   },
   "file_extension": ".py",
   "mimetype": "text/x-python",
   "name": "python",
   "nbconvert_exporter": "python",
   "pygments_lexer": "ipython3",
   "version": "3.11.3"
  },
  "orig_nbformat": 4
 },
 "nbformat": 4,
 "nbformat_minor": 2
}

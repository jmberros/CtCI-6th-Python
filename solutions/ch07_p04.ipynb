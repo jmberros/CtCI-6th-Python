{
 "cells": [
  {
   "cell_type": "markdown",
   "metadata": {},
   "source": [
    "# Parking Lot\n",
    "\n",
    "Design a parking lot using object-oriented principles.\n",
    "\n",
    "## Details:\n",
    "\n",
    "- A **ParkingLot**:\n",
    "  - has **Vehicles** in it, which might be of different **VehicleType** and might span one or multiple parking spaces.\n",
    "  - has a finite number of available spaces\n",
    "  - should record the time of entrance of each Vehicle\n",
    "  - should compute the total time of stay and total cost when a Vehicle leaves\n"
   ]
  },
  {
   "cell_type": "code",
   "execution_count": 8,
   "metadata": {},
   "outputs": [
    {
     "data": {
      "text/plain": [
       "96.5"
      ]
     },
     "execution_count": 8,
     "metadata": {},
     "output_type": "execute_result"
    }
   ],
   "source": [
    "from enum import Enum\n",
    "\n",
    "\n",
    "class VehicleType(Enum):\n",
    "    BIKE = 0\n",
    "    CAR = 1\n",
    "    TRUCK = 2\n",
    "\n",
    "\n",
    "class Vehicle:\n",
    "    SIZE_PER_TYPE = {\n",
    "        VehicleType.BIKE: 0.5,\n",
    "        VehicleType.CAR: 1,\n",
    "        VehicleType.TRUCK: 2,\n",
    "    }\n",
    "\n",
    "    def __init__(self, type: VehicleType):\n",
    "        self.type = type\n",
    "        self.size = self.SIZE_PER_TYPE[self.type]\n",
    "\n",
    "\n",
    "class ParkingLot:\n",
    "    def __init__(self, size: int):\n",
    "        self.size = size\n",
    "        self.vehicles = []\n",
    "\n",
    "    @property\n",
    "    def occupied_space(self):\n",
    "        return sum(vehicle.size for vehicle in self.vehicles)\n",
    "\n",
    "    @property\n",
    "    def free_space(self):\n",
    "        return self.size - self.occupied_space\n",
    "\n",
    "    def add_vehicle(self, vehicle: Vehicle):\n",
    "        self.vehicles.append(vehicle)\n",
    "\n",
    "\n",
    "####\n",
    "\n",
    "parking_lot = ParkingLot(size=100)\n",
    "\n",
    "bike = Vehicle(VehicleType.BIKE)\n",
    "car = Vehicle(VehicleType.CAR)\n",
    "truck = Vehicle(VehicleType.TRUCK)\n",
    "\n",
    "parking_lot.add_vehicle(bike)\n",
    "parking_lot.add_vehicle(car)\n",
    "parking_lot.add_vehicle(truck)\n",
    "\n",
    "parking_lot.free_space"
   ]
  },
  {
   "cell_type": "code",
   "execution_count": null,
   "metadata": {},
   "outputs": [],
   "source": []
  },
  {
   "cell_type": "code",
   "execution_count": null,
   "metadata": {},
   "outputs": [],
   "source": []
  },
  {
   "cell_type": "code",
   "execution_count": null,
   "metadata": {},
   "outputs": [],
   "source": []
  },
  {
   "cell_type": "code",
   "execution_count": null,
   "metadata": {},
   "outputs": [],
   "source": []
  },
  {
   "cell_type": "code",
   "execution_count": null,
   "metadata": {},
   "outputs": [],
   "source": []
  },
  {
   "cell_type": "code",
   "execution_count": null,
   "metadata": {},
   "outputs": [],
   "source": []
  },
  {
   "cell_type": "code",
   "execution_count": null,
   "metadata": {},
   "outputs": [],
   "source": []
  },
  {
   "cell_type": "code",
   "execution_count": null,
   "metadata": {},
   "outputs": [],
   "source": []
  }
 ],
 "metadata": {
  "kernelspec": {
   "display_name": "py311",
   "language": "python",
   "name": "python3"
  },
  "language_info": {
   "codemirror_mode": {
    "name": "ipython",
    "version": 3
   },
   "file_extension": ".py",
   "mimetype": "text/x-python",
   "name": "python",
   "nbconvert_exporter": "python",
   "pygments_lexer": "ipython3",
   "version": "3.11.3"
  },
  "orig_nbformat": 4
 },
 "nbformat": 4,
 "nbformat_minor": 2
}

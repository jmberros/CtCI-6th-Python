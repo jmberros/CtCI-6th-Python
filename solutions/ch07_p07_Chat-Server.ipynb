{
 "cells": [
  {
   "cell_type": "markdown",
   "metadata": {},
   "source": [
    "Chat Server: Explain how you would design a chat server. In particular, provide details about the\n",
    "various backend components, classes, and methods. What would be the hardest problems to solve?"
   ]
  },
  {
   "cell_type": "markdown",
   "metadata": {},
   "source": [
    "## Requirements\n",
    "\n",
    "- Handle read requests with these parameters:\n",
    "  - `user_id` => list of `Conversation`s\n",
    "  - (`user_id`, `conversation_id`) => the `Message`s from this conversation with: (`timestamp`, `user_id`, `text`)\n",
    "  - `Conversation`s include a `title`, any number of `User`s, and messages are displayed ordered by their timestamps.\n",
    "\n",
    "- Handle write requests with:\n",
    "  - (`user_id`, `conversation_id`, `text`) => produce a timestamp at the time of receival, store the `Message`\n",
    "  - (`user_id`, new conversation title) => create a new conversation\n",
    "  - Create new conversations\n",
    "  - Add / Remove users to / from conversations\n",
    "  - Delete conversation (CRUD operations on the conversations)\n",
    "  - CRUD on users\n",
    "  - Only C&R messages\n",
    "\n",
    "## Classes\n",
    "\n",
    "  - `User` -> has many Conversations and Messages\n",
    "    - `send_message(user, text, conversation)`, `list_conversations(user)`, `list_messages(user, conversation)`\n",
    "    - CRUD operations\n",
    "  - `Message` -> belongs to one (User, Conversation), has `text`, `user`, `timestamp`\n",
    "  - `ReadStatus` -> indexed by (User, Message) can be either 0, 1 (Unread vs Read)\n",
    "\n",
    "### Conversations model\n",
    "- `Conversation`s (or channels) -> have many Users, many Messages, an archived boolean flag\n",
    "    - You can add text from a user `add_message(user, text)`\n",
    "    - You can archive and unarchive a conversation (who can do this?) => TODO: Think about the permissions model\n",
    "    - CRUD operations? Permissions?\n",
    "\n",
    "### Friendship model\n",
    "\n",
    "- A user can ask another user to be friends. A new `FriendRequest(user_from, user_to)` is created with status `PENDING`.\n",
    "- After rejection or acceptance, the stastus is updated to `REJECTED`, `ACCEPTED`. Delete the FriendRequest or keep a historic track of requests?\n",
    "- A user can only send direct messages to ACCEPTED friends.\n",
    "- A user will see a list of ACCEPTED friends, and a different list of PENDING friends.\n",
    "- `Frienships` are composed of two user ids.\n",
    "\n",
    "\n",
    "### Non-functional reqs\n",
    "- Extremely low latency to allow seamless conversation -- Avoid messages waiting to be delivered\n",
    "- Can we achieve strong consistency i.e. linearizability. At least inside conversations the order is essential. \n",
    "\n",
    "### Pending\n",
    "- \"Typing...\" implementation\n",
    "- Implement channels?\n",
    "- Implement friendship? Permission of messaging related to frienship status?\n",
    "- Decide Graph DB vs Relational DB\n",
    "- Permissions to modify conversation status"
   ]
  },
  {
   "cell_type": "code",
   "execution_count": null,
   "metadata": {
    "vscode": {
     "languageId": "plaintext"
    }
   },
   "outputs": [],
   "source": []
  },
  {
   "cell_type": "code",
   "execution_count": null,
   "metadata": {
    "vscode": {
     "languageId": "plaintext"
    }
   },
   "outputs": [],
   "source": []
  },
  {
   "cell_type": "code",
   "execution_count": null,
   "metadata": {
    "vscode": {
     "languageId": "plaintext"
    }
   },
   "outputs": [],
   "source": []
  },
  {
   "cell_type": "code",
   "execution_count": null,
   "metadata": {
    "vscode": {
     "languageId": "plaintext"
    }
   },
   "outputs": [],
   "source": []
  },
  {
   "cell_type": "code",
   "execution_count": null,
   "metadata": {
    "vscode": {
     "languageId": "plaintext"
    }
   },
   "outputs": [],
   "source": []
  },
  {
   "cell_type": "code",
   "execution_count": null,
   "metadata": {
    "vscode": {
     "languageId": "plaintext"
    }
   },
   "outputs": [],
   "source": []
  },
  {
   "cell_type": "code",
   "execution_count": null,
   "metadata": {
    "vscode": {
     "languageId": "plaintext"
    }
   },
   "outputs": [],
   "source": []
  },
  {
   "cell_type": "code",
   "execution_count": null,
   "metadata": {
    "vscode": {
     "languageId": "plaintext"
    }
   },
   "outputs": [],
   "source": []
  },
  {
   "cell_type": "code",
   "execution_count": null,
   "metadata": {
    "vscode": {
     "languageId": "plaintext"
    }
   },
   "outputs": [],
   "source": []
  },
  {
   "cell_type": "code",
   "execution_count": null,
   "metadata": {
    "vscode": {
     "languageId": "plaintext"
    }
   },
   "outputs": [],
   "source": []
  }
 ],
 "metadata": {
  "language_info": {
   "name": "python"
  },
  "orig_nbformat": 4
 },
 "nbformat": 4,
 "nbformat_minor": 2
}

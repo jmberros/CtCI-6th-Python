{
 "cells": [
  {
   "cell_type": "markdown",
   "metadata": {},
   "source": [
    "# Othello\n",
    "\n",
    "Othello is played as follows:\n",
    "- Each Othello piece is white on one side and black on the other.\n",
    "- When a piece is surrounded by its opponents on both the left and right sides, or both the top and bottom, it is said to be captured and its color is flipped.\n",
    "- On your turn, you must capture **at least one** of your opponent's pieces.\n",
    "- The game ends when either user has no more valid moves.\n",
    "- The win is assigned to the person with the most pieces.\n",
    "- Implement the object-oriented design for Othello.\n",
    "\n",
    "## Extra assumptions\n",
    "\n",
    "- N x N board? N = 5? It can be generalized to any N\n",
    "- How many pieces are there?\n",
    "- How do you move the pieces? Assuming you can grab your piece and put it in any free slot.\n",
    "- How many moves per turn? Assuming 1 move of a piece of yours to any slot.\n",
    "- What is the initial setup of the game? It has to have immediate valid [capture] moves"
   ]
  },
  {
   "cell_type": "code",
   "execution_count": null,
   "metadata": {},
   "outputs": [],
   "source": [
    "import numpy as np\n",
    "\n",
    "from collections import Counter\n",
    "from itertools import combinations\n",
    "from typing import Generator\n",
    "\n",
    "\n",
    "class Board:\n",
    "    def __init__(self, N: int):\n",
    "        assert N % 2 == 0\n",
    "        self.N = N\n",
    "        self.frame = np.zeros((N, N), dtype=object)\n",
    "        # 0: no piece in the square\n",
    "        # 1: a white piece\n",
    "        # -1: a black piece\n",
    "\n",
    "    def initial_setup(self):\n",
    "        # Puts some 1s and -1s in self.frame\n",
    "        return self\n",
    "\n",
    "    def __iter__(self) -> Generator[int]:\n",
    "        for i, j in combinations(self.N, 2):\n",
    "            yield self.frame[i, j]\n",
    "\n",
    "    def move_piece(self, start: tuple[int, int], end: tuple[int, int]):\n",
    "        pass\n",
    "\n",
    "    def put_piece(self, to: tuple[int, int]):\n",
    "        pass\n",
    "\n",
    "    def perform_flips(self):\n",
    "        pass\n",
    "\n",
    "\n",
    "class OthelloGame:\n",
    "    def __init__(self, N: int = 5):\n",
    "        self.board = Board(N).initial_setup()\n",
    "\n",
    "    def compute_scores(self) -> dict[int, int]:\n",
    "        return Counter(square for square in self.board if square != 0)\n",
    "    \n",
    "    # ETC ETC ETC ;)"
   ]
  },
  {
   "cell_type": "code",
   "execution_count": null,
   "metadata": {},
   "outputs": [],
   "source": []
  },
  {
   "cell_type": "code",
   "execution_count": null,
   "metadata": {},
   "outputs": [],
   "source": []
  },
  {
   "cell_type": "code",
   "execution_count": null,
   "metadata": {},
   "outputs": [],
   "source": []
  },
  {
   "cell_type": "code",
   "execution_count": null,
   "metadata": {},
   "outputs": [],
   "source": []
  },
  {
   "cell_type": "code",
   "execution_count": null,
   "metadata": {},
   "outputs": [],
   "source": []
  }
 ],
 "metadata": {
  "kernelspec": {
   "display_name": "py311",
   "language": "python",
   "name": "python3"
  },
  "language_info": {
   "name": "python",
   "version": "3.11.3"
  },
  "orig_nbformat": 4
 },
 "nbformat": 4,
 "nbformat_minor": 2
}

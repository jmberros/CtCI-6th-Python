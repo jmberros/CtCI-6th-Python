{
 "cells": [
  {
   "cell_type": "markdown",
   "metadata": {},
   "source": [
    "# Jukebox\n",
    "\n",
    "Design a musical jukebox using object-oriented principles.\n",
    "\n",
    "## Specification\n",
    "\n",
    "- The jukebox can be either PLAYING or NOT PLAYING\n",
    "- It has a **Catalog**\n",
    "  - **Artists**, each of them might have many Albums\n",
    "  - **Albums**, which might belong to different artists (many-to-many)\n",
    "    - Album metadata includes: genre, year of release\n",
    "  - Each album has a fixed number of **Tracks** to play, with _metadata_: duration\n"
   ]
  },
  {
   "cell_type": "code",
   "execution_count": 13,
   "metadata": {},
   "outputs": [
    {
     "data": {
      "text/plain": [
       "0000000 [The Rolling Stones] - Sticky Fingers - 1. Wild Horses\n",
       "0000001 [The Rolling Stones] - Sticky Fingers - 2. Brown Sugar\n",
       "0000002 [The Rolling Stones] - Sticky Fingers - 3. Honky Tonk\n",
       "0000003 [Led Zeppelin] - III - 1. Na na naaa na\n",
       "0000004 [Led Zeppelin] - III - 2. The mountain folk song"
      ]
     },
     "execution_count": 13,
     "metadata": {},
     "output_type": "execute_result"
    }
   ],
   "source": [
    "from enum import Enum\n",
    "\n",
    "\n",
    "class Artist:\n",
    "    def __init__(self, name: str):\n",
    "        self.name = name\n",
    "        self.albums = []\n",
    "\n",
    "    def __repr__(self):\n",
    "        return self.name\n",
    "\n",
    "\n",
    "class Album:\n",
    "    def __init__(self, title: str, artists: list[Artist]):\n",
    "        self.title = title\n",
    "        self.artists = artists\n",
    "        self.tracks = []\n",
    "\n",
    "    def __repr__(self):\n",
    "        return self.title\n",
    "\n",
    "\n",
    "class Track:\n",
    "    def __init__(self, order: int, title: str, album: Album):\n",
    "        self.order = order\n",
    "        self.title = title\n",
    "        self.album = album\n",
    "\n",
    "    def __repr__(self):\n",
    "        return f\"{self.album.artists} - {self.album} - {self.order}. {self.title}\"\n",
    "\n",
    "\n",
    "class Catalog:\n",
    "    def __init__(self):\n",
    "        self.tracks = []\n",
    "\n",
    "    def add_tracks(self, tracks: list[Track]):\n",
    "        self.tracks.extend(tracks)\n",
    "\n",
    "    def get_track(self, i):\n",
    "        return self.tracks[i]\n",
    "\n",
    "    def __repr__(self):\n",
    "        return \"\\n\".join([f\"{i:07} {track}\" for i, track in enumerate(self.tracks)])\n",
    "\n",
    "    def __len__(self):\n",
    "        return len(self.tracks)\n",
    "\n",
    "\n",
    "####\n",
    "\n",
    "trs = Artist(\"The Rolling Stones\")\n",
    "sf = Album(\"Sticky Fingers\", artists=[trs])\n",
    "sf.tracks = [\n",
    "    Track(1, \"Wild Horses\", sf),\n",
    "    Track(2, \"Brown Sugar\", sf),\n",
    "    Track(3, \"Honky Tonk\", sf),\n",
    "]\n",
    "lz = Artist(\"Led Zeppelin\")\n",
    "lz3 = Album(\"III\", artists=[lz])\n",
    "lz3.tracks = [\n",
    "    Track(1, \"Na na naaa na\", lz3),\n",
    "    Track(2, \"The mountain folk song\", lz3)\n",
    "]\n",
    "\n",
    "catalog = Catalog()\n",
    "catalog.add_tracks(sf.tracks)\n",
    "catalog.add_tracks(lz3.tracks)\n",
    "catalog"
   ]
  },
  {
   "cell_type": "code",
   "execution_count": 33,
   "metadata": {},
   "outputs": [
    {
     "name": "stdout",
     "output_type": "stream",
     "text": [
      "Playing [The Rolling Stones] - Sticky Fingers - 1. Wild Horses\n",
      "Playing [The Rolling Stones] - Sticky Fingers - 2. Brown Sugar\n",
      "Playing [The Rolling Stones] - Sticky Fingers - 3. Honky Tonk\n",
      "Playing [Led Zeppelin] - III - 1. Na na naaa na\n",
      "Playing [The Rolling Stones] - Sticky Fingers - 2. Brown Sugar\n"
     ]
    },
    {
     "data": {
      "text/plain": [
       "Jukebox(JukeboxState.STOPPED: None)"
      ]
     },
     "execution_count": 33,
     "metadata": {},
     "output_type": "execute_result"
    }
   ],
   "source": [
    "import random\n",
    "\n",
    "\n",
    "class JukeboxState(Enum):\n",
    "    STOPPED = 0\n",
    "    PLAYING = 1\n",
    "\n",
    "\n",
    "class Jukebox:\n",
    "    def __init__(self, catalog: Catalog):\n",
    "        self.catalog = catalog\n",
    "        self.stop()\n",
    "\n",
    "    def play(self, catalog_index: int):\n",
    "        self.current_track = self.catalog.get_track(catalog_index)\n",
    "        self.state = JukeboxState.PLAYING\n",
    "        print(f\"Playing {self.current_track}\")\n",
    "\n",
    "    def play_random(self):\n",
    "        chosen_catalog_index = random.randint(0, len(self.catalog) - 1)\n",
    "        self.play(chosen_catalog_index)\n",
    "\n",
    "    def stop(self):\n",
    "        self.current_track = None\n",
    "        self.state = JukeboxState.STOPPED\n",
    "\n",
    "    def __repr__(self):\n",
    "        return f\"{self.__class__.__name__}({self.state}: {self.current_track})\"\n",
    "\n",
    "\n",
    "##### Testing ####\n",
    "\n",
    "juke = Jukebox(catalog)\n",
    "juke.play(0)\n",
    "juke.play_random()\n",
    "juke.play_random()\n",
    "juke.play_random()\n",
    "juke.play_random()\n",
    "juke.stop()\n",
    "juke"
   ]
  },
  {
   "cell_type": "code",
   "execution_count": null,
   "metadata": {},
   "outputs": [],
   "source": []
  },
  {
   "cell_type": "code",
   "execution_count": null,
   "metadata": {},
   "outputs": [],
   "source": []
  },
  {
   "cell_type": "code",
   "execution_count": null,
   "metadata": {},
   "outputs": [],
   "source": []
  },
  {
   "cell_type": "code",
   "execution_count": null,
   "metadata": {},
   "outputs": [],
   "source": []
  },
  {
   "cell_type": "code",
   "execution_count": null,
   "metadata": {},
   "outputs": [],
   "source": []
  },
  {
   "cell_type": "code",
   "execution_count": null,
   "metadata": {},
   "outputs": [],
   "source": []
  },
  {
   "cell_type": "code",
   "execution_count": null,
   "metadata": {},
   "outputs": [],
   "source": []
  },
  {
   "cell_type": "code",
   "execution_count": null,
   "metadata": {},
   "outputs": [],
   "source": []
  },
  {
   "cell_type": "code",
   "execution_count": null,
   "metadata": {},
   "outputs": [],
   "source": []
  },
  {
   "cell_type": "code",
   "execution_count": null,
   "metadata": {},
   "outputs": [],
   "source": []
  },
  {
   "cell_type": "code",
   "execution_count": null,
   "metadata": {},
   "outputs": [],
   "source": []
  }
 ],
 "metadata": {
  "kernelspec": {
   "display_name": "py311",
   "language": "python",
   "name": "python3"
  },
  "language_info": {
   "codemirror_mode": {
    "name": "ipython",
    "version": 3
   },
   "file_extension": ".py",
   "mimetype": "text/x-python",
   "name": "python",
   "nbconvert_exporter": "python",
   "pygments_lexer": "ipython3",
   "version": "3.11.3"
  },
  "orig_nbformat": 4
 },
 "nbformat": 4,
 "nbformat_minor": 2
}

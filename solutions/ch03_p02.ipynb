{
 "cells": [
  {
   "cell_type": "markdown",
   "metadata": {},
   "source": [
    "Stack Min: How would you design a stack which, in addition to push and pop, has a function min\n",
    "which returns the minimum element? Push, pop and min should all operate in 0(1) time."
   ]
  },
  {
   "cell_type": "code",
   "execution_count": null,
   "metadata": {},
   "outputs": [],
   "source": [
    "from stack_JM import Stack\n",
    "from queue_JM import Queue"
   ]
  },
  {
   "cell_type": "markdown",
   "metadata": {},
   "source": [
    "# Solution JM: keeping a stack with the minimums"
   ]
  },
  {
   "cell_type": "code",
   "execution_count": 23,
   "metadata": {},
   "outputs": [
    {
     "name": "stdout",
     "output_type": "stream",
     "text": [
      "Stack(3) -> stack.min = 3\n",
      "Stack(3.2) -> stack.min = 2\n",
      "Stack(3.2.2) -> stack.min = 2\n",
      "Stack(3.2.2.1) -> stack.min = 1\n",
      "Stack(3.2.2.1.2) -> stack.min = 1\n",
      "Stack(3.2.2.1.2.1) -> stack.min = 1\n",
      "Stack(3.2.2.1.2.1.3) -> stack.min = 1\n",
      "Stack(3.2.2.1.2.1.3.0) -> stack.min = 0\n",
      "Stack(3.2.2.1.2.1.3.0.3) -> stack.min = 0\n",
      "Stack(3.2.2.1.2.1.3.0) -> stack.min = 0\n",
      "Stack(3.2.2.1.2.1.3) -> stack.min = 1\n",
      "Stack(3.2.2.1.2.1) -> stack.min = 1\n",
      "Stack(3.2.2.1.2) -> stack.min = 1\n",
      "Stack(3.2.2.1) -> stack.min = 1\n",
      "Stack(3.2.2) -> stack.min = 2\n",
      "Stack(3.2) -> stack.min = 2\n",
      "Stack(3) -> stack.min = 3\n",
      "Stack() -> stack.min = None\n"
     ]
    }
   ],
   "source": [
    "class StackWithRunningMin(Stack):\n",
    "    def __init__(self):\n",
    "        super().__init__()\n",
    "        self.min_stack = Stack()\n",
    "\n",
    "    @property\n",
    "    def min(self):\n",
    "        return None if self.is_empty() else self.min_stack.peek()\n",
    "\n",
    "    def push(self, value):\n",
    "        super().push(value)\n",
    "        if self.min is None or value <= self.min:\n",
    "            self.min_stack.push(value)\n",
    "\n",
    "    def pop(self):\n",
    "        value = super().pop()\n",
    "        if value == self.min:\n",
    "            self.min_stack.pop()\n",
    "        return value\n",
    "\n",
    "\n",
    "stack = StackWithRunningMin()\n",
    "\n",
    "inputs = [3, 2, 2, 1, 2, 1, 3, 0, 3]\n",
    "\n",
    "for input_ in inputs:\n",
    "    stack.push(input_)\n",
    "    print(f\"{stack} -> {stack.min = }\")\n",
    "\n",
    "while not stack.is_empty():\n",
    "    stack.pop()\n",
    "    print(f\"{stack} -> {stack.min = }\")"
   ]
  },
  {
   "cell_type": "markdown",
   "metadata": {},
   "source": [
    "# Solution Gayle: making each node remember the minimum beneatch (including itself)"
   ]
  },
  {
   "cell_type": "code",
   "execution_count": 30,
   "metadata": {},
   "outputs": [
    {
     "name": "stdout",
     "output_type": "stream",
     "text": [
      "Stack(3) -> stack.min = 3\n",
      "Stack(3.2) -> stack.min = 2\n",
      "Stack(3.2.2) -> stack.min = 2\n",
      "Stack(3.2.2.1) -> stack.min = 1\n",
      "Stack(3.2.2.1.2) -> stack.min = 1\n",
      "Stack(3.2.2.1.2.1) -> stack.min = 1\n",
      "Stack(3.2.2.1.2.1.3) -> stack.min = 1\n",
      "Stack(3.2.2.1.2.1.3.0) -> stack.min = 0\n",
      "Stack(3.2.2.1.2.1.3.0.3) -> stack.min = 0\n",
      "Stack(3.2.2.1.2.1.3.0) -> stack.min = 0\n",
      "Stack(3.2.2.1.2.1.3) -> stack.min = 1\n",
      "Stack(3.2.2.1.2.1) -> stack.min = 1\n",
      "Stack(3.2.2.1.2) -> stack.min = 1\n",
      "Stack(3.2.2.1) -> stack.min = 1\n",
      "Stack(3.2.2) -> stack.min = 2\n",
      "Stack(3.2) -> stack.min = 2\n",
      "Stack(3) -> stack.min = 3\n",
      "Stack() -> stack.min = None\n"
     ]
    }
   ],
   "source": [
    "class StackWithMin(Stack):\n",
    "    def __init__(self):\n",
    "        super().__init__()\n",
    "\n",
    "    @property\n",
    "    def min(self):\n",
    "        return None if self.is_empty() else self.top.running_min\n",
    "\n",
    "    def push(self, value):\n",
    "        current_min = self.min\n",
    "        super().push(value)\n",
    "        if current_min is None or value < current_min:\n",
    "            current_min = value\n",
    "        self.top.running_min = current_min\n",
    "\n",
    "\n",
    "stack = StackWithMin()\n",
    "inputs = [3, 2, 2, 1, 2, 1, 3, 0, 3]\n",
    "\n",
    "for input_ in inputs:\n",
    "    stack.push(input_)\n",
    "    print(f\"{stack} -> {stack.min = }\")\n",
    "\n",
    "while not stack.is_empty():\n",
    "    stack.pop()\n",
    "    print(f\"{stack} -> {stack.min = }\")"
   ]
  },
  {
   "cell_type": "code",
   "execution_count": null,
   "metadata": {},
   "outputs": [],
   "source": []
  },
  {
   "cell_type": "code",
   "execution_count": null,
   "metadata": {},
   "outputs": [],
   "source": []
  },
  {
   "cell_type": "code",
   "execution_count": null,
   "metadata": {},
   "outputs": [],
   "source": []
  },
  {
   "cell_type": "code",
   "execution_count": null,
   "metadata": {},
   "outputs": [],
   "source": []
  },
  {
   "cell_type": "code",
   "execution_count": null,
   "metadata": {},
   "outputs": [],
   "source": []
  },
  {
   "cell_type": "code",
   "execution_count": null,
   "metadata": {},
   "outputs": [],
   "source": []
  },
  {
   "cell_type": "code",
   "execution_count": null,
   "metadata": {},
   "outputs": [],
   "source": []
  },
  {
   "cell_type": "code",
   "execution_count": null,
   "metadata": {},
   "outputs": [],
   "source": []
  },
  {
   "cell_type": "code",
   "execution_count": null,
   "metadata": {},
   "outputs": [],
   "source": []
  },
  {
   "cell_type": "code",
   "execution_count": null,
   "metadata": {},
   "outputs": [],
   "source": []
  },
  {
   "cell_type": "code",
   "execution_count": null,
   "metadata": {},
   "outputs": [],
   "source": []
  },
  {
   "cell_type": "code",
   "execution_count": null,
   "metadata": {},
   "outputs": [],
   "source": []
  },
  {
   "cell_type": "code",
   "execution_count": null,
   "metadata": {},
   "outputs": [],
   "source": []
  },
  {
   "cell_type": "code",
   "execution_count": null,
   "metadata": {},
   "outputs": [],
   "source": []
  },
  {
   "cell_type": "code",
   "execution_count": null,
   "metadata": {},
   "outputs": [],
   "source": []
  }
 ],
 "metadata": {
  "kernelspec": {
   "display_name": "py311",
   "language": "python",
   "name": "python3"
  },
  "language_info": {
   "codemirror_mode": {
    "name": "ipython",
    "version": 3
   },
   "file_extension": ".py",
   "mimetype": "text/x-python",
   "name": "python",
   "nbconvert_exporter": "python",
   "pygments_lexer": "ipython3",
   "version": "3.11.3"
  },
  "orig_nbformat": 4
 },
 "nbformat": 4,
 "nbformat_minor": 2
}

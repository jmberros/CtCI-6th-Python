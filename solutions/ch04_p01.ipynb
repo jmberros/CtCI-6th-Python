{
 "cells": [
  {
   "cell_type": "markdown",
   "metadata": {},
   "source": [
    "Route Between Nodes: Given a directed graph, design an algorithm to find out whether there is a\n",
    "route between two nodes."
   ]
  },
  {
   "cell_type": "markdown",
   "metadata": {},
   "source": [
    "## Without libraries"
   ]
  },
  {
   "cell_type": "markdown",
   "metadata": {},
   "source": [
    "### Bidirectional search"
   ]
  },
  {
   "cell_type": "code",
   "execution_count": 12,
   "metadata": {},
   "outputs": [
    {
     "data": {
      "text/plain": [
       "{2}"
      ]
     },
     "execution_count": 12,
     "metadata": {},
     "output_type": "execute_result"
    }
   ],
   "source": [
    "s1 = {1, 2}\n",
    "s2 = {2, 3}\n",
    "\n",
    "s1.intersection(s2)"
   ]
  },
  {
   "cell_type": "code",
   "execution_count": 15,
   "metadata": {},
   "outputs": [
    {
     "name": "stdout",
     "output_type": "stream",
     "text": [
      "defaultdict(<class 'list'>,\n",
      "            {1: [11, 12, 13, 14, 15],\n",
      "             12: [23],\n",
      "             23: [34],\n",
      "             34: [45],\n",
      "             45: [1],\n",
      "             'A': ['B', 'A1', 'A2', 'A3'],\n",
      "             'A3': ['A31'],\n",
      "             'B': ['C'],\n",
      "             'C': ['D'],\n",
      "             'D': [23]})\n",
      "queue_a = deque([11, 12, 13, 14, 15]), marked_a = {1}\n",
      "queue_b = deque(['B', 'A1', 'A2', 'A3']), marked_b = {'A'}\n",
      "---\n",
      "queue_a = deque([12, 13, 14, 15]), marked_a = {1, 11}\n",
      "queue_b = deque(['A1', 'A2', 'A3', 'C']), marked_b = {'B', 'A'}\n",
      "---\n",
      "queue_a = deque([13, 14, 15, 23]), marked_a = {1, 11, 12}\n",
      "queue_b = deque(['A2', 'A3', 'C']), marked_b = {'B', 'A1', 'A'}\n",
      "---\n",
      "queue_a = deque([14, 15, 23]), marked_a = {1, 11, 12, 13}\n",
      "queue_b = deque(['A3', 'C']), marked_b = {'B', 'A2', 'A1', 'A'}\n",
      "---\n",
      "queue_a = deque([15, 23]), marked_a = {1, 11, 12, 13, 14}\n",
      "queue_b = deque(['C', 'A31']), marked_b = {'A2', 'A1', 'B', 'A', 'A3'}\n",
      "---\n",
      "queue_a = deque([23]), marked_a = {1, 11, 12, 13, 14, 15}\n",
      "queue_b = deque(['A31', 'D']), marked_b = {'C', 'A2', 'A1', 'B', 'A', 'A3'}\n",
      "---\n",
      "queue_a = deque([34]), marked_a = {1, 11, 12, 13, 14, 15, 23}\n",
      "queue_b = deque(['D']), marked_b = {'C', 'A31', 'A2', 'A1', 'B', 'A', 'A3'}\n",
      "---\n",
      "queue_a = deque([45]), marked_a = {1, 34, 11, 12, 13, 14, 15, 23}\n",
      "queue_b = deque([23]), marked_b = {'C', 'A31', 'A2', 'A1', 'B', 'A', 'D', 'A3'}\n",
      "---\n",
      "PATH FOUND\n"
     ]
    }
   ],
   "source": [
    "from collections import defaultdict\n",
    "from collections import deque\n",
    "from pprint import pprint\n",
    "from itertools import zip_longest\n",
    "\n",
    "# Graph:\n",
    "# 1__{2, 10, 20}\n",
    "# |\n",
    "# 3__4__5__6__7\n",
    "#\n",
    "# X__Y__Z ( ---> ) 1\n",
    "# |\n",
    "# W\n",
    "\n",
    "edges = [\n",
    "    (1, 11), (1, 12), (1, 13), (1, 14), (1, 15),\n",
    "    (12, 23), (23, 34), (34, 45),\n",
    "    (45, 1), # Cycle!\n",
    "    (\"A\", \"B\"), (\"B\", \"C\"), (\"C\", \"D\"),\n",
    "    (\"A\", \"A1\"),\n",
    "    (\"A\", \"A2\"),\n",
    "    (\"A\", \"A3\"), (\"A3\", \"A31\"),\n",
    "    (\"D\", 23),\n",
    "\n",
    "]\n",
    "graph = defaultdict(list)  # Implement as a hash table of adjacencies per node\n",
    "\n",
    "for a, b in edges:\n",
    "    graph[a].append(b)\n",
    "\n",
    "pprint(graph)\n",
    "\n",
    "####\n",
    "\n",
    "a, b = 1, \"A\"\n",
    "####\n",
    "\n",
    "a_links = graph[a]\n",
    "b_links = graph[b]\n",
    "\n",
    "# BFS\n",
    "queue = deque()\n",
    "marked_a = set()\n",
    "\n",
    "queue_b = deque()\n",
    "marked_b = set()\n",
    "\n",
    "queue_a.append(a)\n",
    "marked_a.add(a)\n",
    "\n",
    "queue_b.append(b)\n",
    "marked_b.add(b)\n",
    "\n",
    "while len(queue_a) or len(queue_b):\n",
    "    if len(queue_a):\n",
    "        node_a = queue_a.popleft()\n",
    "        marked_a.add(node_a)\n",
    "\n",
    "    if len(queue_b):\n",
    "        node_b = queue_b.popleft()\n",
    "        marked_b.add(node_b)\n",
    "\n",
    "    if marked_a.intersection(marked_b):\n",
    "        print(\"PATH FOUND\")\n",
    "        break\n",
    "\n",
    "    neighbors_a = graph.get(node_a, [])\n",
    "    neighbors_b = graph.get(node_b, [])\n",
    "\n",
    "    for neighbor_a, neighbor_b in zip_longest(neighbors_a, neighbors_b):\n",
    "        if neighbor_a and neighbor_a not in marked_a:\n",
    "            queue_a.append(neighbor_a)\n",
    "        if neighbor_b and neighbor_b not in marked_b:\n",
    "            queue_b.append(neighbor_b)\n",
    "\n",
    "    print(f\"{queue_a = }, {marked_a = }\")\n",
    "    print(f\"{queue_b = }, {marked_b = }\")\n",
    "    print(\"---\")"
   ]
  },
  {
   "cell_type": "markdown",
   "metadata": {},
   "source": [
    "##  Second take at Bidirectional BFS -- Only one Queue"
   ]
  },
  {
   "cell_type": "code",
   "execution_count": 24,
   "metadata": {},
   "outputs": [],
   "source": [
    "from collections import defaultdict\n",
    "\n",
    "\n",
    "edges = [\n",
    "    (1, 11), (1, 12), (1, 13), (1, 14), (1, 15),\n",
    "    (12, 23), (23, 34), (34, 45),\n",
    "    (45, 1), # Cycle!\n",
    "    (\"A\", \"B\"), (\"B\", \"C\"), (\"C\", \"D\"),\n",
    "    (\"A\", \"A1\"),\n",
    "    (\"A\", \"A2\"),\n",
    "    (\"A\", \"A3\"), (\"A3\", \"A31\"),\n",
    "    (\"D\", 23),\n",
    "\n",
    "]\n",
    "graph = defaultdict(list)\n",
    "for a, b in edges:\n",
    "    graph[a].append(b)"
   ]
  },
  {
   "cell_type": "code",
   "execution_count": 27,
   "metadata": {},
   "outputs": [
    {
     "name": "stdout",
     "output_type": "stream",
     "text": [
      "Visiting: 1, Children: [11, 12, 13, 14, 15]\n",
      "Visiting: A, Children: ['B', 'A1', 'A2', 'A3']\n",
      "Visiting: 11, Children: []\n",
      "Visiting: 12, Children: [23]\n",
      "Visiting: 13, Children: []\n",
      "Visiting: 14, Children: []\n",
      "Visiting: 15, Children: []\n",
      "Visiting: B, Children: ['C']\n",
      "Visiting: A1, Children: []\n",
      "Visiting: A2, Children: []\n",
      "Visiting: A3, Children: ['A31']\n",
      "Visiting: 23, Children: [34]\n",
      "Visiting: C, Children: ['D']\n",
      "Visiting: A31, Children: []\n",
      "Visiting: 34, Children: [45]\n",
      "Visiting: D, Children: [23]\n",
      "Visiting: 45, Children: [1]\n",
      "Visiting: 23, Children: [34]\n",
      "A path has been found!\n"
     ]
    }
   ],
   "source": [
    "from collections import deque\n",
    "\n",
    "\n",
    "start, end = 1, \"A\"\n",
    "####\n",
    "\n",
    "# Worst case: O(N + M)\n",
    "# If there is a route: O(K^{d/2}) where K is avg connections, d degree of sep\n",
    "\n",
    "def is_route_bidirectional(graph: dict, start, end) -> bool:\n",
    "    # TODO: Docstring\n",
    "    to_visit = deque()\n",
    "    to_visit.append(start)\n",
    "    to_visit.append(end)\n",
    "    visited_start = {start}\n",
    "    visited_end = {end}\n",
    "\n",
    "    while to_visit:\n",
    "        parent = to_visit.popleft()\n",
    "\n",
    "        if parent in visited_start and parent in visited_end:\n",
    "            return True\n",
    "\n",
    "        for child in graph[parent]:\n",
    "            if parent in visited_start and child not in visited_start:\n",
    "                to_visit.append(child)\n",
    "                visited_start.add(child)\n",
    "\n",
    "            if parent in visited_end and child not in visited_end:\n",
    "                to_visit.append(child)\n",
    "                visited_end.add(child)\n",
    "\n",
    "    return False"
   ]
  },
  {
   "cell_type": "markdown",
   "metadata": {},
   "source": [
    "## Gayle 1: BFS"
   ]
  },
  {
   "cell_type": "code",
   "execution_count": 50,
   "metadata": {},
   "outputs": [
    {
     "data": {
      "text/plain": [
       "False"
      ]
     },
     "execution_count": 50,
     "metadata": {},
     "output_type": "execute_result"
    }
   ],
   "source": [
    "from enum import Enum\n",
    "from collections import deque\n",
    "\n",
    "\n",
    "graph = {\n",
    "    1: [2],\n",
    "    2: [3],\n",
    "    3: [4],\n",
    "    4: [1, 5],\n",
    "    5: [6, 7, 8, 9, 10, 11],\n",
    "}\n",
    "\n",
    "def get_children(node, graph):\n",
    "    return graph.get(node, [])\n",
    "\n",
    "def is_route_BFS(start, end, graph):\n",
    "    if start == end:\n",
    "        return True\n",
    "    \n",
    "    to_visit = deque([start])\n",
    "    visited = {start}\n",
    "\n",
    "    while to_visit:\n",
    "        node = to_visit.popleft()\n",
    "        for child in get_children(node, graph):\n",
    "            if child in visited:\n",
    "                continue\n",
    "            if child == end:\n",
    "                return True\n",
    "            to_visit.append(child)\n",
    "            visited.add(child)\n",
    "\n",
    "    return False\n",
    "\n",
    "\n",
    "is_route_BFS(1, 0, graph)"
   ]
  },
  {
   "cell_type": "code",
   "execution_count": null,
   "metadata": {},
   "outputs": [],
   "source": []
  },
  {
   "cell_type": "code",
   "execution_count": null,
   "metadata": {},
   "outputs": [],
   "source": []
  },
  {
   "cell_type": "code",
   "execution_count": null,
   "metadata": {},
   "outputs": [],
   "source": []
  },
  {
   "cell_type": "code",
   "execution_count": null,
   "metadata": {},
   "outputs": [],
   "source": []
  },
  {
   "cell_type": "code",
   "execution_count": null,
   "metadata": {},
   "outputs": [],
   "source": []
  },
  {
   "cell_type": "code",
   "execution_count": null,
   "metadata": {},
   "outputs": [],
   "source": []
  },
  {
   "cell_type": "code",
   "execution_count": null,
   "metadata": {},
   "outputs": [],
   "source": []
  },
  {
   "cell_type": "code",
   "execution_count": null,
   "metadata": {},
   "outputs": [],
   "source": []
  }
 ],
 "metadata": {
  "kernelspec": {
   "display_name": "py311",
   "language": "python",
   "name": "python3"
  },
  "language_info": {
   "codemirror_mode": {
    "name": "ipython",
    "version": 3
   },
   "file_extension": ".py",
   "mimetype": "text/x-python",
   "name": "python",
   "nbconvert_exporter": "python",
   "pygments_lexer": "ipython3",
   "version": "3.11.3"
  },
  "orig_nbformat": 4
 },
 "nbformat": 4,
 "nbformat_minor": 2
}

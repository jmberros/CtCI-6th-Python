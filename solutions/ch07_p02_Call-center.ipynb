{
 "cells": [
  {
   "cell_type": "markdown",
   "metadata": {},
   "source": [
    "# Call Center\n",
    "\n",
    "- Imagine you have a call center with three levels of employees: `respondent`, `manager`, and `director`.\n",
    "- An incoming telephone call must be first allocated to a `respondent` **who is free**.\n",
    "- If the `respondent` can't handle the call, he or she must escalate the call to a `manager`.\n",
    "- If the `manager` is not free or not able to handle it, then the call should be escalated to a `director`.\n",
    "- Design the classes and data structures for this problem.\n",
    "- Implement a method `dispatchCall()` which assigns a call to the first available employee."
   ]
  },
  {
   "cell_type": "code",
   "execution_count": 13,
   "metadata": {},
   "outputs": [
    {
     "name": "stdout",
     "output_type": "stream",
     "text": [
      "EmployeeType.RESPONDENT[140309378386320] taking the call\n",
      "EmployeeType.RESPONDENT[140309378664592] taking the call\n",
      "EmployeeType.RESPONDENT[140309378672016] taking the call\n",
      "EmployeeType.RESPONDENT[140309378670928] taking the call\n",
      "EmployeeType.RESPONDENT[140309378665168] taking the call\n",
      "EmployeeType.MANAGER[140309378675472] taking the call\n",
      "EmployeeType.MANAGER[140309378673360] taking the call\n",
      "EmployeeType.DIRECTOR[140309378671568] taking the call\n"
     ]
    },
    {
     "ename": "NoFreeEmployeesException",
     "evalue": "",
     "output_type": "error",
     "traceback": [
      "\u001b[0;31m---------------------------------------------------------------------------\u001b[0m",
      "\u001b[0;31mNoFreeEmployeesException\u001b[0m                  Traceback (most recent call last)",
      "Cell \u001b[0;32mIn[13], line 60\u001b[0m\n\u001b[1;32m     57\u001b[0m call_center \u001b[39m=\u001b[39m CallCenter(n_respondents\u001b[39m=\u001b[39m\u001b[39m5\u001b[39m, n_managers\u001b[39m=\u001b[39m\u001b[39m2\u001b[39m, n_directors\u001b[39m=\u001b[39m\u001b[39m1\u001b[39m)\n\u001b[1;32m     59\u001b[0m \u001b[39mwhile\u001b[39;00m \u001b[39mTrue\u001b[39;00m:\n\u001b[0;32m---> 60\u001b[0m     employee \u001b[39m=\u001b[39m call_center\u001b[39m.\u001b[39;49mdispatch_call()\n\u001b[1;32m     61\u001b[0m     \u001b[39mprint\u001b[39m(employee, \u001b[39m\"\u001b[39m\u001b[39mtaking the call\u001b[39m\u001b[39m\"\u001b[39m)\n",
      "Cell \u001b[0;32mIn[13], line 51\u001b[0m, in \u001b[0;36mCallCenter.dispatch_call\u001b[0;34m(self)\u001b[0m\n\u001b[1;32m     49\u001b[0m \u001b[39mdef\u001b[39;00m \u001b[39mdispatch_call\u001b[39m(\u001b[39mself\u001b[39m):\n\u001b[1;32m     50\u001b[0m     \u001b[39m# TODO: Docstring\u001b[39;00m\n\u001b[0;32m---> 51\u001b[0m     employee \u001b[39m=\u001b[39m \u001b[39mself\u001b[39;49m\u001b[39m.\u001b[39;49mget_free_employee()\n\u001b[1;32m     52\u001b[0m     employee\u001b[39m.\u001b[39mtake_call()\n\u001b[1;32m     53\u001b[0m     \u001b[39mreturn\u001b[39;00m employee\n",
      "Cell \u001b[0;32mIn[13], line 47\u001b[0m, in \u001b[0;36mCallCenter.get_free_employee\u001b[0;34m(self)\u001b[0m\n\u001b[1;32m     45\u001b[0m     \u001b[39mif\u001b[39;00m employee\u001b[39m.\u001b[39mis_free():\n\u001b[1;32m     46\u001b[0m         \u001b[39mreturn\u001b[39;00m employee    \n\u001b[0;32m---> 47\u001b[0m \u001b[39mraise\u001b[39;00m NoFreeEmployeesException\n",
      "\u001b[0;31mNoFreeEmployeesException\u001b[0m: "
     ]
    }
   ],
   "source": [
    "from enum import Enum\n",
    "from typing import Optional\n",
    "\n",
    "\n",
    "class NoFreeEmployeesException(Exception):\n",
    "    pass\n",
    "\n",
    "\n",
    "class EmployeeType(Enum):\n",
    "    RESPONDENT = 0\n",
    "    MANAGER = 1\n",
    "    DIRECTOR = 2\n",
    "\n",
    "\n",
    "class Employee:\n",
    "    def __init__(self, employee_type: EmployeeType):\n",
    "        self.occupied = False\n",
    "        self.type = employee_type\n",
    "\n",
    "    def __repr__(self):\n",
    "        return f\"{self.type}[{id(self)}]\"\n",
    "\n",
    "    def take_call(self):\n",
    "        # TODO Raise if they can't take the call?\n",
    "        self.occupied = True\n",
    "\n",
    "    def is_free(self):\n",
    "        return not self.occupied\n",
    "\n",
    "    # ! Not neede for now, remove?\n",
    "    def finish_call(self):\n",
    "        self.occupied = False\n",
    "\n",
    "\n",
    "class CallCenter:\n",
    "    def __init__(self, n_respondents: int, n_managers: int, n_directors: int):\n",
    "        self.respondents = [Employee(EmployeeType.RESPONDENT) for _ in range(n_respondents)]\n",
    "        self.managers = [Employee(EmployeeType.MANAGER) for _ in range(n_managers)]\n",
    "        self.directors = [Employee(EmployeeType.DIRECTOR) for _ in range(n_directors)]\n",
    "\n",
    "    def get_free_employee(self) -> Employee:\n",
    "        # TODO: Docstring\n",
    "        employees = self.respondents + self.managers + self.directors\n",
    "        for employee in employees:\n",
    "            if employee.is_free():\n",
    "                return employee    \n",
    "        raise NoFreeEmployeesException\n",
    "\n",
    "    def dispatch_call(self):\n",
    "        # TODO: Docstring\n",
    "        employee = self.get_free_employee()\n",
    "        employee.take_call()\n",
    "        return employee\n",
    "    \n",
    "\n",
    "######\n",
    "call_center = CallCenter(n_respondents=5, n_managers=2, n_directors=1)\n",
    "\n",
    "while True:\n",
    "    employee = call_center.dispatch_call()\n",
    "    print(employee, \"taking the call\")"
   ]
  },
  {
   "cell_type": "code",
   "execution_count": null,
   "metadata": {},
   "outputs": [],
   "source": []
  },
  {
   "cell_type": "code",
   "execution_count": null,
   "metadata": {},
   "outputs": [],
   "source": []
  },
  {
   "cell_type": "code",
   "execution_count": null,
   "metadata": {},
   "outputs": [],
   "source": []
  },
  {
   "cell_type": "code",
   "execution_count": null,
   "metadata": {},
   "outputs": [],
   "source": []
  },
  {
   "cell_type": "code",
   "execution_count": null,
   "metadata": {},
   "outputs": [],
   "source": []
  },
  {
   "cell_type": "code",
   "execution_count": null,
   "metadata": {},
   "outputs": [],
   "source": []
  },
  {
   "cell_type": "code",
   "execution_count": null,
   "metadata": {},
   "outputs": [],
   "source": []
  },
  {
   "cell_type": "code",
   "execution_count": null,
   "metadata": {},
   "outputs": [],
   "source": []
  },
  {
   "cell_type": "code",
   "execution_count": null,
   "metadata": {},
   "outputs": [],
   "source": []
  }
 ],
 "metadata": {
  "kernelspec": {
   "display_name": "py311",
   "language": "python",
   "name": "python3"
  },
  "language_info": {
   "codemirror_mode": {
    "name": "ipython",
    "version": 3
   },
   "file_extension": ".py",
   "mimetype": "text/x-python",
   "name": "python",
   "nbconvert_exporter": "python",
   "pygments_lexer": "ipython3",
   "version": "3.11.3"
  },
  "orig_nbformat": 4
 },
 "nbformat": 4,
 "nbformat_minor": 2
}

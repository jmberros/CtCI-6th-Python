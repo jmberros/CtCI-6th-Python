{
 "cells": [
  {
   "cell_type": "markdown",
   "metadata": {},
   "source": [
    "R�mov� Dups! Write code to remove duplicates from an unsorted linked list.\n",
    "\n",
    "FOLLOW UP\n",
    "\n",
    "How would you solve this problem if a temporary buffer is not allowed?"
   ]
  },
  {
   "cell_type": "code",
   "execution_count": 33,
   "metadata": {},
   "outputs": [],
   "source": [
    "from linked_list_JM import LinkedList, LinkedListNode\n",
    "\n",
    "TEST_CASES = [\n",
    "    # ([], []),\n",
    "    ([1, 1, 1, 1, 1, 1], [1]),\n",
    "    ([1, 2, 3, 2], [1, 2, 3]),\n",
    "    ([1, 2, 2, 3], [1, 2, 3]),\n",
    "    ([1, 1, 2, 3], [1, 2, 3]),\n",
    "    ([1, 2, 3], [1, 2, 3]),\n",
    "]\n",
    "\n",
    "def run_test_cases(f):\n",
    "    for inputs, expected_result in TEST_CASES:\n",
    "        expected_result = LinkedList(expected_result)\n",
    "        try:\n",
    "            result = f(LinkedList(inputs))\n",
    "        except Exception:\n",
    "            print(f\"Failed with input: {inputs}\")\n",
    "            raise\n",
    "        if result != expected_result:\n",
    "            print(f\"f({', '.join(str(i) for i in inputs)}) = {result} != {expected_result}\")\n",
    "            return\n",
    "\n",
    "    print(\"everything OK\")"
   ]
  },
  {
   "cell_type": "code",
   "execution_count": 35,
   "metadata": {},
   "outputs": [
    {
     "data": {
      "text/plain": [
       "LinkedList(1)"
      ]
     },
     "execution_count": 35,
     "metadata": {},
     "output_type": "execute_result"
    }
   ],
   "source": [
    "\n",
    "def remove_duplicates(ll: LinkedList):\n",
    "    seen_values = []\n",
    "    last_node = None\n",
    "\n",
    "    for node in ll:\n",
    "        if node.value in seen_values:\n",
    "            last_node.next = node.next  # Skip the current node\n",
    "            # print(f\"Skipping {node}\")\n",
    "            continue\n",
    "\n",
    "        seen_values.append(node.value)\n",
    "        last_node = node\n",
    "        # print(seen_values)\n",
    "\n",
    "    return ll\n",
    "    \n",
    "ll = LinkedList([1, 1, 1, 1, 1, 1])\n",
    "\n",
    "remove_duplicates(ll)"
   ]
  },
  {
   "cell_type": "code",
   "execution_count": 36,
   "metadata": {},
   "outputs": [
    {
     "name": "stdout",
     "output_type": "stream",
     "text": [
      "everything OK\n"
     ]
    }
   ],
   "source": [
    "run_test_cases(remove_duplicates)"
   ]
  },
  {
   "cell_type": "code",
   "execution_count": 37,
   "metadata": {},
   "outputs": [
    {
     "name": "stdout",
     "output_type": "stream",
     "text": [
      "LinkedList(1-1-1-2-2-3-4-3-5)\n",
      "LinkedList(1-2-3-4-5)\n"
     ]
    }
   ],
   "source": [
    "# def remove_duplicates_2(ll: LinkedList):\n",
    "\n",
    "ll = LinkedList([1, 1, 1, 2, 2, 3, 4, 3, 5])\n",
    "print(ll)\n",
    "print(remove_duplicates(ll))"
   ]
  },
  {
   "cell_type": "code",
   "execution_count": 41,
   "metadata": {},
   "outputs": [
    {
     "name": "stdout",
     "output_type": "stream",
     "text": [
      "everything OK\n"
     ]
    }
   ],
   "source": [
    "# ll = LinkedList([1, 1, 1, 2, 2, 2, 2, 3, 4, 3, 5])\n",
    "\n",
    "def remove_duplicates_2(ll: LinkedList):\n",
    "    current = other = ll.head\n",
    "    while current is not None:\n",
    "        # print(f\"{current = }\")\n",
    "        other = current\n",
    "        while other.next is not None:\n",
    "            if other.next.value == current.value:\n",
    "                # print(f\"Skipping {other.next}\")\n",
    "                other.next = other.next.next  # Skip the next one\n",
    "            else:\n",
    "                other = other.next\n",
    "        current = current.next\n",
    "\n",
    "    return ll\n",
    "\n",
    "run_test_cases(remove_duplicates_2)\n"
   ]
  },
  {
   "cell_type": "code",
   "execution_count": null,
   "metadata": {},
   "outputs": [],
   "source": []
  }
 ],
 "metadata": {
  "kernelspec": {
   "display_name": "py311",
   "language": "python",
   "name": "python3"
  },
  "language_info": {
   "codemirror_mode": {
    "name": "ipython",
    "version": 3
   },
   "file_extension": ".py",
   "mimetype": "text/x-python",
   "name": "python",
   "nbconvert_exporter": "python",
   "pygments_lexer": "ipython3",
   "version": "3.11.3"
  },
  "orig_nbformat": 4
 },
 "nbformat": 4,
 "nbformat_minor": 2
}

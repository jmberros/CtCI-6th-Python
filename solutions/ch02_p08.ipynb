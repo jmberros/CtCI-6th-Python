{
 "cells": [
  {
   "cell_type": "markdown",
   "metadata": {},
   "source": [
    "Loop Detection: Given a circular linked list, implement an algorithm that returns the node at the\n",
    "beginning of the loop.\n",
    "\n",
    "DEFINITION\n",
    "\n",
    "Circular linked list: A (corrupt) linked list in which a node's next pointer points to an earlier node, so\n",
    "as to make a loop in the linked list.\n",
    "```\n",
    "EXAMPLE\n",
    "Input: A -> B -> C -> D -> E -> C [the same C as earlier]\n",
    "Output: C\n",
    "```\n",
    "Hints: #50, #69, #83, #90\n"
   ]
  },
  {
   "cell_type": "code",
   "execution_count": 2,
   "metadata": {},
   "outputs": [],
   "source": [
    "from linked_list_JM import LinkedList as LL, LinkedListNode as LLN"
   ]
  },
  {
   "cell_type": "code",
   "execution_count": 3,
   "metadata": {},
   "outputs": [
    {
     "data": {
      "text/plain": [
       "LinkedList(A::B::C::D::E::C::D::E::C::D::E::C::D::E::C::D::E::C::D::E::C:)"
      ]
     },
     "execution_count": 3,
     "metadata": {},
     "output_type": "execute_result"
    }
   ],
   "source": [
    "ll = LL(\"ABCDE\")\n",
    "\n",
    "c_node = ll.find(\"C\")\n",
    "\n",
    "# Circularity:\n",
    "ll.tail.next = c_node\n",
    "ll"
   ]
  },
  {
   "cell_type": "markdown",
   "metadata": {},
   "source": [
    "# Using a Hashmap"
   ]
  },
  {
   "cell_type": "code",
   "execution_count": 9,
   "metadata": {},
   "outputs": [
    {
     "data": {
      "text/plain": [
       ":C:"
      ]
     },
     "execution_count": 9,
     "metadata": {},
     "output_type": "execute_result"
    }
   ],
   "source": [
    "from typing import Optional\n",
    "\n",
    "\n",
    "# O(N) time\n",
    "# O(1) space\n",
    "\n",
    "def find_beginning_of_loop(head: LLN) -> Optional[LLN]:\n",
    "    seen_nodes = set()\n",
    "\n",
    "    node = head\n",
    "    while node:\n",
    "        if node in seen_nodes:\n",
    "            return node\n",
    "        \n",
    "        seen_nodes.add(node)\n",
    "        node = node.next\n",
    "        \n",
    "    return None\n",
    "\n",
    "\n",
    "find_beginning_of_loop(LL(1, 2, 3).head)\n",
    "find_beginning_of_loop(ll.head)"
   ]
  },
  {
   "cell_type": "markdown",
   "metadata": {},
   "source": [
    "# Using the Fast/Slow runner approach because they insist"
   ]
  },
  {
   "cell_type": "code",
   "execution_count": 11,
   "metadata": {},
   "outputs": [
    {
     "data": {
      "text/plain": [
       ":D:"
      ]
     },
     "execution_count": 11,
     "metadata": {},
     "output_type": "execute_result"
    }
   ],
   "source": [
    "# I'm implementing this from memory, I'm too lazy to do the math and\n",
    "# see for myself that it really should work\n",
    "\n",
    "def find_beginning_of_loop_2(head: LLN) -> Optional[LLN]:\n",
    "    slow = head\n",
    "    fast = head\n",
    "\n",
    "    while fast and fast.next:\n",
    "        fast = fast.next.next\n",
    "        slow = slow.next\n",
    "\n",
    "        if slow is fast:  # Collision somewhere in the loop\n",
    "            break\n",
    "\n",
    "    # In case there was no collision and fast reached the end of the list\n",
    "    if fast is None or fast.next is None:\n",
    "        return None\n",
    "\n",
    "    # Some algebra should show that they will meet at the start of the loop exactly:\n",
    "    slow = head\n",
    "    while slow is not fast:\n",
    "        slow = slow.next\n",
    "\n",
    "    return slow  # or fast, they have collided again\n",
    "\n",
    "\n",
    "find_beginning_of_loop_2(LL(1, 2, 3).head)\n",
    "find_beginning_of_loop_2(ll.head)"
   ]
  },
  {
   "cell_type": "code",
   "execution_count": null,
   "metadata": {},
   "outputs": [],
   "source": []
  },
  {
   "cell_type": "code",
   "execution_count": null,
   "metadata": {},
   "outputs": [],
   "source": []
  },
  {
   "cell_type": "code",
   "execution_count": null,
   "metadata": {},
   "outputs": [],
   "source": []
  },
  {
   "cell_type": "code",
   "execution_count": null,
   "metadata": {},
   "outputs": [],
   "source": []
  },
  {
   "cell_type": "code",
   "execution_count": null,
   "metadata": {},
   "outputs": [],
   "source": []
  },
  {
   "cell_type": "code",
   "execution_count": null,
   "metadata": {},
   "outputs": [],
   "source": []
  }
 ],
 "metadata": {
  "kernelspec": {
   "display_name": "py311",
   "language": "python",
   "name": "python3"
  },
  "language_info": {
   "codemirror_mode": {
    "name": "ipython",
    "version": 3
   },
   "file_extension": ".py",
   "mimetype": "text/x-python",
   "name": "python",
   "nbconvert_exporter": "python",
   "pygments_lexer": "ipython3",
   "version": "3.11.3"
  },
  "orig_nbformat": 4
 },
 "nbformat": 4,
 "nbformat_minor": 2
}

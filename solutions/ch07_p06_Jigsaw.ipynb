{
 "cells": [
  {
   "cell_type": "markdown",
   "metadata": {},
   "source": [
    "# Jigsaw\n",
    "\n",
    "- Implement an NxN jigsaw puzzle.\n",
    "- Design the data structures and explain an algorithm to solve the puzzle.\n",
    "- You can assume that you have a `fitsWith` method which, when passed two puzzle edges, returns `true` if the two edges belong together."
   ]
  },
  {
   "cell_type": "code",
   "execution_count": 8,
   "metadata": {},
   "outputs": [
    {
     "data": {
      "text/plain": [
       "[[21, 10, 15, 11, 2],\n",
       " [4, 22, 17, 6, 7],\n",
       " [14, 12, 3, 19, 24],\n",
       " [16, 8, 5, 23, 1],\n",
       " [13, 20, 9, 18, 0]]"
      ]
     },
     "execution_count": 8,
     "metadata": {},
     "output_type": "execute_result"
    }
   ],
   "source": [
    "import numpy as np\n",
    "import random\n",
    "\n",
    "\n",
    "pieces = list(range(25))\n",
    "random.shuffle(pieces)\n",
    "\n",
    "puzzle_a = np.array(pieces).reshape(5, 5)\n",
    "puzzle_l = puzzlez.tolist()\n",
    "puzzle_l"
   ]
  },
  {
   "cell_type": "code",
   "execution_count": 53,
   "metadata": {},
   "outputs": [
    {
     "data": {
      "text/plain": [
       "[21, 10, 15, 11, 02]\n",
       "[04, 22, 17, 06, 07]\n",
       "[14, 12, 03, 19, 24]\n",
       "[16, 08, 05, 23, 01]\n",
       "[13, 20, 09, 18, 00]"
      ]
     },
     "metadata": {},
     "output_type": "display_data"
    },
    {
     "data": {
      "text/plain": [
       "True"
      ]
     },
     "execution_count": 53,
     "metadata": {},
     "output_type": "execute_result"
    }
   ],
   "source": [
    "from enum import Enum\n",
    "\n",
    "\n",
    "def fits_with(edge1: \"Edge\", edge2: \"Edge\", N: int) -> bool:\n",
    "    if edge1.is_border() or edge2.is_border():\n",
    "        return False\n",
    "    \n",
    "    locations = {edge1.location, edge2.location}\n",
    "    vertical_fit = locations == {EdgeLocation.TOP, EdgeLocation.BOTTOM}\n",
    "    horizontal_fit = locations == {EdgeLocation.LEFT, EdgeLocation.RIGHT}\n",
    "\n",
    "    if not vertical_fit and not horizontal_fit:\n",
    "        return False\n",
    "    \n",
    "    if vertical_fit:\n",
    "        if edge1.location == EdgeLocation.TOP:\n",
    "            return edge1.piece_value == edge2.piece_value - N\n",
    "        else:  # edge1 is BOTTOM\n",
    "            return edge2.piece_value == edge1.piece_value + N\n",
    "    else:\n",
    "        if edge1.location == EdgeLocation.LEFT:\n",
    "            return edge1.piece_value == edge2.piece_value - 1\n",
    "        else:  # edge1 is RIGHT\n",
    "            return edge2.piece_value == edge1.piece_value + 1\n",
    "\n",
    "\n",
    "class EdgeLocation(Enum):\n",
    "    TOP = 0\n",
    "    LEFT = 1\n",
    "    BOTTOM = 2\n",
    "    RIGHT = 3\n",
    "\n",
    "\n",
    "class Edge:\n",
    "    def __init__(self, piece_value: int, location: EdgeLocation, N: int):\n",
    "        self.piece_value = piece_value\n",
    "        self.location = location\n",
    "        self.N = N\n",
    "        self.top_row_values = set(range(N))\n",
    "        self.bottom_row_values = set(range((N - 1) * N, N * N))\n",
    "        self.left_col_values = set(range(0, N * N, N))\n",
    "        self.right_col_values = set(range(N - 1, N * N, N))\n",
    "\n",
    "    def fits_with(self, other: \"Edge\") -> bool:\n",
    "        return fits_with(self, other, self.N)\n",
    "    \n",
    "    def is_border(self) -> bool:\n",
    "        if self.location == EdgeLocation.TOP:\n",
    "            return self.piece_value in self.top_row_values\n",
    "        elif self.location == EdgeLocation.BOTTOM:\n",
    "            return self.piece_value in self.bottom_row_values\n",
    "        elif self.location == EdgeLocation.RIGHT:\n",
    "            return self.piece_value in self.right_col_values\n",
    "        elif self.location == EdgeLocation.LEFT:\n",
    "            return self.piece_value in self.left_col_values\n",
    "\n",
    "        \n",
    "    def __repr__(self):\n",
    "        return f\"{self.piece_value}-{self.location.name}\"\n",
    "\n",
    "\n",
    "class Piece:\n",
    "    def __init__(self, value: int, N: int):\n",
    "        self.value = value\n",
    "        self.top, self.left, self.bottom, self.right = [Edge(value, loc, N) for loc in EdgeLocation]\n",
    "\n",
    "    def __repr__(self):\n",
    "        return f\"{self.value:02}\"\n",
    "\n",
    "\n",
    "# IDEA: Make them fit by +1 -1 +N -N\n",
    "\n",
    "\n",
    "class Puzzle:\n",
    "    def __init__(self, pieces: list[list[int]]):\n",
    "        # ! Docstring: clarify that pieces should be set by row, as a numpy 2D-array\n",
    "        self.pieces = np.zeros_like(np.array(pieces)).tolist()\n",
    "        self.N = len(self.pieces)\n",
    "        for i, row in enumerate(pieces):\n",
    "            for j, value in enumerate(row):\n",
    "                self.pieces[i][j] = Piece(value, self.N)\n",
    "\n",
    "    def solve(self):\n",
    "        # TODO Seguir Aca!\n",
    "        # for row in self.pieces:\n",
    "        #     for value in row:\n",
    "\n",
    "\n",
    "    def __repr__(self):\n",
    "        return \"\\n\".join(str(row) for row in self.pieces)\n",
    "\n",
    "    def __getitem__(self, ij: tuple[int, int]):\n",
    "        i, j = ij\n",
    "        return self.pieces[i][j]\n",
    "\n",
    "    \n",
    "puzzle = Puzzle(puzzle_l)\n",
    "display(puzzle)\n",
    "puzzle[0, 0].right.fits_with(puzzle[1, 1].left)"
   ]
  },
  {
   "cell_type": "code",
   "execution_count": 54,
   "metadata": {},
   "outputs": [
    {
     "data": {
      "text/plain": [
       "(21, 22)"
      ]
     },
     "execution_count": 54,
     "metadata": {},
     "output_type": "execute_result"
    }
   ],
   "source": [
    "p1 = puzzle[0, 0]\n",
    "p2 = puzzle[1, 1]\n",
    "\n",
    "p1, p2"
   ]
  },
  {
   "cell_type": "code",
   "execution_count": 55,
   "metadata": {},
   "outputs": [
    {
     "data": {
      "text/plain": [
       "(21-RIGHT, 22-LEFT)"
      ]
     },
     "execution_count": 55,
     "metadata": {},
     "output_type": "execute_result"
    }
   ],
   "source": [
    "p1.right, p2.left"
   ]
  },
  {
   "cell_type": "code",
   "execution_count": 56,
   "metadata": {},
   "outputs": [
    {
     "data": {
      "text/plain": [
       "True"
      ]
     },
     "execution_count": 56,
     "metadata": {},
     "output_type": "execute_result"
    }
   ],
   "source": [
    "p1.right.fits_with(p2.left)"
   ]
  },
  {
   "cell_type": "code",
   "execution_count": null,
   "metadata": {},
   "outputs": [],
   "source": []
  },
  {
   "cell_type": "code",
   "execution_count": null,
   "metadata": {},
   "outputs": [],
   "source": []
  },
  {
   "cell_type": "code",
   "execution_count": null,
   "metadata": {},
   "outputs": [],
   "source": []
  },
  {
   "cell_type": "code",
   "execution_count": null,
   "metadata": {},
   "outputs": [],
   "source": []
  },
  {
   "cell_type": "code",
   "execution_count": null,
   "metadata": {},
   "outputs": [],
   "source": []
  },
  {
   "cell_type": "code",
   "execution_count": null,
   "metadata": {},
   "outputs": [],
   "source": []
  }
 ],
 "metadata": {
  "kernelspec": {
   "display_name": "py311",
   "language": "python",
   "name": "python3"
  },
  "language_info": {
   "codemirror_mode": {
    "name": "ipython",
    "version": 3
   },
   "file_extension": ".py",
   "mimetype": "text/x-python",
   "name": "python",
   "nbconvert_exporter": "python",
   "pygments_lexer": "ipython3",
   "version": "3.11.3"
  },
  "orig_nbformat": 4
 },
 "nbformat": 4,
 "nbformat_minor": 2
}

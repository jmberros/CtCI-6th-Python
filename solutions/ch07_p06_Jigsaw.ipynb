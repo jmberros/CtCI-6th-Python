{
 "cells": [
  {
   "cell_type": "markdown",
   "metadata": {},
   "source": [
    "# Jigsaw\n",
    "\n",
    "- Implement an NxN jigsaw puzzle.\n",
    "- Design the data structures and explain an algorithm to solve the puzzle.\n",
    "- You can assume that you have a `fitsWith` method which, when passed two puzzle edges, returns `true` if the two edges belong together."
   ]
  },
  {
   "cell_type": "code",
   "execution_count": 93,
   "metadata": {},
   "outputs": [
    {
     "data": {
      "text/plain": [
       "24 unplaced pieces: 06, 02, 08, 13, 17, 09, 19, 10, 15, 03, 24, 01, 11, 04, 23, 16, 22, 20, 18, 05, 07, 14, 21, 12\n",
       "Frame: [[00, None, None, None, None], [None, None, None, None, None], [None, None, None, None, None], [None, None, None, None, None], [None, None, None, None, None]]"
      ]
     },
     "metadata": {},
     "output_type": "display_data"
    }
   ],
   "source": [
    "from enum import Enum\n",
    "\n",
    "\n",
    "def fits_with(edge1: \"Edge\", edge2: \"Edge\", N: int) -> bool:\n",
    "    if edge1.is_border() or edge2.is_border():\n",
    "        return False\n",
    "    \n",
    "    locations = {edge1.location, edge2.location}\n",
    "    vertical_fit = locations == {EdgeLocation.TOP, EdgeLocation.BOTTOM}\n",
    "    horizontal_fit = locations == {EdgeLocation.LEFT, EdgeLocation.RIGHT}\n",
    "\n",
    "    if not vertical_fit and not horizontal_fit:\n",
    "        return False\n",
    "    \n",
    "    if vertical_fit:\n",
    "        if edge1.location == EdgeLocation.TOP:\n",
    "            return edge1.piece_value == edge2.piece_value - N\n",
    "        else:  # edge1 is BOTTOM\n",
    "            return edge2.piece_value == edge1.piece_value + N\n",
    "    else:\n",
    "        if edge1.location == EdgeLocation.LEFT:\n",
    "            return edge1.piece_value == edge2.piece_value - 1\n",
    "        else:  # edge1 is RIGHT\n",
    "            return edge2.piece_value == edge1.piece_value + 1\n",
    "\n",
    "\n",
    "class EdgeLocation(Enum):\n",
    "    TOP = 0\n",
    "    LEFT = 1\n",
    "    BOTTOM = 2\n",
    "    RIGHT = 3\n",
    "\n",
    "\n",
    "class Edge:\n",
    "    def __init__(self, piece_value: int, location: EdgeLocation, N: int):\n",
    "        self.piece_value = piece_value\n",
    "        self.location = location\n",
    "        self.N = N\n",
    "        self.top_row_values = set(range(N))\n",
    "        self.bottom_row_values = set(range((N - 1) * N, N * N))\n",
    "        self.left_col_values = set(range(0, N * N, N))\n",
    "        self.right_col_values = set(range(N - 1, N * N, N))\n",
    "\n",
    "    def fits_with(self, other: \"Edge\") -> bool:\n",
    "        return fits_with(self, other, self.N)\n",
    "    \n",
    "    def is_border(self) -> bool:\n",
    "        if self.location == EdgeLocation.TOP:\n",
    "            return self.piece_value in self.top_row_values\n",
    "        elif self.location == EdgeLocation.BOTTOM:\n",
    "            return self.piece_value in self.bottom_row_values\n",
    "        elif self.location == EdgeLocation.RIGHT:\n",
    "            return self.piece_value in self.right_col_values\n",
    "        elif self.location == EdgeLocation.LEFT:\n",
    "            return self.piece_value in self.left_col_values\n",
    "\n",
    "        \n",
    "    def __repr__(self):\n",
    "        return f\"{self.piece_value}-{self.location.name}\"\n",
    "\n",
    "\n",
    "class Piece:\n",
    "    def __init__(self, value: int, N: int):\n",
    "        self.value = value\n",
    "        self.edges = self.top, self.left, self.bottom, self.right = [Edge(value, loc, N) for loc in EdgeLocation]\n",
    "\n",
    "    def __repr__(self):\n",
    "        return f\"{self.value:02}\"\n",
    "    \n",
    "    @property\n",
    "    def fittable_edges(self):\n",
    "        return [edge for edge in self.edges if not edge.is_border()]\n",
    "\n",
    "\n",
    "class Puzzle:\n",
    "    def __init__(self, pieces: list[int]):\n",
    "        # ! Docstring: clarify that pieces should be set by row, as a numpy 2D-array\n",
    "        self.N = int(len(pieces)**(1/2))  # Assumes NxN Puzzle\n",
    "        self.pieces = {Piece(value, self.N) for value in pieces}\n",
    "        self.unplaced_pieces = set(self.pieces)\n",
    "        self.placed_pieces = set()\n",
    "        self.frame = np.empty((self.N, self.N), dtype=object)\n",
    "        self.frame[:, :] = None\n",
    "        self.frame = self.frame.tolist()\n",
    "        \n",
    "    def place_piece(self, piece: Piece, i: int, j: int):\n",
    "        if self.frame[i][j] is not None:\n",
    "            self.unplaced_pieces = self.frame[i][j]\n",
    "            self.frame[i][j] = None\n",
    "\n",
    "        self.frame[i][j] = piece\n",
    "        self.unplaced_pieces.remove(piece)\n",
    "        self.placed_pieces.add(piece)\n",
    "\n",
    "    def solve(self):\n",
    "        # Prime the puzzle placing the top left border\n",
    "        for piece in self.unplaced_pieces:\n",
    "            if piece.left.is_border() and piece.top.is_border():\n",
    "                self.place_piece(piece, 0, 0)\n",
    "                display(self)\n",
    "\n",
    "        # Iteratively find the fits of the pieces that have been put, and put those\n",
    "        while self.unplaced_pieces:\n",
    "            # TODO COntinue here\n",
    "\n",
    "    def __repr__(self):\n",
    "        return (\n",
    "            f\"{len(self.unplaced_pieces)} unplaced pieces: \" +\n",
    "            \", \".join(str(row) for row in self.unplaced_pieces) + \"\\n\" +\n",
    "            \"Frame: \" + self.frame.__repr__()\n",
    "        )\n",
    "\n",
    "    def __getitem__(self, ij: tuple[int, int]):\n",
    "        i, j = ij\n",
    "        return self.pieces[i][j]\n",
    "\n",
    "    \n",
    "#####\n",
    "import numpy as np\n",
    "import random\n",
    "\n",
    "\n",
    "pieces = list(range(25))\n",
    "random.shuffle(pieces)\n",
    "puzzle = Puzzle(pieces)\n",
    "puzzle.solve()"
   ]
  },
  {
   "cell_type": "code",
   "execution_count": 54,
   "metadata": {},
   "outputs": [
    {
     "data": {
      "text/plain": [
       "(21, 22)"
      ]
     },
     "execution_count": 54,
     "metadata": {},
     "output_type": "execute_result"
    }
   ],
   "source": [
    "p1 = puzzle[0, 0]\n",
    "p2 = puzzle[1, 1]\n",
    "\n",
    "p1, p2"
   ]
  },
  {
   "cell_type": "code",
   "execution_count": 55,
   "metadata": {},
   "outputs": [
    {
     "data": {
      "text/plain": [
       "(21-RIGHT, 22-LEFT)"
      ]
     },
     "execution_count": 55,
     "metadata": {},
     "output_type": "execute_result"
    }
   ],
   "source": [
    "p1.right, p2.left"
   ]
  },
  {
   "cell_type": "code",
   "execution_count": 56,
   "metadata": {},
   "outputs": [
    {
     "data": {
      "text/plain": [
       "True"
      ]
     },
     "execution_count": 56,
     "metadata": {},
     "output_type": "execute_result"
    }
   ],
   "source": [
    "p1.right.fits_with(p2.left)"
   ]
  },
  {
   "cell_type": "code",
   "execution_count": null,
   "metadata": {},
   "outputs": [],
   "source": []
  },
  {
   "cell_type": "code",
   "execution_count": null,
   "metadata": {},
   "outputs": [],
   "source": []
  },
  {
   "cell_type": "code",
   "execution_count": null,
   "metadata": {},
   "outputs": [],
   "source": []
  },
  {
   "cell_type": "code",
   "execution_count": null,
   "metadata": {},
   "outputs": [],
   "source": []
  },
  {
   "cell_type": "code",
   "execution_count": null,
   "metadata": {},
   "outputs": [],
   "source": []
  },
  {
   "cell_type": "code",
   "execution_count": null,
   "metadata": {},
   "outputs": [],
   "source": []
  }
 ],
 "metadata": {
  "kernelspec": {
   "display_name": "py311",
   "language": "python",
   "name": "python3"
  },
  "language_info": {
   "codemirror_mode": {
    "name": "ipython",
    "version": 3
   },
   "file_extension": ".py",
   "mimetype": "text/x-python",
   "name": "python",
   "nbconvert_exporter": "python",
   "pygments_lexer": "ipython3",
   "version": "3.11.3"
  },
  "orig_nbformat": 4
 },
 "nbformat": 4,
 "nbformat_minor": 2
}

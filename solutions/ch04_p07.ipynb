{
 "cells": [
  {
   "cell_type": "markdown",
   "metadata": {},
   "source": [
    "Build Order: You are given a list of projects and a list of dependencies (which is a list of pairs of\n",
    "projects, where the second project is dependent on the first project). All of a project's dependencies\n",
    "must be built before the project is.\n",
    "- Find a build order that will allow the projects to be built.\n",
    "- If there is no valid build order, return an error.\n",
    "\n",
    "```\n",
    "EXAMPLE\n",
    "\n",
    "Input:\n",
    "\n",
    "projects: a, b, c, d, e, f\n",
    "dependencies: (a, d), (f, b), (b, d), (f, a), (d, c)\n",
    "\n",
    "Output: f, e, a, b, d, c\n",
    "```"
   ]
  },
  {
   "cell_type": "code",
   "execution_count": 63,
   "metadata": {},
   "outputs": [
    {
     "data": {
      "text/plain": [
       "BO(c -> f -> a -> b -> g -> d -> e)"
      ]
     },
     "execution_count": 63,
     "metadata": {},
     "output_type": "execute_result"
    }
   ],
   "source": [
    "from typing import Optional\n",
    "from more_itertools import flatten\n",
    "\n",
    "\n",
    "class CircularityFoundException(Exception):\n",
    "    pass\n",
    "\n",
    "\n",
    "class Project:\n",
    "    def __init__(self, name):\n",
    "        self.name = name\n",
    "        self.dependencies = []\n",
    "\n",
    "    def __repr__(self):\n",
    "        return f\"{self.name}\"\n",
    "\n",
    "\n",
    "class BuildOrder:\n",
    "    def __init__(self, proj_order: Optional[list[Project]] = None):\n",
    "        self.proj_order = proj_order or []\n",
    "\n",
    "    def add(self, project: Project):\n",
    "        self.proj_order.append(project)\n",
    "\n",
    "    def __iter__(self):\n",
    "        for proj in self.proj_order:\n",
    "            yield proj\n",
    "\n",
    "    def __repr__(self):\n",
    "        return \"BO(\" + \" -> \".join(p.name for p in self.proj_order) + \")\"\n",
    "\n",
    "\n",
    "# O(R + P)\n",
    "def build_projects_from_dependencies(deps: list[tuple[str, str]]) -> list[Project]:\n",
    "    # TODO: Add Docstring\n",
    "    proj_names = set(flatten(deps))\n",
    "    projects = {name: Project(name) for name in proj_names} # O(P) P = # projects\n",
    "    for dependency, project in deps:  # O(R)\n",
    "        dependency = projects[dependency]\n",
    "        project = projects[project]\n",
    "        project.dependencies.append(dependency)\n",
    "    return list(projects.values())\n",
    "\n",
    "# O(N) <= O( ? ) < O(N^2) \n",
    "def generate_a_build_order(deps: list[tuple[str, str]]) -> BuildOrder:\n",
    "    # TODO: Add Docstring\n",
    "    projects = build_projects_from_dependencies(deps)\n",
    "    build_order = BuildOrder()\n",
    "    unbuilt = list(projects)\n",
    "\n",
    "    while unbuilt:\n",
    "        found_projects_with_zero_deps = False\n",
    "\n",
    "        for proj in projects:\n",
    "            if proj in build_order:\n",
    "                continue\n",
    "            n_deps = sum(1 for dep in proj.dependencies if dep not in build_order)\n",
    "            if n_deps > 0:\n",
    "                continue\n",
    "            found_projects_with_zero_deps = True\n",
    "            build_order.add(proj)\n",
    "            unbuilt.remove(proj)\n",
    "\n",
    "        if not found_projects_with_zero_deps:\n",
    "            raise CircularityFoundException\n",
    "\n",
    "    return build_order\n",
    "\n",
    "#### \n",
    "deps = [tuple(d) for d in [\"ag\", \"ad\", \"ab\", \"gd\", \"bd\", \"de\", \"cf\"]]\n",
    "generate_a_build_order(deps)"
   ]
  },
  {
   "cell_type": "code",
   "execution_count": 77,
   "metadata": {},
   "outputs": [],
   "source": [
    "import pytest\n",
    "import ipytest\n",
    "\n",
    "\n",
    "ipytest.autoconfig()"
   ]
  },
  {
   "cell_type": "code",
   "execution_count": 81,
   "metadata": {},
   "outputs": [
    {
     "name": "stdout",
     "output_type": "stream",
     "text": [
      "\u001b[32m.\u001b[0m\u001b[32m.\u001b[0m\u001b[32m.\u001b[0m\u001b[32m                                                                                          [100%]\u001b[0m\n"
     ]
    }
   ],
   "source": [
    "%%ipytest -qq\n",
    "\n",
    "\n",
    "@pytest.mark.parametrize(\n",
    "        \"deps,expected\",\n",
    "        [\n",
    "            ([\"ab\", \"bc\", \"cd\"], \"abcd\"),\n",
    "            ([\"ag\", \"ad\", \"ab\", \"gd\", \"bd\", \"de\", \"cf\"], \"cfabgde\"),\n",
    "        ]\n",
    ")\n",
    "def test_valid_build_order(deps, expected):\n",
    "    # TODO Add more cases\n",
    "    result = generate_a_build_order(deps)\n",
    "    assert \"\".join(p.name for p in result) == expected\n",
    "\n",
    "@pytest.\n",
    "def test_invalid_build_order():\n",
    "    # TODO Add more cases\n",
    "    deps = [\"ab\", \"ba\"]\n",
    "    with pytest.raises(CircularityFoundException):\n",
    "        generate_a_build_order(deps)"
   ]
  },
  {
   "cell_type": "code",
   "execution_count": null,
   "metadata": {},
   "outputs": [],
   "source": []
  },
  {
   "cell_type": "code",
   "execution_count": null,
   "metadata": {},
   "outputs": [],
   "source": []
  },
  {
   "cell_type": "code",
   "execution_count": null,
   "metadata": {},
   "outputs": [],
   "source": []
  },
  {
   "cell_type": "code",
   "execution_count": null,
   "metadata": {},
   "outputs": [],
   "source": []
  },
  {
   "cell_type": "code",
   "execution_count": null,
   "metadata": {},
   "outputs": [],
   "source": []
  },
  {
   "cell_type": "code",
   "execution_count": null,
   "metadata": {},
   "outputs": [],
   "source": []
  },
  {
   "cell_type": "code",
   "execution_count": null,
   "metadata": {},
   "outputs": [],
   "source": []
  },
  {
   "cell_type": "code",
   "execution_count": null,
   "metadata": {},
   "outputs": [],
   "source": []
  },
  {
   "cell_type": "code",
   "execution_count": null,
   "metadata": {},
   "outputs": [],
   "source": []
  },
  {
   "cell_type": "code",
   "execution_count": null,
   "metadata": {},
   "outputs": [],
   "source": [
    "\n",
    "children = {project: [] for project in projects}\n",
    "dependencies = {project: [] for project in projects}\n",
    "\n",
    "for parent, child in deps_:\n",
    "    children[parent].append(child)\n",
    "    dependencies[child].append(parent)\n",
    "\n",
    "print(f\"Parents: {dependencies}\")\n",
    "print(f\"Children: {children}\")\n",
    "\n",
    "build_order = []\n",
    "\n",
    "# Find projects with no dependencies\n",
    "for proj in projects:\n",
    "    if dependencies[proj]:\n",
    "        continue\n",
    "\n",
    "    build_order.append(proj)\n",
    "    for _, proj_deps in dependencies.:\n",
    "        if ### ME QUEME SEGUIR\n",
    "\n"
   ]
  }
 ],
 "metadata": {
  "kernelspec": {
   "display_name": "py311",
   "language": "python",
   "name": "python3"
  },
  "language_info": {
   "codemirror_mode": {
    "name": "ipython",
    "version": 3
   },
   "file_extension": ".py",
   "mimetype": "text/x-python",
   "name": "python",
   "nbconvert_exporter": "python",
   "pygments_lexer": "ipython3",
   "version": "3.11.3"
  },
  "orig_nbformat": 4
 },
 "nbformat": 4,
 "nbformat_minor": 2
}

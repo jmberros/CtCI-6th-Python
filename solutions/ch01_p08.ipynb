{
 "cells": [
  {
   "cell_type": "markdown",
   "metadata": {},
   "source": [
    "Zero Matrix: Write an algorithm such that if an element in an MxN matrix is 0, its entire row and\n",
    "column are set to 0."
   ]
  },
  {
   "cell_type": "code",
   "execution_count": 1,
   "metadata": {},
   "outputs": [],
   "source": [
    "TEST_CASES = [\n",
    "    (\n",
    "        [\n",
    "            [1, 2, 3, 4, 0],\n",
    "            [6, 0, 8, 9, 10],\n",
    "            [11, 12, 13, 14, 15],\n",
    "            [16, 0, 18, 19, 20],\n",
    "            [21, 22, 23, 24, 25],\n",
    "        ],\n",
    "        [\n",
    "            [0, 0, 0, 0, 0],\n",
    "            [0, 0, 0, 0, 0],\n",
    "            [11, 0, 13, 14, 0],\n",
    "            [0, 0, 0, 0, 0],\n",
    "            [21, 0, 23, 24, 0],\n",
    "        ],\n",
    "    )\n",
    "]\n",
    "\n",
    "def run_test_cases(f):\n",
    "    for *inputs, expected_result in TEST_CASES:\n",
    "        try:\n",
    "            result = f(*inputs)\n",
    "        except Exception:\n",
    "            print(f\"Failed with input: {inputs}\")\n",
    "            raise\n",
    "        if result != expected_result:\n",
    "            print(f\"f({', '.join(str(i) for i in inputs)}) = {result} != {expected_result}\")\n",
    "            return\n",
    "\n",
    "    print(\"everything OK\")"
   ]
  },
  {
   "cell_type": "code",
   "execution_count": 2,
   "metadata": {},
   "outputs": [],
   "source": [
    "def print_matrix(x):\n",
    "    for row in x:\n",
    "        print(row)"
   ]
  },
  {
   "cell_type": "code",
   "execution_count": null,
   "metadata": {},
   "outputs": [],
   "source": []
  },
  {
   "cell_type": "code",
   "execution_count": 9,
   "metadata": {},
   "outputs": [
    {
     "name": "stdout",
     "output_type": "stream",
     "text": [
      "everything OK\n"
     ]
    }
   ],
   "source": [
    "from copy import deepcopy\n",
    "\n",
    "\n",
    "def zero_matrix(Y):\n",
    "    X = deepcopy(Y)\n",
    "    cols_to_zero = []\n",
    "\n",
    "    for row_i, row in enumerate(X):\n",
    "        for col_j, value in enumerate(row):\n",
    "            if value == 0:\n",
    "                X[row_i] = [0] * len(row)\n",
    "                cols_to_zero.append(col_j)\n",
    "\n",
    "    for row_i in range(len(X)):\n",
    "        for col_j in cols_to_zero:\n",
    "            X[row_i][col_j] = 0\n",
    "\n",
    "    return X\n",
    "\n",
    "run_test_cases(zero_matrix)"
   ]
  },
  {
   "cell_type": "code",
   "execution_count": 12,
   "metadata": {},
   "outputs": [
    {
     "name": "stdout",
     "output_type": "stream",
     "text": [
      "everything OK\n"
     ]
    }
   ],
   "source": [
    "def zero_matrix_2(X):\n",
    "\n",
    "    Y = deepcopy(X)\n",
    "    n, m = len(X), len(X[0])\n",
    "\n",
    "    row_indices = []\n",
    "    col_indices = []\n",
    "\n",
    "    for i in range(n):\n",
    "        for j in range(m):\n",
    "            if X[i][j] == 0:\n",
    "                row_indices.append(i)\n",
    "                col_indices.append(j)\n",
    "\n",
    "    for i in row_indices:\n",
    "        Y[i] = [0] * m\n",
    "\n",
    "    for j in col_indices:\n",
    "        for row in Y:\n",
    "            row[j] = 0\n",
    "\n",
    "    return Y\n",
    "\n",
    "run_test_cases(zero_matrix_2)"
   ]
  },
  {
   "cell_type": "code",
   "execution_count": 27,
   "metadata": {},
   "outputs": [
    {
     "name": "stdout",
     "output_type": "stream",
     "text": [
      "everything OK\n"
     ]
    }
   ],
   "source": [
    "import numpy as np\n",
    "from itertools import product\n",
    "\n",
    "\n",
    "def zero_matrix_3(X):\n",
    "    X = np.array(X)\n",
    "    Y = X.copy()\n",
    "    n, m = Y.shape\n",
    "\n",
    "    for i, j in product(range(n), range(m)):\n",
    "        if X[i, j] == 0:\n",
    "            Y[i, :] = 0\n",
    "            Y[:, j] = 0\n",
    "\n",
    "    return Y.tolist()\n",
    "\n",
    "\n",
    "run_test_cases(zero_matrix_3)"
   ]
  },
  {
   "cell_type": "code",
   "execution_count": null,
   "metadata": {},
   "outputs": [],
   "source": []
  },
  {
   "cell_type": "code",
   "execution_count": null,
   "metadata": {},
   "outputs": [],
   "source": []
  },
  {
   "cell_type": "code",
   "execution_count": null,
   "metadata": {},
   "outputs": [],
   "source": []
  },
  {
   "cell_type": "code",
   "execution_count": null,
   "metadata": {},
   "outputs": [],
   "source": []
  },
  {
   "cell_type": "code",
   "execution_count": null,
   "metadata": {},
   "outputs": [],
   "source": []
  },
  {
   "cell_type": "code",
   "execution_count": null,
   "metadata": {},
   "outputs": [],
   "source": []
  },
  {
   "cell_type": "code",
   "execution_count": null,
   "metadata": {},
   "outputs": [],
   "source": []
  },
  {
   "cell_type": "code",
   "execution_count": null,
   "metadata": {},
   "outputs": [],
   "source": []
  }
 ],
 "metadata": {
  "kernelspec": {
   "display_name": "py311",
   "language": "python",
   "name": "python3"
  },
  "language_info": {
   "codemirror_mode": {
    "name": "ipython",
    "version": 3
   },
   "file_extension": ".py",
   "mimetype": "text/x-python",
   "name": "python",
   "nbconvert_exporter": "python",
   "pygments_lexer": "ipython3",
   "version": "3.11.3"
  },
  "orig_nbformat": 4
 },
 "nbformat": 4,
 "nbformat_minor": 2
}

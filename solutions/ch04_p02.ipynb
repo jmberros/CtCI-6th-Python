{
 "cells": [
  {
   "cell_type": "markdown",
   "metadata": {},
   "source": [
    "Minimal Tree: Given a sorted (increasing order) array with unique integer elements, write an algo­\n",
    "rithm to create a binary search tree with minimal height."
   ]
  },
  {
   "cell_type": "markdown",
   "metadata": {},
   "source": [
    "# Split array in two recursively"
   ]
  },
  {
   "cell_type": "code",
   "execution_count": 11,
   "metadata": {},
   "outputs": [
    {
     "name": "stdout",
     "output_type": "stream",
     "text": [
      "\n",
      "                ___________________15_____________________\n",
      "               /                                          \\\n",
      "        ______7_______                           __________23_________\n",
      "       /              \\                         /                     \\\n",
      "    __3__           ___11___               ____19___               ____27___\n",
      "   /     \\         /        \\             /         \\             /         \\\n",
      "  1       5       9         _13         _17         _21         _25         _29\n",
      " / \\     / \\     / \\       /   \\       /   \\       /   \\       /   \\       /   \\\n",
      "0   2   4   6   8   10    12    14    16    18    20    22    24    26    28    30\n",
      "\n"
     ]
    }
   ],
   "source": [
    "from binarytree import Node\n",
    "\n",
    "\n",
    "# Time: O(N)\n",
    "def make_binary_search_tree(a: list[int]) -> Node:\n",
    "    \"\"\"Creates a minimal-height binary search tree (BST).\n",
    "\n",
    "    Args:\n",
    "        a: A sorted list of integers.\n",
    "\n",
    "    Returns:\n",
    "        The root node of the BST.\n",
    "    \"\"\"\n",
    "    assert len(a) > 0\n",
    "    i = len(a)//2\n",
    "    left = a[:i]\n",
    "    root = Node(a[i])\n",
    "    right = a[i + 1:]\n",
    "    if left:\n",
    "        root.left = make_binary_search_tree(left)\n",
    "    if right:\n",
    "        root.right = make_binary_search_tree(right)\n",
    "    return root\n",
    "\n",
    "####\n",
    "\n",
    "a = list(range(31))\n",
    "root = make_binary_search_tree(a)\n",
    "print(root)"
   ]
  },
  {
   "cell_type": "code",
   "execution_count": null,
   "metadata": {},
   "outputs": [],
   "source": []
  },
  {
   "cell_type": "code",
   "execution_count": null,
   "metadata": {},
   "outputs": [],
   "source": []
  },
  {
   "cell_type": "code",
   "execution_count": null,
   "metadata": {},
   "outputs": [],
   "source": []
  },
  {
   "cell_type": "code",
   "execution_count": null,
   "metadata": {},
   "outputs": [],
   "source": []
  },
  {
   "cell_type": "code",
   "execution_count": null,
   "metadata": {},
   "outputs": [],
   "source": []
  },
  {
   "cell_type": "code",
   "execution_count": null,
   "metadata": {},
   "outputs": [],
   "source": []
  },
  {
   "cell_type": "code",
   "execution_count": null,
   "metadata": {},
   "outputs": [],
   "source": []
  },
  {
   "cell_type": "code",
   "execution_count": null,
   "metadata": {},
   "outputs": [],
   "source": []
  }
 ],
 "metadata": {
  "kernelspec": {
   "display_name": "py311",
   "language": "python",
   "name": "python3"
  },
  "language_info": {
   "codemirror_mode": {
    "name": "ipython",
    "version": 3
   },
   "file_extension": ".py",
   "mimetype": "text/x-python",
   "name": "python",
   "nbconvert_exporter": "python",
   "pygments_lexer": "ipython3",
   "version": "3.11.3"
  },
  "orig_nbformat": 4
 },
 "nbformat": 4,
 "nbformat_minor": 2
}

{
 "cells": [
  {
   "cell_type": "markdown",
   "metadata": {},
   "source": [
    "First Common Ancestor: Design an algorithm and write code to find the first common ancestor\n",
    "of two nodes in a binary tree. Avoid storing additional nodes in a data structure. NOTE: This is not\n",
    "necessarily a binary search tree."
   ]
  },
  {
   "cell_type": "code",
   "execution_count": 4,
   "metadata": {},
   "outputs": [
    {
     "data": {
      "image/svg+xml": [
       "\n",
       "<svg width=\"384\" height=\"240\" xmlns=\"http://www.w3.org/2000/svg\">\n",
       "<style>\n",
       "    .value {\n",
       "        font: 300 16px sans-serif;\n",
       "        text-align: center;\n",
       "        dominant-baseline: middle;\n",
       "        text-anchor: middle;\n",
       "    }\n",
       "    .node {\n",
       "        fill: lightgray;\n",
       "        stroke-width: 1;\n",
       "    }\n",
       "</style>\n",
       "<g stroke=\"#000000\">\n",
       "<line x1=\"233.0\" y1=\"144\" x2=\"209.0\" y2=\"192\"/>\n",
       "<line x1=\"137.0\" y1=\"144\" x2=\"161.0\" y2=\"192\"/>\n",
       "<line x1=\"137.0\" y1=\"144\" x2=\"113.0\" y2=\"192\"/>\n",
       "<line x1=\"281.0\" y1=\"96\" x2=\"233.0\" y2=\"144\"/>\n",
       "<line x1=\"89.0\" y1=\"96\" x2=\"137.0\" y2=\"144\"/>\n",
       "<line x1=\"89.0\" y1=\"96\" x2=\"41.0\" y2=\"144\"/>\n",
       "<line x1=\"185.0\" y1=\"48\" x2=\"281.0\" y2=\"96\"/>\n",
       "<line x1=\"185.0\" y1=\"48\" x2=\"89.0\" y2=\"96\"/>\n",
       "<circle class=\"node\" cx=\"185.0\" cy=\"48\" r=\"16\"/>\n",
       "<text class=\"value\" x=\"185.0\" y=\"48\">1</text>\n",
       "<circle class=\"node\" cx=\"89.0\" cy=\"96\" r=\"16\"/>\n",
       "<text class=\"value\" x=\"89.0\" y=\"96\">2</text>\n",
       "<circle class=\"node\" cx=\"281.0\" cy=\"96\" r=\"16\"/>\n",
       "<text class=\"value\" x=\"281.0\" y=\"96\">7</text>\n",
       "<circle class=\"node\" cx=\"41.0\" cy=\"144\" r=\"16\"/>\n",
       "<text class=\"value\" x=\"41.0\" y=\"144\">3</text>\n",
       "<circle class=\"node\" cx=\"137.0\" cy=\"144\" r=\"16\"/>\n",
       "<text class=\"value\" x=\"137.0\" y=\"144\">4</text>\n",
       "<circle class=\"node\" cx=\"233.0\" cy=\"144\" r=\"16\"/>\n",
       "<text class=\"value\" x=\"233.0\" y=\"144\">8</text>\n",
       "<circle class=\"node\" cx=\"113.0\" cy=\"192\" r=\"16\"/>\n",
       "<text class=\"value\" x=\"113.0\" y=\"192\">5</text>\n",
       "<circle class=\"node\" cx=\"161.0\" cy=\"192\" r=\"16\"/>\n",
       "<text class=\"value\" x=\"161.0\" y=\"192\">6</text>\n",
       "<circle class=\"node\" cx=\"209.0\" cy=\"192\" r=\"16\"/>\n",
       "<text class=\"value\" x=\"209.0\" y=\"192\">9</text>\n",
       "</g>\n",
       "</svg>\n"
      ],
      "text/plain": [
       "Node(1)"
      ]
     },
     "metadata": {},
     "output_type": "display_data"
    },
    {
     "data": {
      "text/plain": [
       "(Node(3), Node(6))"
      ]
     },
     "execution_count": 4,
     "metadata": {},
     "output_type": "execute_result"
    }
   ],
   "source": [
    "from binarytree import Node as N\n",
    "\n",
    "nodes = {i: N(i) for i in range(1, 10)}\n",
    "\n",
    "root = nodes[1]\n",
    "root.parent = None\n",
    "root.left = nodes[2]\n",
    "root.right = nodes[7]\n",
    "root.right.left = nodes[8]\n",
    "root.right.left.left = nodes[9]\n",
    "root.left.left = n1 = nodes[3]\n",
    "root.left.right = nodes[4]\n",
    "root.left.right.left = nodes[5]\n",
    "root.left.right.right = n2 = nodes[6]\n",
    "\n",
    "for root in nodes.values():\n",
    "    for n in [root.left, root.right]:\n",
    "        if n is not None:\n",
    "            n.parent = root\n",
    "\n",
    "display(root)\n",
    "\n",
    "n1, n2"
   ]
  },
  {
   "cell_type": "markdown",
   "metadata": {},
   "source": [
    "## Gayle's Solution #1 -- With links to parents, Trace paths up until they cross"
   ]
  },
  {
   "cell_type": "code",
   "execution_count": 23,
   "metadata": {},
   "outputs": [
    {
     "data": {
      "image/svg+xml": [
       "\n",
       "<svg width=\"384\" height=\"240\" xmlns=\"http://www.w3.org/2000/svg\">\n",
       "<style>\n",
       "    .value {\n",
       "        font: 300 16px sans-serif;\n",
       "        text-align: center;\n",
       "        dominant-baseline: middle;\n",
       "        text-anchor: middle;\n",
       "    }\n",
       "    .node {\n",
       "        fill: lightgray;\n",
       "        stroke-width: 1;\n",
       "    }\n",
       "</style>\n",
       "<g stroke=\"#000000\">\n",
       "<line x1=\"233.0\" y1=\"144\" x2=\"209.0\" y2=\"192\"/>\n",
       "<line x1=\"137.0\" y1=\"144\" x2=\"161.0\" y2=\"192\"/>\n",
       "<line x1=\"137.0\" y1=\"144\" x2=\"113.0\" y2=\"192\"/>\n",
       "<line x1=\"281.0\" y1=\"96\" x2=\"233.0\" y2=\"144\"/>\n",
       "<line x1=\"89.0\" y1=\"96\" x2=\"137.0\" y2=\"144\"/>\n",
       "<line x1=\"89.0\" y1=\"96\" x2=\"41.0\" y2=\"144\"/>\n",
       "<line x1=\"185.0\" y1=\"48\" x2=\"281.0\" y2=\"96\"/>\n",
       "<line x1=\"185.0\" y1=\"48\" x2=\"89.0\" y2=\"96\"/>\n",
       "<circle class=\"node\" cx=\"185.0\" cy=\"48\" r=\"16\"/>\n",
       "<text class=\"value\" x=\"185.0\" y=\"48\">1</text>\n",
       "<circle class=\"node\" cx=\"89.0\" cy=\"96\" r=\"16\"/>\n",
       "<text class=\"value\" x=\"89.0\" y=\"96\">2</text>\n",
       "<circle class=\"node\" cx=\"281.0\" cy=\"96\" r=\"16\"/>\n",
       "<text class=\"value\" x=\"281.0\" y=\"96\">7</text>\n",
       "<circle class=\"node\" cx=\"41.0\" cy=\"144\" r=\"16\"/>\n",
       "<text class=\"value\" x=\"41.0\" y=\"144\">3</text>\n",
       "<circle class=\"node\" cx=\"137.0\" cy=\"144\" r=\"16\"/>\n",
       "<text class=\"value\" x=\"137.0\" y=\"144\">4</text>\n",
       "<circle class=\"node\" cx=\"233.0\" cy=\"144\" r=\"16\"/>\n",
       "<text class=\"value\" x=\"233.0\" y=\"144\">8</text>\n",
       "<circle class=\"node\" cx=\"113.0\" cy=\"192\" r=\"16\"/>\n",
       "<text class=\"value\" x=\"113.0\" y=\"192\">5</text>\n",
       "<circle class=\"node\" cx=\"161.0\" cy=\"192\" r=\"16\"/>\n",
       "<text class=\"value\" x=\"161.0\" y=\"192\">6</text>\n",
       "<circle class=\"node\" cx=\"209.0\" cy=\"192\" r=\"16\"/>\n",
       "<text class=\"value\" x=\"209.0\" y=\"192\">9</text>\n",
       "</g>\n",
       "</svg>\n"
      ],
      "text/plain": [
       "Node(1)"
      ]
     },
     "metadata": {},
     "output_type": "display_data"
    },
    {
     "name": "stdout",
     "output_type": "stream",
     "text": [
      "We want the MRCA of 3 and 6\n",
      "The node 2 seems to be the MRCA\n"
     ]
    },
    {
     "data": {
      "image/svg+xml": [
       "\n",
       "<svg width=\"192\" height=\"192\" xmlns=\"http://www.w3.org/2000/svg\">\n",
       "<style>\n",
       "    .value {\n",
       "        font: 300 16px sans-serif;\n",
       "        text-align: center;\n",
       "        dominant-baseline: middle;\n",
       "        text-anchor: middle;\n",
       "    }\n",
       "    .node {\n",
       "        fill: lightgray;\n",
       "        stroke-width: 1;\n",
       "    }\n",
       "</style>\n",
       "<g stroke=\"#000000\">\n",
       "<line x1=\"137.0\" y1=\"96\" x2=\"161.0\" y2=\"144\"/>\n",
       "<line x1=\"137.0\" y1=\"96\" x2=\"113.0\" y2=\"144\"/>\n",
       "<line x1=\"89.0\" y1=\"48\" x2=\"137.0\" y2=\"96\"/>\n",
       "<line x1=\"89.0\" y1=\"48\" x2=\"41.0\" y2=\"96\"/>\n",
       "<circle class=\"node\" cx=\"89.0\" cy=\"48\" r=\"16\"/>\n",
       "<text class=\"value\" x=\"89.0\" y=\"48\">2</text>\n",
       "<circle class=\"node\" cx=\"41.0\" cy=\"96\" r=\"16\"/>\n",
       "<text class=\"value\" x=\"41.0\" y=\"96\">3</text>\n",
       "<circle class=\"node\" cx=\"137.0\" cy=\"96\" r=\"16\"/>\n",
       "<text class=\"value\" x=\"137.0\" y=\"96\">4</text>\n",
       "<circle class=\"node\" cx=\"113.0\" cy=\"144\" r=\"16\"/>\n",
       "<text class=\"value\" x=\"113.0\" y=\"144\">5</text>\n",
       "<circle class=\"node\" cx=\"161.0\" cy=\"144\" r=\"16\"/>\n",
       "<text class=\"value\" x=\"161.0\" y=\"144\">6</text>\n",
       "</g>\n",
       "</svg>\n"
      ],
      "text/plain": [
       "Node(2)"
      ]
     },
     "execution_count": 23,
     "metadata": {},
     "output_type": "execute_result"
    }
   ],
   "source": [
    "class NotBinaryTreeException(Exception):\n",
    "    pass\n",
    "\n",
    "\n",
    "def calc_depth(node: N) -> int:\n",
    "    depth = 0\n",
    "    while node.parent is not None:\n",
    "        node = node.parent\n",
    "        depth += 1\n",
    "    return depth\n",
    "\n",
    "\n",
    "def go_up_n_levels(node: N, n: int) -> N:\n",
    "    for _ in range(n):\n",
    "        node = node.parent\n",
    "    return node\n",
    "\n",
    "\n",
    "def go_up_1_level(node: N) -> N:\n",
    "    return go_up_n_levels(node, 1)\n",
    "\n",
    "\n",
    "# O(d) where d is the depth of the deeper node\n",
    "def find_most_recent_common_ancestor(n1: N, n2: N) -> N:\n",
    "    delta = calc_depth(n1) - calc_depth(n2)\n",
    "\n",
    "    first = n1 if delta > 0 else n2\n",
    "    second = n2 if delta > 0 else n1\n",
    "    first = go_up_n_levels(first.parent, delta)\n",
    "\n",
    "    while first is not second and first is not None and second is not None:\n",
    "        first = go_up_1_level(first)\n",
    "        second = go_up_1_level(second)\n",
    "\n",
    "    if first is None or second is None:\n",
    "        raise NotBinaryTreeException\n",
    "\n",
    "    return first\n",
    "\n",
    "\n",
    "display(root)\n",
    "print(f\"We want the MRCA of {n1.value} and {n2.value}\")\n",
    "mrca = find_most_recent_common_ancestor(n1, n2)\n",
    "print(f\"The node {mrca.value} seems to be the MRCA\")\n",
    "mrca"
   ]
  },
  {
   "cell_type": "markdown",
   "metadata": {},
   "source": [
    "## Solution 2 : trace parents and subtrees of siblings"
   ]
  },
  {
   "cell_type": "code",
   "execution_count": 29,
   "metadata": {},
   "outputs": [
    {
     "data": {
      "image/svg+xml": [
       "\n",
       "<svg width=\"384\" height=\"240\" xmlns=\"http://www.w3.org/2000/svg\">\n",
       "<style>\n",
       "    .value {\n",
       "        font: 300 16px sans-serif;\n",
       "        text-align: center;\n",
       "        dominant-baseline: middle;\n",
       "        text-anchor: middle;\n",
       "    }\n",
       "    .node {\n",
       "        fill: lightgray;\n",
       "        stroke-width: 1;\n",
       "    }\n",
       "</style>\n",
       "<g stroke=\"#000000\">\n",
       "<line x1=\"233.0\" y1=\"144\" x2=\"209.0\" y2=\"192\"/>\n",
       "<line x1=\"137.0\" y1=\"144\" x2=\"161.0\" y2=\"192\"/>\n",
       "<line x1=\"137.0\" y1=\"144\" x2=\"113.0\" y2=\"192\"/>\n",
       "<line x1=\"281.0\" y1=\"96\" x2=\"233.0\" y2=\"144\"/>\n",
       "<line x1=\"89.0\" y1=\"96\" x2=\"137.0\" y2=\"144\"/>\n",
       "<line x1=\"89.0\" y1=\"96\" x2=\"41.0\" y2=\"144\"/>\n",
       "<line x1=\"185.0\" y1=\"48\" x2=\"281.0\" y2=\"96\"/>\n",
       "<line x1=\"185.0\" y1=\"48\" x2=\"89.0\" y2=\"96\"/>\n",
       "<circle class=\"node\" cx=\"185.0\" cy=\"48\" r=\"16\"/>\n",
       "<text class=\"value\" x=\"185.0\" y=\"48\">1</text>\n",
       "<circle class=\"node\" cx=\"89.0\" cy=\"96\" r=\"16\"/>\n",
       "<text class=\"value\" x=\"89.0\" y=\"96\">2</text>\n",
       "<circle class=\"node\" cx=\"281.0\" cy=\"96\" r=\"16\"/>\n",
       "<text class=\"value\" x=\"281.0\" y=\"96\">7</text>\n",
       "<circle class=\"node\" cx=\"41.0\" cy=\"144\" r=\"16\"/>\n",
       "<text class=\"value\" x=\"41.0\" y=\"144\">3</text>\n",
       "<circle class=\"node\" cx=\"137.0\" cy=\"144\" r=\"16\"/>\n",
       "<text class=\"value\" x=\"137.0\" y=\"144\">4</text>\n",
       "<circle class=\"node\" cx=\"233.0\" cy=\"144\" r=\"16\"/>\n",
       "<text class=\"value\" x=\"233.0\" y=\"144\">8</text>\n",
       "<circle class=\"node\" cx=\"113.0\" cy=\"192\" r=\"16\"/>\n",
       "<text class=\"value\" x=\"113.0\" y=\"192\">5</text>\n",
       "<circle class=\"node\" cx=\"161.0\" cy=\"192\" r=\"16\"/>\n",
       "<text class=\"value\" x=\"161.0\" y=\"192\">6</text>\n",
       "<circle class=\"node\" cx=\"209.0\" cy=\"192\" r=\"16\"/>\n",
       "<text class=\"value\" x=\"209.0\" y=\"192\">9</text>\n",
       "</g>\n",
       "</svg>\n"
      ],
      "text/plain": [
       "Node(1)"
      ]
     },
     "execution_count": 29,
     "metadata": {},
     "output_type": "execute_result"
    }
   ],
   "source": [
    "root"
   ]
  },
  {
   "cell_type": "code",
   "execution_count": 75,
   "metadata": {},
   "outputs": [
    {
     "data": {
      "image/svg+xml": [
       "\n",
       "<svg width=\"384\" height=\"240\" xmlns=\"http://www.w3.org/2000/svg\">\n",
       "<style>\n",
       "    .value {\n",
       "        font: 300 16px sans-serif;\n",
       "        text-align: center;\n",
       "        dominant-baseline: middle;\n",
       "        text-anchor: middle;\n",
       "    }\n",
       "    .node {\n",
       "        fill: lightgray;\n",
       "        stroke-width: 1;\n",
       "    }\n",
       "</style>\n",
       "<g stroke=\"#000000\">\n",
       "<line x1=\"233.0\" y1=\"144\" x2=\"209.0\" y2=\"192\"/>\n",
       "<line x1=\"137.0\" y1=\"144\" x2=\"161.0\" y2=\"192\"/>\n",
       "<line x1=\"137.0\" y1=\"144\" x2=\"113.0\" y2=\"192\"/>\n",
       "<line x1=\"281.0\" y1=\"96\" x2=\"233.0\" y2=\"144\"/>\n",
       "<line x1=\"89.0\" y1=\"96\" x2=\"137.0\" y2=\"144\"/>\n",
       "<line x1=\"89.0\" y1=\"96\" x2=\"41.0\" y2=\"144\"/>\n",
       "<line x1=\"185.0\" y1=\"48\" x2=\"281.0\" y2=\"96\"/>\n",
       "<line x1=\"185.0\" y1=\"48\" x2=\"89.0\" y2=\"96\"/>\n",
       "<circle class=\"node\" cx=\"185.0\" cy=\"48\" r=\"16\"/>\n",
       "<text class=\"value\" x=\"185.0\" y=\"48\">1</text>\n",
       "<circle class=\"node\" cx=\"89.0\" cy=\"96\" r=\"16\"/>\n",
       "<text class=\"value\" x=\"89.0\" y=\"96\">2</text>\n",
       "<circle class=\"node\" cx=\"281.0\" cy=\"96\" r=\"16\"/>\n",
       "<text class=\"value\" x=\"281.0\" y=\"96\">7</text>\n",
       "<circle class=\"node\" cx=\"41.0\" cy=\"144\" r=\"16\"/>\n",
       "<text class=\"value\" x=\"41.0\" y=\"144\">3</text>\n",
       "<circle class=\"node\" cx=\"137.0\" cy=\"144\" r=\"16\"/>\n",
       "<text class=\"value\" x=\"137.0\" y=\"144\">4</text>\n",
       "<circle class=\"node\" cx=\"233.0\" cy=\"144\" r=\"16\"/>\n",
       "<text class=\"value\" x=\"233.0\" y=\"144\">8</text>\n",
       "<circle class=\"node\" cx=\"113.0\" cy=\"192\" r=\"16\"/>\n",
       "<text class=\"value\" x=\"113.0\" y=\"192\">5</text>\n",
       "<circle class=\"node\" cx=\"161.0\" cy=\"192\" r=\"16\"/>\n",
       "<text class=\"value\" x=\"161.0\" y=\"192\">6</text>\n",
       "<circle class=\"node\" cx=\"209.0\" cy=\"192\" r=\"16\"/>\n",
       "<text class=\"value\" x=\"209.0\" y=\"192\">9</text>\n",
       "</g>\n",
       "</svg>\n"
      ],
      "text/plain": [
       "Node(1)"
      ]
     },
     "metadata": {},
     "output_type": "display_data"
    },
    {
     "name": "stdout",
     "output_type": "stream",
     "text": [
      "=> The MRCA is 8\n"
     ]
    }
   ],
   "source": [
    "from collections import deque\n",
    "from typing import Optional\n",
    "\n",
    "\n",
    "class NodesInDifferentTreesException(Exception):\n",
    "    pass\n",
    "\n",
    "\n",
    "def detect_node(node_to_find: N, under: N) -> bool:\n",
    "    # TODO: Add docstring\n",
    "    to_visit = deque([under])\n",
    "    while to_visit:\n",
    "        node = to_visit.popleft()\n",
    "        if node is node_to_find:\n",
    "            return True\n",
    "        if node.left:\n",
    "            to_visit.append(node.left)\n",
    "        if node.right:\n",
    "            to_visit.append(node.right)\n",
    "    return False\n",
    "\n",
    "\n",
    "def get_sibling(node: N) -> Optional[N]:\n",
    "    # TODO: Add docstring\n",
    "    p = node.parent\n",
    "    if p.left not in [node, None]:\n",
    "        return p.left\n",
    "    elif p.right not in [node, None]:\n",
    "        return p.right\n",
    "    return None\n",
    "\n",
    "\n",
    "def find_most_recent_common_ancestor(n1: N, n2: N) -> N:\n",
    "    # TODO: Add docstring\n",
    "    if detect_node(n1, under=n2): \n",
    "        return n2\n",
    "    elif detect_node(n2, under=n1):\n",
    "        return n1\n",
    "    \n",
    "    node, node_to_find = n1, n2\n",
    "    while node.parent:\n",
    "        sibling = get_sibling(node)\n",
    "        print(f\"{sibling = }\", end=\" | \")\n",
    "        if detect_node(node_to_find, under=sibling):\n",
    "            return node.parent\n",
    "        node = node.parent\n",
    "\n",
    "    raise NodesInDifferentTreesException\n",
    "\n",
    "\n",
    "display(root)\n",
    "n1, n2 = nodes[8], nodes[8]\n",
    "mrca = find_most_recent_common_ancestor(n1, n2)\n",
    "print(f\"=> The MRCA is {mrca.value}\")"
   ]
  },
  {
   "cell_type": "markdown",
   "metadata": {},
   "source": [
    "## Without links to parents"
   ]
  },
  {
   "cell_type": "code",
   "execution_count": 100,
   "metadata": {},
   "outputs": [
    {
     "data": {
      "image/svg+xml": [
       "\n",
       "<svg width=\"384\" height=\"240\" xmlns=\"http://www.w3.org/2000/svg\">\n",
       "<style>\n",
       "    .value {\n",
       "        font: 300 16px sans-serif;\n",
       "        text-align: center;\n",
       "        dominant-baseline: middle;\n",
       "        text-anchor: middle;\n",
       "    }\n",
       "    .node {\n",
       "        fill: lightgray;\n",
       "        stroke-width: 1;\n",
       "    }\n",
       "</style>\n",
       "<g stroke=\"#000000\">\n",
       "<line x1=\"233.0\" y1=\"144\" x2=\"209.0\" y2=\"192\"/>\n",
       "<line x1=\"137.0\" y1=\"144\" x2=\"161.0\" y2=\"192\"/>\n",
       "<line x1=\"137.0\" y1=\"144\" x2=\"113.0\" y2=\"192\"/>\n",
       "<line x1=\"281.0\" y1=\"96\" x2=\"233.0\" y2=\"144\"/>\n",
       "<line x1=\"89.0\" y1=\"96\" x2=\"137.0\" y2=\"144\"/>\n",
       "<line x1=\"89.0\" y1=\"96\" x2=\"41.0\" y2=\"144\"/>\n",
       "<line x1=\"185.0\" y1=\"48\" x2=\"281.0\" y2=\"96\"/>\n",
       "<line x1=\"185.0\" y1=\"48\" x2=\"89.0\" y2=\"96\"/>\n",
       "<circle class=\"node\" cx=\"185.0\" cy=\"48\" r=\"16\"/>\n",
       "<text class=\"value\" x=\"185.0\" y=\"48\">1</text>\n",
       "<circle class=\"node\" cx=\"89.0\" cy=\"96\" r=\"16\"/>\n",
       "<text class=\"value\" x=\"89.0\" y=\"96\">2</text>\n",
       "<circle class=\"node\" cx=\"281.0\" cy=\"96\" r=\"16\"/>\n",
       "<text class=\"value\" x=\"281.0\" y=\"96\">7</text>\n",
       "<circle class=\"node\" cx=\"41.0\" cy=\"144\" r=\"16\"/>\n",
       "<text class=\"value\" x=\"41.0\" y=\"144\">3</text>\n",
       "<circle class=\"node\" cx=\"137.0\" cy=\"144\" r=\"16\"/>\n",
       "<text class=\"value\" x=\"137.0\" y=\"144\">4</text>\n",
       "<circle class=\"node\" cx=\"233.0\" cy=\"144\" r=\"16\"/>\n",
       "<text class=\"value\" x=\"233.0\" y=\"144\">8</text>\n",
       "<circle class=\"node\" cx=\"113.0\" cy=\"192\" r=\"16\"/>\n",
       "<text class=\"value\" x=\"113.0\" y=\"192\">5</text>\n",
       "<circle class=\"node\" cx=\"161.0\" cy=\"192\" r=\"16\"/>\n",
       "<text class=\"value\" x=\"161.0\" y=\"192\">6</text>\n",
       "<circle class=\"node\" cx=\"209.0\" cy=\"192\" r=\"16\"/>\n",
       "<text class=\"value\" x=\"209.0\" y=\"192\">9</text>\n",
       "</g>\n",
       "</svg>\n"
      ],
      "text/plain": [
       "Node(1)"
      ]
     },
     "metadata": {},
     "output_type": "display_data"
    },
    {
     "name": "stdout",
     "output_type": "stream",
     "text": [
      "Find the MRCA of 2 and 3\n",
      "Analyzing subtrees under 1\n",
      "2 found under 2\n",
      "3 found under 2\n",
      "Both nodes are under the same subtree, going deeper.\n",
      "--\n",
      "Analyzing subtrees under 2\n",
      "Node 2 is the root of this subtree\n",
      "=> The MRCA is 2\n"
     ]
    }
   ],
   "source": [
    "class NodeNotFoundException(Exception):\n",
    "    pass\n",
    "\n",
    "\n",
    "def find_most_recent_common_ancestor(root: N, n1: N, n2: N) -> N:\n",
    "    # TODO: Add a docstring\n",
    "    if n1 is n2:\n",
    "        return n1\n",
    "    \n",
    "    n1_is_the_root = n2_is_the_root = False\n",
    "    while root:\n",
    "        if n1 is root:\n",
    "            n1_is_the_root = True\n",
    "        elif root.right and detect_node(n1, under=root.right):\n",
    "            n1_subtree = root.right\n",
    "        elif root.left and detect_node(n1, under=root.left):\n",
    "            n1_subtree = root.left\n",
    "        else:\n",
    "            raise NodeNotFoundException(f\"I can't find node {n1.value}\")\n",
    "\n",
    "        if n2 is root:\n",
    "            n2_is_the_root = True\n",
    "        elif root.right and detect_node(n2, under=root.right):\n",
    "            n2_subtree = root.right\n",
    "        elif root.left and detect_node(n2, under=root.left):\n",
    "            n2_subtree = root.left\n",
    "        else:\n",
    "            raise NodeNotFoundException(f\"I can't find node {n2.value}\")\n",
    "        \n",
    "        one_is_the_ancestor_of_the_other = n1_is_the_root or n2_is_the_root\n",
    "        they_are_on_different_subtrees = n1_subtree is not n2_subtree\n",
    "\n",
    "        if one_is_the_ancestor_of_the_other or they_are_on_different_subtrees:\n",
    "            return root\n",
    "        \n",
    "        # If they are in the same subtree, get in there\n",
    "        root = n1_subtree\n",
    "\n",
    "\n",
    "display(root)\n",
    "root = nodes[1]\n",
    "n1, n2 = nodes[2], nodes[3]\n",
    "mrca = find_most_recent_common_ancestor(root, n1, n2)\n",
    "print(f\"=> The MRCA is {mrca.value}\")"
   ]
  },
  {
   "cell_type": "code",
   "execution_count": null,
   "metadata": {},
   "outputs": [],
   "source": []
  },
  {
   "cell_type": "code",
   "execution_count": null,
   "metadata": {},
   "outputs": [],
   "source": []
  },
  {
   "cell_type": "code",
   "execution_count": null,
   "metadata": {},
   "outputs": [],
   "source": []
  },
  {
   "cell_type": "code",
   "execution_count": null,
   "metadata": {},
   "outputs": [],
   "source": []
  },
  {
   "cell_type": "code",
   "execution_count": null,
   "metadata": {},
   "outputs": [],
   "source": []
  },
  {
   "cell_type": "code",
   "execution_count": null,
   "metadata": {},
   "outputs": [],
   "source": []
  },
  {
   "cell_type": "code",
   "execution_count": null,
   "metadata": {},
   "outputs": [],
   "source": []
  },
  {
   "cell_type": "code",
   "execution_count": null,
   "metadata": {},
   "outputs": [],
   "source": []
  },
  {
   "cell_type": "code",
   "execution_count": null,
   "metadata": {},
   "outputs": [],
   "source": []
  },
  {
   "cell_type": "code",
   "execution_count": null,
   "metadata": {},
   "outputs": [],
   "source": []
  },
  {
   "cell_type": "code",
   "execution_count": null,
   "metadata": {},
   "outputs": [],
   "source": [
    "# Do a left-to-right traversal, i.e. an in order traversal\n",
    "# Intuition: the first node that has A in the left subtree and B in\n",
    "# the right subtree is the FCA -- the subtrees include the node itself\n",
    "# Whenever you hit one of A or B, you bubble UP that finding (never down)\n",
    "\n",
    "def in_order_traversal(node: N):\n",
    "    if node.left:\n",
    "        in_order_traversal(node.left)\n",
    "    node   ## What\n",
    "    if node.right:\n",
    "        in_order_traversal(node.right)"
   ]
  },
  {
   "cell_type": "code",
   "execution_count": null,
   "metadata": {},
   "outputs": [],
   "source": []
  },
  {
   "cell_type": "code",
   "execution_count": null,
   "metadata": {},
   "outputs": [],
   "source": []
  },
  {
   "cell_type": "code",
   "execution_count": null,
   "metadata": {},
   "outputs": [],
   "source": []
  },
  {
   "cell_type": "code",
   "execution_count": null,
   "metadata": {},
   "outputs": [],
   "source": []
  },
  {
   "cell_type": "code",
   "execution_count": null,
   "metadata": {},
   "outputs": [],
   "source": []
  }
 ],
 "metadata": {
  "kernelspec": {
   "display_name": "py311",
   "language": "python",
   "name": "python3"
  },
  "language_info": {
   "codemirror_mode": {
    "name": "ipython",
    "version": 3
   },
   "file_extension": ".py",
   "mimetype": "text/x-python",
   "name": "python",
   "nbconvert_exporter": "python",
   "pygments_lexer": "ipython3",
   "version": "3.11.3"
  },
  "orig_nbformat": 4
 },
 "nbformat": 4,
 "nbformat_minor": 2
}

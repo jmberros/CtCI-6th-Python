{
 "cells": [
  {
   "cell_type": "markdown",
   "metadata": {},
   "source": [
    "# Online Book Reader\n",
    "\n",
    "Design the data structures for an online book reader system.\n",
    "\n",
    "## Assumptions\n",
    "\n",
    "- Each **User** reads some **Book**s.\n",
    "- Each Book has any number of **Checkpoint**s where the User can stop and resume reading.\n",
    "- A User might be reading multiple Books at the same time. `Book.state = {Unread, Reading, Read}`."
   ]
  },
  {
   "cell_type": "code",
   "execution_count": 42,
   "metadata": {},
   "outputs": [
    {
     "name": "stdout",
     "output_type": "stream",
     "text": [
      "Juan: That's exciting, a new book from J.L. Borges. Have a nice journey!\n",
      "Juan: Left Fictions at position 3.\n",
      "Juan: Left Fictions at position 5.\n",
      "Juan: Contratulations! You finished Fictions from J.L. Borges.\n"
     ]
    },
    {
     "data": {
      "text/plain": [
       "deque([Fictions (8 chunks)])"
      ]
     },
     "execution_count": 42,
     "metadata": {},
     "output_type": "execute_result"
    }
   ],
   "source": [
    "from collections import deque\n",
    "\n",
    "\n",
    "class Author:\n",
    "    def __init__(self, name: str):\n",
    "        self.name = name\n",
    "        # TODO: first_name, middle_name, last_name, and more data like nationality, dob\n",
    "\n",
    "\n",
    "class Book:\n",
    "    SPLIT_SEQ = \" \"\n",
    "\n",
    "    def __init__(self, uid: int, title: str, raw_text: str,  authors: list[Author] = None):\n",
    "        self.uid = uid\n",
    "        self.title = title\n",
    "        self.authors = authors if authors is not None else []\n",
    "        self.raw_text = raw_text\n",
    "        self.chunks = self.get_chunks()\n",
    "\n",
    "    @property\n",
    "    def author(self):\n",
    "        return \", \".join(author.name for author in self.authors)\n",
    "\n",
    "    def get_chunks(self):\n",
    "        text_chunks = self.raw_text.split(self.SPLIT_SEQ)\n",
    "        return dict(enumerate(text_chunks))\n",
    "\n",
    "    def __repr__(self):\n",
    "        return f\"{self.title} ({len(self.chunks)} chunks)\"\n",
    "\n",
    "    def __iter__(self):\n",
    "        yield from enumerate(self.chunks)\n",
    "\n",
    "    def __len__(self):\n",
    "        return len(self.chunks)\n",
    "\n",
    "\n",
    "class User:\n",
    "    def __init__(self, uid: int, name: str):\n",
    "        self.uid = uid\n",
    "        self.name = name\n",
    "        self.books = deque()\n",
    "        self.bookmarks = {}\n",
    "        self.last_checkpoint = {}\n",
    "\n",
    "    @property\n",
    "    def reading(self) -> list[Book]:\n",
    "        return [bm.book for bm in self.bookmarks.values() if bm.progress > 0]\n",
    "    \n",
    "    def notify(self, msg: str):\n",
    "        print(f\"{self.name}: {msg}\")\n",
    "\n",
    "    def add_book(self, book: Book):\n",
    "        self.books.append(book)\n",
    "        self.bookmarks[book.uid] = Bookmark(user=self, book=book, position=0)\n",
    "        self.notify(f\"That's exciting, a new book from {book.author}. Have a nice journey!\")\n",
    "\n",
    "    def stop_reading(self, book: Book, at_index: int):\n",
    "        self.bookmarks[book.uid].update_position(at_index)\n",
    "        if at_index < len(book):\n",
    "            self.notify(f\"Left {book.title} at position {at_index}.\")\n",
    "        else:\n",
    "            self.notify(f\"Contratulations! You finished {book.title} from {book.author}.\")\n",
    "            del self.bookmarks[book.uid]\n",
    "            \n",
    "    \n",
    "class Bookmark:\n",
    "    def __init__(self, user: User, book: Book, position: int = 0):\n",
    "        self.user = user\n",
    "        self.book = book\n",
    "        self.position = position\n",
    "\n",
    "    @property\n",
    "    def progress(self):\n",
    "        return self.position/(len(book) - 1)\n",
    "\n",
    "    def update_position(self, position: int):\n",
    "        self.position = position\n",
    "\n",
    "    def __repr__(self):\n",
    "        return f\"Bm({self.book.title}, {self.position}, {self.progress:.0%})\"\n",
    "\n",
    "    \n",
    "jlb = Author(\"J.L. Borges\")\n",
    "book = Book(1, \"Fictions\", raw_text=\"Once upon a time there was a labyrinth\", authors=[jlb])\n",
    "user = User(1, \"Juan\")\n",
    "\n",
    "user.add_book(book)\n",
    "user.stop_reading(book, at_index=3)\n",
    "user.stop_reading(book, at_index=5)\n",
    "user.stop_reading(book, at_index=8)\n",
    "user.bookmarks\n",
    "user.reading\n",
    "user.books\n"
   ]
  },
  {
   "cell_type": "code",
   "execution_count": 31,
   "metadata": {},
   "outputs": [
    {
     "data": {
      "text/plain": [
       "[]"
      ]
     },
     "execution_count": 31,
     "metadata": {},
     "output_type": "execute_result"
    }
   ],
   "source": []
  },
  {
   "cell_type": "code",
   "execution_count": null,
   "metadata": {},
   "outputs": [],
   "source": []
  },
  {
   "cell_type": "code",
   "execution_count": null,
   "metadata": {},
   "outputs": [],
   "source": []
  },
  {
   "cell_type": "code",
   "execution_count": null,
   "metadata": {},
   "outputs": [],
   "source": []
  },
  {
   "cell_type": "code",
   "execution_count": null,
   "metadata": {},
   "outputs": [],
   "source": []
  },
  {
   "cell_type": "code",
   "execution_count": null,
   "metadata": {},
   "outputs": [],
   "source": []
  },
  {
   "cell_type": "code",
   "execution_count": null,
   "metadata": {},
   "outputs": [],
   "source": []
  },
  {
   "cell_type": "code",
   "execution_count": null,
   "metadata": {},
   "outputs": [],
   "source": []
  },
  {
   "cell_type": "code",
   "execution_count": null,
   "metadata": {},
   "outputs": [],
   "source": []
  },
  {
   "cell_type": "code",
   "execution_count": null,
   "metadata": {},
   "outputs": [],
   "source": []
  },
  {
   "cell_type": "code",
   "execution_count": null,
   "metadata": {},
   "outputs": [],
   "source": []
  },
  {
   "cell_type": "code",
   "execution_count": null,
   "metadata": {},
   "outputs": [],
   "source": []
  }
 ],
 "metadata": {
  "kernelspec": {
   "display_name": "py311",
   "language": "python",
   "name": "python3"
  },
  "language_info": {
   "codemirror_mode": {
    "name": "ipython",
    "version": 3
   },
   "file_extension": ".py",
   "mimetype": "text/x-python",
   "name": "python",
   "nbconvert_exporter": "python",
   "pygments_lexer": "ipython3",
   "version": "3.11.3"
  },
  "orig_nbformat": 4
 },
 "nbformat": 4,
 "nbformat_minor": 2
}

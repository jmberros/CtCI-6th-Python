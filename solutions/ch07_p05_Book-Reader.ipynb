{
 "cells": [
  {
   "cell_type": "markdown",
   "metadata": {},
   "source": [
    "# Online Book Reader\n",
    "\n",
    "Design the data structures for an online book reader system.\n",
    "\n",
    "## Assumptions\n",
    "\n",
    "- Each **User** reads some **Book**s.\n",
    "- Each Book has any number of **Checkpoint**s where the User can stop and resume reading.\n",
    "- A User might be reading multiple Books at the same time. `Book.state = {Unread, Reading, Read}`."
   ]
  },
  {
   "cell_type": "code",
   "execution_count": 9,
   "metadata": {},
   "outputs": [
    {
     "data": {
      "text/plain": [
       "Fictions (8 chunks)"
      ]
     },
     "execution_count": 9,
     "metadata": {},
     "output_type": "execute_result"
    }
   ],
   "source": [
    "class Author:\n",
    "    def __init__(self, name: str):\n",
    "        self.name = name\n",
    "        # TODO: first_name, middle_name, last_name, and more data like nationality, dob\n",
    "\n",
    "\n",
    "class Book:\n",
    "    SPLIT_SEQ = \" \"\n",
    "\n",
    "    def __init__(self, title: str, raw_text: str,  authors: list[Author] = None):\n",
    "        self.title = title\n",
    "        self.authors = authors if authors is not None else []\n",
    "        self.raw_text = raw_text\n",
    "        self.chunks = self.get_chunks()\n",
    "\n",
    "    def get_chunks(self):\n",
    "        text_chunks = self.raw_text.split(self.SPLIT_SEQ)\n",
    "        return dict(enumerate(text_chunks))\n",
    "\n",
    "    def __repr__(self):\n",
    "        return f\"{self.title} ({len(self.chunks)} chunks)\"\n",
    "\n",
    "    def __iter__(self):\n",
    "        yield from enumerate(self.text_chunks)\n",
    "\n",
    "\n",
    "class User:\n",
    "    def __init__(self, uid: int, name: str):\n",
    "        self.unread = []\n",
    "        self.reading = []\n",
    "        self.read = []\n",
    "        self.last_checkpoint = {}\n",
    "\n",
    "    def add_book(self, book: Book):\n",
    "        self.unread.append(book)\n",
    "\n",
    "    def start_reading(self, book: Book):\n",
    "        self.unread.remove(book)\n",
    "        self.reading.add(book)\n",
    "\n",
    "    def pause_reading(self, book: Book):\n",
    "        self.checkpoints[book.title] \n",
    "\n",
    "    \n",
    "\n",
    "    \n",
    "jlb = Author(\"J.L. Borges\")\n",
    "book = Book(\"Fictions\", raw_text=\"Once upon a time there was a labyrinth\", authors=[jlb])\n",
    "user = User(1, \"Juan\")\n",
    "\n",
    "book"
   ]
  },
  {
   "cell_type": "code",
   "execution_count": null,
   "metadata": {},
   "outputs": [],
   "source": []
  },
  {
   "cell_type": "code",
   "execution_count": null,
   "metadata": {},
   "outputs": [],
   "source": []
  },
  {
   "cell_type": "code",
   "execution_count": null,
   "metadata": {},
   "outputs": [],
   "source": []
  },
  {
   "cell_type": "code",
   "execution_count": null,
   "metadata": {},
   "outputs": [],
   "source": []
  },
  {
   "cell_type": "code",
   "execution_count": null,
   "metadata": {},
   "outputs": [],
   "source": []
  },
  {
   "cell_type": "code",
   "execution_count": null,
   "metadata": {},
   "outputs": [],
   "source": []
  },
  {
   "cell_type": "code",
   "execution_count": null,
   "metadata": {},
   "outputs": [],
   "source": []
  },
  {
   "cell_type": "code",
   "execution_count": null,
   "metadata": {},
   "outputs": [],
   "source": []
  },
  {
   "cell_type": "code",
   "execution_count": null,
   "metadata": {},
   "outputs": [],
   "source": []
  },
  {
   "cell_type": "code",
   "execution_count": null,
   "metadata": {},
   "outputs": [],
   "source": []
  },
  {
   "cell_type": "code",
   "execution_count": null,
   "metadata": {},
   "outputs": [],
   "source": []
  },
  {
   "cell_type": "code",
   "execution_count": null,
   "metadata": {},
   "outputs": [],
   "source": []
  }
 ],
 "metadata": {
  "kernelspec": {
   "display_name": "py311",
   "language": "python",
   "name": "python3"
  },
  "language_info": {
   "codemirror_mode": {
    "name": "ipython",
    "version": 3
   },
   "file_extension": ".py",
   "mimetype": "text/x-python",
   "name": "python",
   "nbconvert_exporter": "python",
   "pygments_lexer": "ipython3",
   "version": "3.11.3"
  },
  "orig_nbformat": 4
 },
 "nbformat": 4,
 "nbformat_minor": 2
}

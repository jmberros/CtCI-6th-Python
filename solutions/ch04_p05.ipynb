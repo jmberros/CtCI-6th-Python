{
 "cells": [
  {
   "cell_type": "markdown",
   "metadata": {},
   "source": [
    "Validate BST: Implement a function to check if a binary tree is a binary search tree."
   ]
  },
  {
   "cell_type": "code",
   "execution_count": 1,
   "metadata": {},
   "outputs": [
    {
     "name": "stdout",
     "output_type": "stream",
     "text": [
      "\n",
      "    3__\n",
      "   /   \\\n",
      "  2     5\n",
      " /     / \\\n",
      "0     4   8\n",
      "\n",
      "\n",
      "  1\n",
      " / \\\n",
      "2   3\n",
      "\n"
     ]
    }
   ],
   "source": [
    "from binarytree import Node\n",
    "\n",
    "root_bst = Node(3)\n",
    "root_bst.left = Node(2)\n",
    "root_bst.right = Node(5)\n",
    "root_bst.left.left = Node(0)\n",
    "root_bst.right.left = Node(4)\n",
    "root_bst.right.right = Node(8)\n",
    "print(root_bst)\n",
    "\n",
    "root_bt = Node(1)\n",
    "root_bt.left = Node(2)\n",
    "root_bt.right = Node(3)\n",
    "print(root_bt)"
   ]
  },
  {
   "cell_type": "code",
   "execution_count": 11,
   "metadata": {},
   "outputs": [
    {
     "data": {
      "text/plain": [
       "False"
      ]
     },
     "execution_count": 11,
     "metadata": {},
     "output_type": "execute_result"
    }
   ],
   "source": [
    "from collections import deque\n",
    "\n",
    "\n",
    "def find_min(root: Node) -> tuple[int, int]:\n",
    "    \"\"\"Finds the minimum value in the tree under root (including root).\"\"\"\n",
    "    q = deque([root])\n",
    "    min_ = float(\"inf\")\n",
    "    while q:\n",
    "        node = q.popleft()\n",
    "        min_ = min(node.value, min_)\n",
    "        if node.left:\n",
    "            q.append(node.left)\n",
    "        if node.right:\n",
    "            q.append(node.right)\n",
    "    return min_\n",
    "\n",
    "def find_max(root: Node) -> tuple[int, int]:\n",
    "    \"\"\"Finds the maximum value in the tree under root (including root).\"\"\"\n",
    "    q = deque([root])\n",
    "    max_ = float(\"-inf\")\n",
    "    while q:\n",
    "        node = q.popleft()\n",
    "        max_ = max(node.value, max_)\n",
    "        if node.left:\n",
    "            q.append(node.left)\n",
    "        if node.right:\n",
    "            q.append(node.right)\n",
    "    return max_\n",
    "\n",
    "def validate_BST(root: Node) -> tuple[bool, int, int]:\n",
    "    \"\"\"Validates if the tree under root is a binary search tree (BST).\n",
    "    Args:\n",
    "        root: a Node.\n",
    "    Returns:\n",
    "        A 3-tuple of (is_valid, min, max), where is_valid is True if the\n",
    "        tree under root is a valid BST, and min/max are the minimum and\n",
    "        maximum value observed in the whole tree.\n",
    "    \"\"\"\n",
    "    nodes_to_validate = deque([root])\n",
    "    while nodes_to_validate:\n",
    "        node = nodes_to_validate.popleft()\n",
    "\n",
    "        if node.left:\n",
    "            max_l = find_max(node.left)\n",
    "            valid_l = max_l <= node.value\n",
    "        else:\n",
    "            valid_l = True\n",
    "\n",
    "        if node.right:\n",
    "            min_r = find_min(node.right)\n",
    "            valid_r = min_r > node.value\n",
    "        else:\n",
    "            valid_r = True\n",
    "\n",
    "        if not valid_l or not valid_r:\n",
    "            # If *any* subtree is not a BST, then the whole structure is not a BST,\n",
    "            # so we can exit early.\n",
    "            return False\n",
    "    \n",
    "        if node.left:\n",
    "            nodes_to_validate.append(node.left)\n",
    "        if node.right:\n",
    "            nodes_to_validate.append(node.right)\n",
    "\n",
    "    return True\n",
    "\n",
    "validate_BST(root_bt)"
   ]
  },
  {
   "cell_type": "markdown",
   "metadata": {},
   "source": [
    "# Gayle's solution O(N) -- MUCH better\n",
    "\n",
    "- Go down the tree starting from the root\n",
    "- Start with the range `(-inf, +inf]`. The root is within it. OK.\n",
    "- Go left. When branching left, update the right bound of the range with the node's value: `(-inf, 20]`.\n",
    "  - Is the left node within the valid range? OK.\n",
    "- Go right. When branching right, update the left bound: `(20, +inf]`.\n",
    "  - Is the right node within the valid range? OK\n",
    "- Keep branching in every non-null direction until the leaves.\n",
    "- If *any* node fails to fall within the valid range, the whole tree fails and you can exit early.\n",
    "- To know that the tree is a valid BST, you MUST hit all the nodes at least once. Any node can cause a failure.\n",
    "\n"
   ]
  },
  {
   "cell_type": "code",
   "execution_count": 31,
   "metadata": {},
   "outputs": [
    {
     "name": "stdout",
     "output_type": "stream",
     "text": [
      "\n",
      "    3__\n",
      "   /   \\\n",
      "  2     5\n",
      " /     / \\\n",
      "0     4   8\n",
      "\n"
     ]
    },
    {
     "data": {
      "text/plain": [
       "True"
      ]
     },
     "execution_count": 31,
     "metadata": {},
     "output_type": "execute_result"
    }
   ],
   "source": [
    "class InvalidBstException(Exception):\n",
    "    pass\n",
    "\n",
    "def _validate_BST(node: Node, range_: tuple = (float(\"-inf\"), float(\"+inf\"))) -> bool:\n",
    "    if node.value < range_[0] or node.value >= range_[1]:\n",
    "        raise InvalidBstException  # Break out of the recursion\n",
    "\n",
    "    valid_l = _validate_BST(node.left, (range_[0], node.value)) if node.left else True\n",
    "    valid_r = _validate_BST(node.right, (node.value, range_[1])) if node.right else True\n",
    "\n",
    "    return valid_l and valid_r\n",
    "\n",
    "def validate_BST(node: Node) -> bool:\n",
    "    try:\n",
    "        return _validate_BST(node)\n",
    "    except InvalidBstException:\n",
    "        return False\n",
    "\n",
    "print(root_bst)\n",
    "validate_BST(root_bst)"
   ]
  },
  {
   "cell_type": "code",
   "execution_count": null,
   "metadata": {},
   "outputs": [],
   "source": []
  },
  {
   "cell_type": "code",
   "execution_count": null,
   "metadata": {},
   "outputs": [],
   "source": []
  },
  {
   "cell_type": "code",
   "execution_count": null,
   "metadata": {},
   "outputs": [],
   "source": []
  },
  {
   "cell_type": "code",
   "execution_count": null,
   "metadata": {},
   "outputs": [],
   "source": []
  },
  {
   "cell_type": "code",
   "execution_count": null,
   "metadata": {},
   "outputs": [],
   "source": []
  },
  {
   "cell_type": "code",
   "execution_count": null,
   "metadata": {},
   "outputs": [],
   "source": []
  },
  {
   "cell_type": "code",
   "execution_count": null,
   "metadata": {},
   "outputs": [],
   "source": []
  },
  {
   "cell_type": "code",
   "execution_count": null,
   "metadata": {},
   "outputs": [],
   "source": []
  }
 ],
 "metadata": {
  "kernelspec": {
   "display_name": "py311",
   "language": "python",
   "name": "python3"
  },
  "language_info": {
   "codemirror_mode": {
    "name": "ipython",
    "version": 3
   },
   "file_extension": ".py",
   "mimetype": "text/x-python",
   "name": "python",
   "nbconvert_exporter": "python",
   "pygments_lexer": "ipython3",
   "version": "3.11.3"
  },
  "orig_nbformat": 4
 },
 "nbformat": 4,
 "nbformat_minor": 2
}

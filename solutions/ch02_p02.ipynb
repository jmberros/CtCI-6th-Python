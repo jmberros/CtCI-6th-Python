{
 "cells": [
  {
   "cell_type": "markdown",
   "metadata": {},
   "source": [
    "Return Kth to Last: Implement an algorithm to find the kth to last element of a singly linked list."
   ]
  },
  {
   "cell_type": "code",
   "execution_count": 4,
   "metadata": {},
   "outputs": [],
   "source": [
    "from linked_list_JM import LinkedList, LinkedListNode\n",
    "\n",
    "TEST_CASES = [\n",
    "    ((10, 20, 30, 40, 50), 1, 50),\n",
    "    ((10, 20, 30, 40, 50), 5, 10),\n",
    "]\n",
    "\n",
    "def run_test_cases(f):\n",
    "    for values, k, expected_result in TEST_CASES:\n",
    "        try:\n",
    "            result = f(LinkedList(values), k)\n",
    "        except Exception:\n",
    "            print(f\"Failed with input: {values}\")\n",
    "            raise\n",
    "        if result != expected_result:\n",
    "            print(f\"f({', '.join(str(i) for i in values)}, {k}) = {result} != {expected_result}\")\n",
    "            return\n",
    "\n",
    "    print(\"everything OK\")"
   ]
  },
  {
   "cell_type": "code",
   "execution_count": 5,
   "metadata": {},
   "outputs": [
    {
     "data": {
      "text/plain": [
       "10"
      ]
     },
     "execution_count": 5,
     "metadata": {},
     "output_type": "execute_result"
    }
   ],
   "source": [
    "def kth_to_last(ll: LinkedList, k: int) -> int:\n",
    "    i = len(ll) - k\n",
    "    \n",
    "    for j, node in enumerate(ll):\n",
    "        if j == i:\n",
    "            return node.value\n",
    "\n",
    "ll = LinkedList(list(range(1, 21)))\n",
    "\n",
    "kth_to_last(ll, 11)"
   ]
  },
  {
   "cell_type": "code",
   "execution_count": 6,
   "metadata": {},
   "outputs": [
    {
     "name": "stdout",
     "output_type": "stream",
     "text": [
      "everything OK\n"
     ]
    }
   ],
   "source": [
    "run_test_cases(kth_to_last)"
   ]
  },
  {
   "cell_type": "code",
   "execution_count": null,
   "metadata": {},
   "outputs": [],
   "source": []
  },
  {
   "cell_type": "code",
   "execution_count": null,
   "metadata": {},
   "outputs": [],
   "source": []
  },
  {
   "cell_type": "code",
   "execution_count": null,
   "metadata": {},
   "outputs": [],
   "source": []
  },
  {
   "cell_type": "code",
   "execution_count": null,
   "metadata": {},
   "outputs": [],
   "source": []
  },
  {
   "cell_type": "code",
   "execution_count": null,
   "metadata": {},
   "outputs": [],
   "source": []
  }
 ],
 "metadata": {
  "kernelspec": {
   "display_name": "py311",
   "language": "python",
   "name": "python3"
  },
  "language_info": {
   "codemirror_mode": {
    "name": "ipython",
    "version": 3
   },
   "file_extension": ".py",
   "mimetype": "text/x-python",
   "name": "python",
   "nbconvert_exporter": "python",
   "pygments_lexer": "ipython3",
   "version": "3.11.3"
  },
  "orig_nbformat": 4
 },
 "nbformat": 4,
 "nbformat_minor": 2
}

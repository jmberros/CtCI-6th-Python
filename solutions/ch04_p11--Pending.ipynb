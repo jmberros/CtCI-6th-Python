{
 "cells": [
  {
   "cell_type": "markdown",
   "metadata": {},
   "source": [
    "Random Node:\n",
    "- You are implementing a binary search tree class from scratch,\n",
    "- which, in addition to `insert`, `find`, and `delete`, has a method `getRandomNode()`\n",
    "- which returns a random node from the tree. All nodes should be equally likely to be chosen.\n",
    "- Design and implement an algorithm for `getRandomNode`, and explain how you would implement the rest of the methods."
   ]
  },
  {
   "cell_type": "code",
   "execution_count": 2,
   "metadata": {},
   "outputs": [
    {
     "data": {
      "image/svg+xml": [
       "\n",
       "<svg width=\"384\" height=\"240\" xmlns=\"http://www.w3.org/2000/svg\">\n",
       "<style>\n",
       "    .value {\n",
       "        font: 300 16px sans-serif;\n",
       "        text-align: center;\n",
       "        dominant-baseline: middle;\n",
       "        text-anchor: middle;\n",
       "    }\n",
       "    .node {\n",
       "        fill: lightgray;\n",
       "        stroke-width: 1;\n",
       "    }\n",
       "</style>\n",
       "<g stroke=\"#000000\">\n",
       "<line x1=\"233.0\" y1=\"144\" x2=\"257.0\" y2=\"192\"/>\n",
       "<line x1=\"137.0\" y1=\"144\" x2=\"113.0\" y2=\"192\"/>\n",
       "<line x1=\"41.0\" y1=\"144\" x2=\"17.0\" y2=\"192\"/>\n",
       "<line x1=\"281.0\" y1=\"96\" x2=\"329.0\" y2=\"144\"/>\n",
       "<line x1=\"281.0\" y1=\"96\" x2=\"233.0\" y2=\"144\"/>\n",
       "<line x1=\"89.0\" y1=\"96\" x2=\"137.0\" y2=\"144\"/>\n",
       "<line x1=\"89.0\" y1=\"96\" x2=\"41.0\" y2=\"144\"/>\n",
       "<line x1=\"185.0\" y1=\"48\" x2=\"281.0\" y2=\"96\"/>\n",
       "<line x1=\"185.0\" y1=\"48\" x2=\"89.0\" y2=\"96\"/>\n",
       "<circle class=\"node\" cx=\"185.0\" cy=\"48\" r=\"16\"/>\n",
       "<text class=\"value\" x=\"185.0\" y=\"48\">5</text>\n",
       "<circle class=\"node\" cx=\"89.0\" cy=\"96\" r=\"16\"/>\n",
       "<text class=\"value\" x=\"89.0\" y=\"96\">1</text>\n",
       "<circle class=\"node\" cx=\"281.0\" cy=\"96\" r=\"16\"/>\n",
       "<text class=\"value\" x=\"281.0\" y=\"96\">12</text>\n",
       "<circle class=\"node\" cx=\"41.0\" cy=\"144\" r=\"16\"/>\n",
       "<text class=\"value\" x=\"41.0\" y=\"144\">8</text>\n",
       "<circle class=\"node\" cx=\"137.0\" cy=\"144\" r=\"16\"/>\n",
       "<text class=\"value\" x=\"137.0\" y=\"144\">11</text>\n",
       "<circle class=\"node\" cx=\"233.0\" cy=\"144\" r=\"16\"/>\n",
       "<text class=\"value\" x=\"233.0\" y=\"144\">9</text>\n",
       "<circle class=\"node\" cx=\"329.0\" cy=\"144\" r=\"16\"/>\n",
       "<text class=\"value\" x=\"329.0\" y=\"144\">13</text>\n",
       "<circle class=\"node\" cx=\"17.0\" cy=\"192\" r=\"16\"/>\n",
       "<text class=\"value\" x=\"17.0\" y=\"192\">10</text>\n",
       "<circle class=\"node\" cx=\"113.0\" cy=\"192\" r=\"16\"/>\n",
       "<text class=\"value\" x=\"113.0\" y=\"192\">3</text>\n",
       "<circle class=\"node\" cx=\"257.0\" cy=\"192\" r=\"16\"/>\n",
       "<text class=\"value\" x=\"257.0\" y=\"192\">7</text>\n",
       "</g>\n",
       "</svg>\n"
      ],
      "text/plain": [
       "Node(5)"
      ]
     },
     "execution_count": 2,
     "metadata": {},
     "output_type": "execute_result"
    }
   ],
   "source": [
    "from binarytree import tree\n",
    "\n",
    "root1 = tree(height=3)\n",
    "root1"
   ]
  },
  {
   "cell_type": "code",
   "execution_count": 7,
   "metadata": {},
   "outputs": [
    {
     "data": {
      "text/plain": [
       "11"
      ]
     },
     "execution_count": 7,
     "metadata": {},
     "output_type": "execute_result"
    }
   ],
   "source": [
    "import random\n",
    "\n",
    "\n",
    "random.choice([val for val in root1.values if val is not None])  # O(N)"
   ]
  },
  {
   "cell_type": "code",
   "execution_count": null,
   "metadata": {},
   "outputs": [],
   "source": []
  },
  {
   "cell_type": "code",
   "execution_count": null,
   "metadata": {},
   "outputs": [],
   "source": []
  },
  {
   "cell_type": "code",
   "execution_count": null,
   "metadata": {},
   "outputs": [],
   "source": []
  },
  {
   "cell_type": "code",
   "execution_count": null,
   "metadata": {},
   "outputs": [],
   "source": []
  },
  {
   "cell_type": "code",
   "execution_count": null,
   "metadata": {},
   "outputs": [],
   "source": []
  },
  {
   "cell_type": "code",
   "execution_count": null,
   "metadata": {},
   "outputs": [],
   "source": []
  },
  {
   "cell_type": "code",
   "execution_count": null,
   "metadata": {},
   "outputs": [],
   "source": []
  },
  {
   "cell_type": "code",
   "execution_count": null,
   "metadata": {},
   "outputs": [],
   "source": []
  },
  {
   "cell_type": "code",
   "execution_count": null,
   "metadata": {},
   "outputs": [],
   "source": []
  },
  {
   "cell_type": "code",
   "execution_count": null,
   "metadata": {},
   "outputs": [],
   "source": []
  },
  {
   "cell_type": "code",
   "execution_count": null,
   "metadata": {},
   "outputs": [],
   "source": []
  },
  {
   "cell_type": "code",
   "execution_count": null,
   "metadata": {},
   "outputs": [],
   "source": []
  },
  {
   "cell_type": "code",
   "execution_count": null,
   "metadata": {},
   "outputs": [],
   "source": []
  },
  {
   "cell_type": "code",
   "execution_count": null,
   "metadata": {},
   "outputs": [],
   "source": []
  },
  {
   "cell_type": "code",
   "execution_count": null,
   "metadata": {},
   "outputs": [],
   "source": []
  },
  {
   "cell_type": "code",
   "execution_count": null,
   "metadata": {},
   "outputs": [],
   "source": []
  },
  {
   "cell_type": "code",
   "execution_count": null,
   "metadata": {},
   "outputs": [],
   "source": []
  },
  {
   "cell_type": "code",
   "execution_count": null,
   "metadata": {},
   "outputs": [],
   "source": []
  },
  {
   "cell_type": "code",
   "execution_count": null,
   "metadata": {},
   "outputs": [],
   "source": []
  },
  {
   "cell_type": "code",
   "execution_count": null,
   "metadata": {},
   "outputs": [],
   "source": []
  },
  {
   "cell_type": "code",
   "execution_count": null,
   "metadata": {},
   "outputs": [],
   "source": []
  },
  {
   "cell_type": "code",
   "execution_count": null,
   "metadata": {},
   "outputs": [],
   "source": []
  },
  {
   "cell_type": "code",
   "execution_count": null,
   "metadata": {},
   "outputs": [],
   "source": []
  },
  {
   "cell_type": "code",
   "execution_count": null,
   "metadata": {},
   "outputs": [],
   "source": []
  }
 ],
 "metadata": {
  "kernelspec": {
   "display_name": "py311",
   "language": "python",
   "name": "python3"
  },
  "language_info": {
   "codemirror_mode": {
    "name": "ipython",
    "version": 3
   },
   "file_extension": ".py",
   "mimetype": "text/x-python",
   "name": "python",
   "nbconvert_exporter": "python",
   "pygments_lexer": "ipython3",
   "version": "3.11.3"
  },
  "orig_nbformat": 4
 },
 "nbformat": 4,
 "nbformat_minor": 2
}

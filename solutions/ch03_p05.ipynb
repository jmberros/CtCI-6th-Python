{
 "cells": [
  {
   "cell_type": "markdown",
   "metadata": {},
   "source": [
    "Sort Stack: Write a program to sort a stack such that the smallest items are on the top. You can use\n",
    "an additional temporary stack, but you may not copy the elements into any other data structure\n",
    "(such as an array). The stack supports the following operations: `push`, `pop`, `peek`, and `isEmpty`."
   ]
  },
  {
   "cell_type": "code",
   "execution_count": 1,
   "metadata": {},
   "outputs": [],
   "source": [
    "from stack_JM import Stack, EmptyStackException"
   ]
  },
  {
   "cell_type": "markdown",
   "metadata": {},
   "source": [
    "# Using two additional stacks (cheat)"
   ]
  },
  {
   "cell_type": "code",
   "execution_count": 42,
   "metadata": {},
   "outputs": [
    {
     "name": "stdout",
     "output_type": "stream",
     "text": [
      "Stack(10.5.5.5.15.15.14.0)\n",
      "Stack(15.15.14.10.5.5.5.0)\n"
     ]
    }
   ],
   "source": [
    "from typing import Tuple\n",
    "\n",
    "def extract_maxima_moving_everything_around(a: Stack, b: Stack) -> Tuple[int, int]:\n",
    "    maximum = float(\"-inf\")\n",
    "    while not a.is_empty():\n",
    "        item = a.pop()\n",
    "        maximum = max(item, maximum)\n",
    "        b.push(item)\n",
    "\n",
    "    count = 0\n",
    "    while not b.is_empty():\n",
    "        item = b.pop()\n",
    "        if item == maximum:\n",
    "            count += 1\n",
    "            continue\n",
    "        a.push(item)\n",
    "\n",
    "    return maximum, count\n",
    "\n",
    "def sort_stack(s: Stack) -> Stack:\n",
    "    sorted_s = Stack()\n",
    "    while not s.is_empty():\n",
    "        maximum, count = extract_maxima_moving_everything_around(s, aux)\n",
    "        for _ in range(count):\n",
    "            sorted_s.push(maximum)\n",
    "\n",
    "    return sorted_s\n",
    "\n",
    "\n",
    "s = Stack()\n",
    "for item in [10, 5, 5, 5, 15, 15, 14, 0]:\n",
    "    s.push(item)\n",
    "\n",
    "print(s)\n",
    "t = sort_stack(s)\n",
    "print(t)"
   ]
  },
  {
   "cell_type": "markdown",
   "metadata": {},
   "source": [
    "# Using only one additional stack (This one was tricky)"
   ]
  },
  {
   "cell_type": "code",
   "execution_count": 59,
   "metadata": {},
   "outputs": [
    {
     "name": "stdout",
     "output_type": "stream",
     "text": [
      "Stack(10.5.5.5.15.15.14.0)\n"
     ]
    },
    {
     "data": {
      "text/plain": [
       "Stack(15.15.14.10.5.5.5.0)"
      ]
     },
     "execution_count": 59,
     "metadata": {},
     "output_type": "execute_result"
    }
   ],
   "source": [
    "def sort_stack(s: Stack) -> Stack:\n",
    "    result = Stack()\n",
    "    counter = 0\n",
    "\n",
    "    while not s.is_empty():\n",
    "        item = s.pop()\n",
    "        while not result.is_empty() and item > result.peek():\n",
    "            s.push(result.pop())\n",
    "\n",
    "        result.push(item)\n",
    "        counter += 1\n",
    "        if counter > 100:\n",
    "            break\n",
    "\n",
    "    return result\n",
    "\n",
    "\n",
    "####\n",
    "\n",
    "s = Stack()\n",
    "for item in [10, 5, 5, 5, 15, 15, 14, 0]:\n",
    "    s.push(item)\n",
    "\n",
    "print(s)\n",
    "sort_stack(s)"
   ]
  },
  {
   "cell_type": "code",
   "execution_count": null,
   "metadata": {},
   "outputs": [],
   "source": []
  },
  {
   "cell_type": "code",
   "execution_count": null,
   "metadata": {},
   "outputs": [],
   "source": []
  },
  {
   "cell_type": "code",
   "execution_count": null,
   "metadata": {},
   "outputs": [],
   "source": []
  },
  {
   "cell_type": "code",
   "execution_count": null,
   "metadata": {},
   "outputs": [],
   "source": []
  },
  {
   "cell_type": "code",
   "execution_count": null,
   "metadata": {},
   "outputs": [],
   "source": []
  },
  {
   "cell_type": "code",
   "execution_count": null,
   "metadata": {},
   "outputs": [],
   "source": []
  },
  {
   "cell_type": "code",
   "execution_count": null,
   "metadata": {},
   "outputs": [],
   "source": []
  },
  {
   "cell_type": "code",
   "execution_count": null,
   "metadata": {},
   "outputs": [],
   "source": []
  },
  {
   "cell_type": "code",
   "execution_count": null,
   "metadata": {},
   "outputs": [],
   "source": []
  },
  {
   "cell_type": "code",
   "execution_count": null,
   "metadata": {},
   "outputs": [],
   "source": []
  }
 ],
 "metadata": {
  "kernelspec": {
   "display_name": "py311",
   "language": "python",
   "name": "python3"
  },
  "language_info": {
   "codemirror_mode": {
    "name": "ipython",
    "version": 3
   },
   "file_extension": ".py",
   "mimetype": "text/x-python",
   "name": "python",
   "nbconvert_exporter": "python",
   "pygments_lexer": "ipython3",
   "version": "3.11.3"
  },
  "orig_nbformat": 4
 },
 "nbformat": 4,
 "nbformat_minor": 2
}

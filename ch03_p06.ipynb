{
 "cells": [
  {
   "cell_type": "markdown",
   "metadata": {},
   "source": [
    "Animal Shelter: An animal shelter, which holds only dogs and cats, operates on a strictly \"first in, first\n",
    "out\" basis. People must adopt either the \"oldest\" (based on arrival time) of all animals at the shelter,\n",
    "or they can select whether they would prefer a dog or a cat (and will receive the oldest animal of\n",
    "that type). They cannot select which specific animal they would like. Create the data structures to\n",
    "maintain this system and implement operations such as enqueue, dequeueAny, dequeueDog,\n",
    "and dequeueCat. You may use the built-in `LinkedList` data structure.\n",
    "\n",
    "- holds only dogs and cats\n",
    "- First in first out\n",
    "- adopt either the \"oldest\" of all animals\n",
    "- OR can select whether they would prefer a dog or a cat\n",
    "- Create the data structures\n",
    "- implement `enqueue`, `dequeueAny`, `dequeueDog`, and `dequeueCat`\n",
    "- You may use the built-in `LinkedList`"
   ]
  },
  {
   "cell_type": "code",
   "execution_count": 1,
   "metadata": {},
   "outputs": [],
   "source": [
    "from stack_JM import Stack\n",
    "from linked_list_JM import LinkedList, LinkedListNode"
   ]
  },
  {
   "cell_type": "markdown",
   "metadata": {},
   "source": [
    "# Using `deque` from the stdlib"
   ]
  },
  {
   "cell_type": "code",
   "execution_count": 53,
   "metadata": {},
   "outputs": [
    {
     "name": "stdout",
     "output_type": "stream",
     "text": [
      "self.cats = deque([C(1), C(2), C(4)]) | self.dogs = deque([D(3), D(5), D(6), D(7)])\n",
      "C(1)\n",
      "self.cats = deque([C(2), C(4)]) | self.dogs = deque([D(3), D(5), D(6), D(7)])\n",
      "C(2)\n",
      "self.cats = deque([C(4)]) | self.dogs = deque([D(3), D(5), D(6), D(7)])\n",
      "D(3)\n",
      "self.cats = deque([C(4)]) | self.dogs = deque([D(5), D(6), D(7)])\n",
      "C(4)\n",
      "self.cats = deque([]) | self.dogs = deque([D(5), D(6), D(7)])\n",
      "D(5)\n",
      "self.cats = deque([]) | self.dogs = deque([D(6), D(7)])\n",
      "D(6)\n",
      "self.cats = deque([]) | self.dogs = deque([D(7)])\n",
      "D(7)\n",
      "self.cats = deque([]) | self.dogs = deque([])\n"
     ]
    },
    {
     "ename": "NoMoreAnimalsException",
     "evalue": "",
     "output_type": "error",
     "traceback": [
      "\u001b[0;31m---------------------------------------------------------------------------\u001b[0m",
      "\u001b[0;31mNoMoreAnimalsException\u001b[0m                    Traceback (most recent call last)",
      "Cell \u001b[0;32mIn[53], line 109\u001b[0m\n\u001b[1;32m    107\u001b[0m \u001b[39mprint\u001b[39m(shelter\u001b[39m.\u001b[39mdequeue_any())\n\u001b[1;32m    108\u001b[0m \u001b[39mprint\u001b[39m(shelter)\n\u001b[0;32m--> 109\u001b[0m shelter\u001b[39m.\u001b[39;49mdequeue_dog()\n",
      "Cell \u001b[0;32mIn[53], line 77\u001b[0m, in \u001b[0;36mAnimalShelter.dequeue_dog\u001b[0;34m(self)\u001b[0m\n\u001b[1;32m     75\u001b[0m \u001b[39mdef\u001b[39;00m \u001b[39mdequeue_dog\u001b[39m(\u001b[39mself\u001b[39m):\n\u001b[1;32m     76\u001b[0m     \u001b[39mif\u001b[39;00m \u001b[39mself\u001b[39m\u001b[39m.\u001b[39mn_dogs \u001b[39m==\u001b[39m \u001b[39m0\u001b[39m:\n\u001b[0;32m---> 77\u001b[0m         \u001b[39mraise\u001b[39;00m NoMoreAnimalsException\n\u001b[1;32m     78\u001b[0m     \u001b[39mreturn\u001b[39;00m \u001b[39mself\u001b[39m\u001b[39m.\u001b[39mdogs\u001b[39m.\u001b[39mpopleft()\n",
      "\u001b[0;31mNoMoreAnimalsException\u001b[0m: "
     ]
    }
   ],
   "source": [
    "from collections import deque\n",
    "from functools import total_ordering\n",
    "\n",
    "\n",
    "class NoMoreAnimalsException(Exception):\n",
    "    pass\n",
    "\n",
    "@total_ordering\n",
    "class Animal:\n",
    "    def __init__(self, category: str, order: int):\n",
    "        self.category = category\n",
    "        self.order = order\n",
    "\n",
    "    def __eq__(self, other):\n",
    "        return self.order == other.order\n",
    "\n",
    "    def __gt__(self, other):\n",
    "        return self.order > other.order\n",
    "\n",
    "    def __repr__(self):\n",
    "        return f\"{self.category}({self.order})\"\n",
    "\n",
    "    def is_cat(self):\n",
    "        return self.category == \"C\"\n",
    "\n",
    "\n",
    "class AnimalShelter:\n",
    "    def __init__(self):\n",
    "        self.cats = deque()\n",
    "        self.dogs = deque()\n",
    "\n",
    "    def __repr__(self):\n",
    "        return f\"{self.cats = } | {self.dogs = }\"\n",
    "\n",
    "    def enqueue(self, category: str):\n",
    "        order = self.get_last_order() + 1\n",
    "        animal = Animal(category, order)\n",
    "        if animal.is_cat():\n",
    "            self.cats.append(animal)\n",
    "        else:\n",
    "            self.dogs.append(animal)\n",
    "\n",
    "    @property\n",
    "    def n_dogs(self):\n",
    "        return len(self.dogs)\n",
    "\n",
    "    @property\n",
    "    def n_cats(self):\n",
    "        return len(self.cats)\n",
    "\n",
    "    def is_empty(self):\n",
    "        return self.n_dogs + self.n_cats == 0\n",
    "\n",
    "    def dequeue_any(self):\n",
    "        if self.is_empty():\n",
    "            raise NoMoreAnimalsException\n",
    "        elif self.n_cats == 0:\n",
    "            return self.dequeue_dog()\n",
    "        elif self.n_dogs == 0:\n",
    "            return self.dequeue_cat()\n",
    "        \n",
    "        oldest_cat = self.cats[0]\n",
    "        oldest_dog = self.dogs[0]\n",
    "\n",
    "        if oldest_cat < oldest_dog:\n",
    "            return self.dequeue_cat()\n",
    "        else:\n",
    "            return self.dequeue_dog()\n",
    "\n",
    "    def dequeue_cat(self):\n",
    "        if self.n_cats == 0:\n",
    "            raise NoMoreAnimalsException\n",
    "        return self.cats.popleft()\n",
    "\n",
    "    def dequeue_dog(self):\n",
    "        if self.n_dogs == 0:\n",
    "            raise NoMoreAnimalsException\n",
    "        return self.dogs.popleft()\n",
    "\n",
    "    def get_last_order(self):\n",
    "        last_cat = self.cats[-1].order if self.n_cats > 0 else 0\n",
    "        last_dog = self.dogs[-1].order if self.n_dogs > 0 else 0\n",
    "        return max(last_cat, last_dog)\n",
    "\n",
    "\n",
    "\n",
    "#####\n",
    "\n",
    "shelter = AnimalShelter()\n",
    "\n",
    "for animal_type in \"CCDCDDD\":\n",
    "    shelter.enqueue(animal_type)\n",
    "\n",
    "print(shelter)\n",
    "print(shelter.dequeue_cat())\n",
    "print(shelter)\n",
    "print(shelter.dequeue_cat())\n",
    "print(shelter)\n",
    "print(shelter.dequeue_dog())\n",
    "print(shelter)\n",
    "print(shelter.dequeue_any())\n",
    "print(shelter)\n",
    "print(shelter.dequeue_any())\n",
    "print(shelter)\n",
    "print(shelter.dequeue_any())\n",
    "print(shelter)\n",
    "print(shelter.dequeue_any())\n",
    "print(shelter)\n",
    "shelter.dequeue_dog()\n"
   ]
  },
  {
   "cell_type": "code",
   "execution_count": null,
   "metadata": {},
   "outputs": [],
   "source": []
  },
  {
   "cell_type": "code",
   "execution_count": null,
   "metadata": {},
   "outputs": [],
   "source": []
  },
  {
   "cell_type": "code",
   "execution_count": null,
   "metadata": {},
   "outputs": [],
   "source": []
  },
  {
   "cell_type": "code",
   "execution_count": null,
   "metadata": {},
   "outputs": [],
   "source": []
  },
  {
   "cell_type": "code",
   "execution_count": null,
   "metadata": {},
   "outputs": [],
   "source": []
  },
  {
   "cell_type": "code",
   "execution_count": null,
   "metadata": {},
   "outputs": [],
   "source": []
  },
  {
   "cell_type": "code",
   "execution_count": null,
   "metadata": {},
   "outputs": [],
   "source": []
  },
  {
   "cell_type": "code",
   "execution_count": null,
   "metadata": {},
   "outputs": [],
   "source": []
  },
  {
   "cell_type": "code",
   "execution_count": null,
   "metadata": {},
   "outputs": [],
   "source": []
  },
  {
   "cell_type": "markdown",
   "metadata": {},
   "source": [
    "# Using two LinkedLists"
   ]
  },
  {
   "cell_type": "code",
   "execution_count": 36,
   "metadata": {},
   "outputs": [
    {
     "name": "stdout",
     "output_type": "stream",
     "text": [
      "self.cats = LinkedList(1:2:4) | self.dogs = LinkedList(3:5:6:7)\n",
      "self.cats = LinkedList(2:4) | self.dogs = LinkedList(3:5:6:7)\n",
      "self.cats = LinkedList(4) | self.dogs = LinkedList(3:5:6:7)\n",
      "self.cats = LinkedList(4) | self.dogs = LinkedList(5:6:7)\n"
     ]
    },
    {
     "ename": "AttributeError",
     "evalue": "'NoneType' object has no attribute 'value'",
     "output_type": "error",
     "traceback": [
      "\u001b[0;31m---------------------------------------------------------------------------\u001b[0m",
      "\u001b[0;31mAttributeError\u001b[0m                            Traceback (most recent call last)",
      "Cell \u001b[0;32mIn[36], line 84\u001b[0m\n\u001b[1;32m     81\u001b[0m \u001b[39mprint\u001b[39m(shelter)\n\u001b[1;32m     83\u001b[0m shelter\u001b[39m.\u001b[39mdequeue_any()\n\u001b[0;32m---> 84\u001b[0m shelter\u001b[39m.\u001b[39;49mdequeue_any()\n\u001b[1;32m     85\u001b[0m shelter\u001b[39m.\u001b[39mdequeue_any()\n",
      "Cell \u001b[0;32mIn[36], line 33\u001b[0m, in \u001b[0;36mAnimalShelter.dequeue_any\u001b[0;34m(self)\u001b[0m\n\u001b[1;32m     31\u001b[0m     \u001b[39mreturn\u001b[39;00m \u001b[39mself\u001b[39m\u001b[39m.\u001b[39mdequeue_dog()\n\u001b[1;32m     32\u001b[0m \u001b[39melse\u001b[39;00m:\n\u001b[0;32m---> 33\u001b[0m     older_cat \u001b[39m=\u001b[39m \u001b[39mself\u001b[39;49m\u001b[39m.\u001b[39;49mcats\u001b[39m.\u001b[39;49mhead\u001b[39m.\u001b[39;49mvalue\n\u001b[1;32m     35\u001b[0m \u001b[39mif\u001b[39;00m \u001b[39mself\u001b[39m\u001b[39m.\u001b[39mdogs\u001b[39m.\u001b[39mis_empty():\n\u001b[1;32m     36\u001b[0m     \u001b[39mreturn\u001b[39;00m \u001b[39mself\u001b[39m\u001b[39m.\u001b[39mdequeue_cat()\n",
      "\u001b[0;31mAttributeError\u001b[0m: 'NoneType' object has no attribute 'value'"
     ]
    }
   ],
   "source": [
    "class NoMoreAnimalsException(Exception):\n",
    "    pass\n",
    "\n",
    "\n",
    "class LinkedListWithRemovableHead(LinkedList):\n",
    "    def remove_head(self):\n",
    "        if self.head is None:\n",
    "            raise NoMoreAnimalsException\n",
    "        item = self.head\n",
    "        self.head = item.next\n",
    "        if self.head is not None:\n",
    "            self.head.prev = None\n",
    "        return item\n",
    "\n",
    "\n",
    "class AnimalShelter:\n",
    "    ANIMAL_TYPES = {\"C\", \"D\"}\n",
    "\n",
    "    def __init__(self):\n",
    "        self.cats = LinkedListWithRemovableHead()\n",
    "        self.dogs = LinkedListWithRemovableHead()\n",
    "\n",
    "    def is_empty(self):\n",
    "        self.cats.is_empty() and self.dogs.is_empty()\n",
    "\n",
    "    def dequeue_any(self):\n",
    "        if self.is_empty():\n",
    "            raise NoMoreAnimalsException\n",
    "        \n",
    "        if self.cats.is_empty():\n",
    "            return self.dequeue_dog()\n",
    "        else:\n",
    "            older_cat = self.cats.head.value\n",
    "\n",
    "        if self.dogs.is_empty():\n",
    "            return self.dequeue_cat()\n",
    "        else:\n",
    "            older_dog = self.dogs.head.value\n",
    "\n",
    "        if older_cat < older_dog:\n",
    "            return self.dequeue_cat()\n",
    "        else:\n",
    "            return self.dequeue_dog()\n",
    "\n",
    "    def dequeue_cat(self):\n",
    "        return self.cats.remove_head()\n",
    "\n",
    "    def dequeue_dog(self):\n",
    "        return self.dogs.remove_head()\n",
    "\n",
    "    def enqueue(self, category: str):\n",
    "        # assert category in self.ANIMAL_TYPES\n",
    "        target = self.cats if category == \"C\" else self.dogs\n",
    "        id_ = self.n_animals_sheltered() + 1\n",
    "        target.add(id_)\n",
    "\n",
    "    def n_animals_sheltered(self):\n",
    "        last_cat_id = self.cats.tail.value if not self.cats.is_empty() else 0\n",
    "        last_dog_id = self.dogs.tail.value if not self.dogs.is_empty() else 0\n",
    "        return max(last_dog_id, last_cat_id)\n",
    "\n",
    "    def __repr__(self):\n",
    "        return f\"{self.cats = } | {self.dogs = }\"\n",
    "\n",
    "####\n",
    "\n",
    "shelter = AnimalShelter()\n",
    "\n",
    "for animal_type in \"CCDCDDD\":\n",
    "    shelter.enqueue(animal_type)\n",
    "\n",
    "print(shelter)\n",
    "\n",
    "shelter.dequeue_cat()\n",
    "print(shelter)\n",
    "\n",
    "shelter.dequeue_cat()\n",
    "print(shelter)\n",
    "\n",
    "shelter.dequeue_dog()\n",
    "print(shelter)\n",
    "\n",
    "shelter.dequeue_any()\n",
    "shelter.dequeue_any()\n",
    "shelter.dequeue_any()"
   ]
  },
  {
   "cell_type": "code",
   "execution_count": null,
   "metadata": {},
   "outputs": [],
   "source": []
  },
  {
   "cell_type": "code",
   "execution_count": null,
   "metadata": {},
   "outputs": [],
   "source": []
  },
  {
   "cell_type": "code",
   "execution_count": null,
   "metadata": {},
   "outputs": [],
   "source": []
  },
  {
   "cell_type": "code",
   "execution_count": null,
   "metadata": {},
   "outputs": [],
   "source": []
  },
  {
   "cell_type": "markdown",
   "metadata": {},
   "source": [
    "# Using one LinkedList"
   ]
  },
  {
   "cell_type": "code",
   "execution_count": null,
   "metadata": {},
   "outputs": [],
   "source": []
  },
  {
   "cell_type": "code",
   "execution_count": null,
   "metadata": {},
   "outputs": [],
   "source": []
  },
  {
   "cell_type": "code",
   "execution_count": null,
   "metadata": {},
   "outputs": [],
   "source": []
  },
  {
   "cell_type": "code",
   "execution_count": null,
   "metadata": {},
   "outputs": [],
   "source": []
  },
  {
   "cell_type": "code",
   "execution_count": null,
   "metadata": {},
   "outputs": [],
   "source": []
  },
  {
   "cell_type": "code",
   "execution_count": null,
   "metadata": {},
   "outputs": [],
   "source": []
  },
  {
   "cell_type": "code",
   "execution_count": null,
   "metadata": {},
   "outputs": [],
   "source": []
  }
 ],
 "metadata": {
  "kernelspec": {
   "display_name": "py311",
   "language": "python",
   "name": "python3"
  },
  "language_info": {
   "codemirror_mode": {
    "name": "ipython",
    "version": 3
   },
   "file_extension": ".py",
   "mimetype": "text/x-python",
   "name": "python",
   "nbconvert_exporter": "python",
   "pygments_lexer": "ipython3",
   "version": "3.11.3"
  },
  "orig_nbformat": 4
 },
 "nbformat": 4,
 "nbformat_minor": 2
}

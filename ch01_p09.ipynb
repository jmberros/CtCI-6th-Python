{
 "cells": [
  {
   "cell_type": "markdown",
   "metadata": {},
   "source": [
    "String Rotation: Assume you have a method isSubstring which checks if one word is a substring\n",
    "of another. Given two strings, sl and s2, write code to check if s2 is a rotation of sl using only one\n",
    "call to isSubstring (e.g.,\"waterbottle\" is a rotation of\"erbottlewat\")."
   ]
  },
  {
   "cell_type": "code",
   "execution_count": 1,
   "metadata": {},
   "outputs": [],
   "source": [
    "TEST_CASES = [\n",
    "    (\"waterbottle\", \"erbottlewat\", True),\n",
    "    (\"foo\", \"bar\", False),\n",
    "    (\"foo\", \"foofoo\", False),\n",
    "]\n",
    "\n",
    "def run_test_cases(f):\n",
    "    for *inputs, expected_result in TEST_CASES:\n",
    "        try:\n",
    "            result = f(*inputs)\n",
    "        except Exception:\n",
    "            print(f\"Failed with input: {inputs}\")\n",
    "            raise\n",
    "        if result != expected_result:\n",
    "            print(f\"f({', '.join(str(i) for i in inputs)}) = {result} != {expected_result}\")\n",
    "            return\n",
    "\n",
    "    print(\"everything OK\")"
   ]
  },
  {
   "cell_type": "code",
   "execution_count": 10,
   "metadata": {},
   "outputs": [
    {
     "name": "stdout",
     "output_type": "stream",
     "text": [
      "everything OK\n"
     ]
    }
   ],
   "source": [
    "def is_rotation_2(s1: str, s2: str) -> bool:\n",
    "    return len(s1) == len(s2) and s2 in s1 * 2\n",
    "\n",
    "run_test_cases(is_rotation_2)"
   ]
  },
  {
   "cell_type": "code",
   "execution_count": 7,
   "metadata": {},
   "outputs": [
    {
     "name": "stdout",
     "output_type": "stream",
     "text": [
      "everything OK\n"
     ]
    }
   ],
   "source": [
    "def is_rotation_1(s1: str, s2: str) -> bool:\n",
    "    for i in range(len(s1)):\n",
    "        rotation = s1[i:] + s1[:i]\n",
    "        if rotation == s2:\n",
    "            return True\n",
    "    \n",
    "    return False\n",
    "\n",
    "run_test_cases(is_rotation_1)"
   ]
  },
  {
   "cell_type": "code",
   "execution_count": null,
   "metadata": {},
   "outputs": [],
   "source": []
  },
  {
   "cell_type": "code",
   "execution_count": null,
   "metadata": {},
   "outputs": [],
   "source": []
  },
  {
   "cell_type": "code",
   "execution_count": null,
   "metadata": {},
   "outputs": [],
   "source": []
  },
  {
   "cell_type": "code",
   "execution_count": null,
   "metadata": {},
   "outputs": [],
   "source": []
  },
  {
   "cell_type": "code",
   "execution_count": null,
   "metadata": {},
   "outputs": [],
   "source": []
  }
 ],
 "metadata": {
  "kernelspec": {
   "display_name": "py311",
   "language": "python",
   "name": "python3"
  },
  "language_info": {
   "codemirror_mode": {
    "name": "ipython",
    "version": 3
   },
   "file_extension": ".py",
   "mimetype": "text/x-python",
   "name": "python",
   "nbconvert_exporter": "python",
   "pygments_lexer": "ipython3",
   "version": "3.11.3"
  },
  "orig_nbformat": 4
 },
 "nbformat": 4,
 "nbformat_minor": 2
}

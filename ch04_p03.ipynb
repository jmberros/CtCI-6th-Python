{
 "cells": [
  {
   "cell_type": "markdown",
   "metadata": {},
   "source": [
    "List of Depths: Given a binary tree, design an algorithm which creates a linked list of all the nodes\n",
    "at each depth (e.g., if you have a tree with depth D, you'll have D linked lists)."
   ]
  },
  {
   "cell_type": "code",
   "execution_count": 5,
   "metadata": {},
   "outputs": [
    {
     "name": "stdout",
     "output_type": "stream",
     "text": [
      "\n",
      "    __1\n",
      "   /   \\\n",
      "  2     3__\n",
      " / \\       \\\n",
      "4   5       6\n",
      "           /\n",
      "          7\n",
      "\n"
     ]
    }
   ],
   "source": [
    "from linked_list_JM import LinkedList\n",
    "from binarytree import Node\n",
    "\n",
    "\n",
    "root = Node(1)\n",
    "two = root.left = Node(2)\n",
    "three = root.right = Node(3)\n",
    "two.left = Node(4)\n",
    "two.right = Node(5)\n",
    "six = three.right = Node(6)\n",
    "six.left = Node(7)\n",
    "\n",
    "print(root)"
   ]
  },
  {
   "cell_type": "code",
   "execution_count": 19,
   "metadata": {},
   "outputs": [
    {
     "data": {
      "text/plain": [
       "{1: LinkedList(1),\n",
       " 2: LinkedList(2::3),\n",
       " 3: LinkedList(4::5::6),\n",
       " 4: LinkedList(7)}"
      ]
     },
     "execution_count": 19,
     "metadata": {},
     "output_type": "execute_result"
    }
   ],
   "source": [
    "from typing import Callable\n",
    "\n",
    "def create_linkedlist_per_level(node: Node, level: int, store: dict):\n",
    "    \"\"\"Creates or extends a LinkedList for each level of the tree below the given node.\n",
    "\n",
    "    Args:\n",
    "        node: A Node that responds to .value, .left, .right.\n",
    "        level: The level number, where higher means deeper in the tree.\n",
    "        store: A dictionary to keep the linked lists.\n",
    "    \"\"\"\n",
    "    if level not in store:\n",
    "        store[level] = LinkedList()\n",
    "    store[level].add(node.value)\n",
    "\n",
    "    if node.left is not None:\n",
    "        create_linkedlist_per_level(node.left, level + 1, store)\n",
    "    if node.right is not None:\n",
    "        create_linkedlist_per_level(node.right, level + 1, store)\n",
    "\n",
    "    return store\n",
    "\n",
    "store = create_linkedlist_per_level(root, level=1, store={})\n",
    "store"
   ]
  },
  {
   "cell_type": "code",
   "execution_count": null,
   "metadata": {},
   "outputs": [],
   "source": []
  },
  {
   "cell_type": "code",
   "execution_count": null,
   "metadata": {},
   "outputs": [],
   "source": []
  },
  {
   "cell_type": "code",
   "execution_count": null,
   "metadata": {},
   "outputs": [],
   "source": []
  },
  {
   "cell_type": "code",
   "execution_count": null,
   "metadata": {},
   "outputs": [],
   "source": []
  },
  {
   "cell_type": "code",
   "execution_count": null,
   "metadata": {},
   "outputs": [],
   "source": []
  },
  {
   "cell_type": "code",
   "execution_count": null,
   "metadata": {},
   "outputs": [],
   "source": []
  },
  {
   "cell_type": "code",
   "execution_count": null,
   "metadata": {},
   "outputs": [],
   "source": []
  }
 ],
 "metadata": {
  "kernelspec": {
   "display_name": "py311",
   "language": "python",
   "name": "python3"
  },
  "language_info": {
   "codemirror_mode": {
    "name": "ipython",
    "version": 3
   },
   "file_extension": ".py",
   "mimetype": "text/x-python",
   "name": "python",
   "nbconvert_exporter": "python",
   "pygments_lexer": "ipython3",
   "version": "3.11.3"
  },
  "orig_nbformat": 4
 },
 "nbformat": 4,
 "nbformat_minor": 2
}

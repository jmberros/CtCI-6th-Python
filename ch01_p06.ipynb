{
 "cells": [
  {
   "cell_type": "markdown",
   "metadata": {},
   "source": [
    "String Compression: Implement a method to perform basic string compression using the counts\n",
    "of repeated characters. For example, the string aabcccccaaa would become a2blc5a3. If the\n",
    "\"compressed\" string would not become smaller than the original string, your method should return\n",
    "the original string. You can assume the string has only uppercase and lowercase letters (a - z)."
   ]
  },
  {
   "cell_type": "code",
   "execution_count": 2,
   "metadata": {},
   "outputs": [],
   "source": [
    "TEST_CASES = [\n",
    "    (\"aabcccccaaa\", \"a2b1c5a3\"),\n",
    "    (\"abcdef\", \"abcdef\"),\n",
    "    (\"aabb\", \"aabb\"),\n",
    "    (\"aaa\", \"a3\"),\n",
    "    (\"a\", \"a\"),\n",
    "    (\"\", \"\"),\n",
    "]\n",
    "\n",
    "def run_test_cases(f):\n",
    "    for *inputs, expected_result in TEST_CASES:\n",
    "        result = f(*inputs)\n",
    "        if result != expected_result:\n",
    "            print(f\"f({', '.join(str(i) for i in inputs)}) = {result} != {expected_result}\")\n",
    "            return\n",
    "\n",
    "    print(\"everything OK\")"
   ]
  },
  {
   "cell_type": "code",
   "execution_count": 3,
   "metadata": {},
   "outputs": [
    {
     "data": {
      "text/plain": [
       "'c2A3c3'"
      ]
     },
     "execution_count": 3,
     "metadata": {},
     "output_type": "execute_result"
    }
   ],
   "source": [
    "import re\n",
    "\n",
    "s = \"ccAAAccc\"\n",
    "\n",
    "\n",
    "def compress_string(s: str) -> str:\n",
    "    remaining_s = s\n",
    "    compressed_s = \"\"\n",
    "\n",
    "    while len(remaining_s) > 0:\n",
    "        # print(remaining_s)\n",
    "        char = remaining_s[0]\n",
    "        n = re.search(rf\"{char}+\", remaining_s).span()[1]\n",
    "        compressed_s += f\"{char}{n}\"\n",
    "        # print(compressed_s)\n",
    "        remaining_s = remaining_s[n:]\n",
    "        # print(\"--\")\n",
    "\n",
    "    return compressed_s if len(compressed_s) < len(s) else s\n",
    "    \n",
    "compress_string(s)"
   ]
  },
  {
   "cell_type": "code",
   "execution_count": 4,
   "metadata": {},
   "outputs": [
    {
     "name": "stdout",
     "output_type": "stream",
     "text": [
      "everything OK\n"
     ]
    }
   ],
   "source": [
    "run_test_cases(compress_string)"
   ]
  },
  {
   "cell_type": "markdown",
   "metadata": {},
   "source": [
    "### Without `re`"
   ]
  },
  {
   "cell_type": "code",
   "execution_count": 5,
   "metadata": {},
   "outputs": [
    {
     "data": {
      "text/plain": [
       "'aaaaa ...'"
      ]
     },
     "execution_count": 5,
     "metadata": {},
     "output_type": "execute_result"
    }
   ],
   "source": [
    "\"abcde ...\"\n",
    "\"aaaaa ...\""
   ]
  },
  {
   "cell_type": "code",
   "execution_count": 6,
   "metadata": {},
   "outputs": [
    {
     "data": {
      "text/plain": [
       "'a2b3'"
      ]
     },
     "execution_count": 6,
     "metadata": {},
     "output_type": "execute_result"
    }
   ],
   "source": [
    "def compress_string_2(s: str) -> str:\n",
    "    remaining_s = s\n",
    "    compressed_s = \"\"\n",
    "\n",
    "    while len(remaining_s) > 0:\n",
    "        current_char = remaining_s[0]\n",
    "\n",
    "        char_count = 1\n",
    "        for other_char in remaining_s[1:]:\n",
    "            if other_char != current_char:\n",
    "                break\n",
    "            char_count += 1\n",
    "\n",
    "        compressed_s += f\"{current_char}{char_count}\"\n",
    "        remaining_s = remaining_s[char_count:]\n",
    "        \n",
    "    return compressed_s if len(compressed_s) < len(s) else s\n",
    "\n",
    "compress_string(\"aabbb\")"
   ]
  },
  {
   "cell_type": "code",
   "execution_count": 7,
   "metadata": {},
   "outputs": [
    {
     "name": "stdout",
     "output_type": "stream",
     "text": [
      "everything OK\n"
     ]
    }
   ],
   "source": [
    "run_test_cases(compress_string_2)"
   ]
  },
  {
   "cell_type": "markdown",
   "metadata": {},
   "source": [
    "### Less observations?"
   ]
  },
  {
   "cell_type": "code",
   "execution_count": 26,
   "metadata": {},
   "outputs": [
    {
     "data": {
      "text/plain": [
       "'a2b1D1b1c8'"
      ]
     },
     "execution_count": 26,
     "metadata": {},
     "output_type": "execute_result"
    }
   ],
   "source": [
    "def compress_string_3(s: str) -> str:\n",
    "    if not len(s):\n",
    "        return s\n",
    "\n",
    "    compressed_s = \"\"\n",
    "    counter = 0\n",
    "\n",
    "    for i in range(len(s)):\n",
    "\n",
    "        if i != 0 and s[i] != s[i - 1]:\n",
    "            compressed_s += f\"{s[i - 1]}{counter}\"\n",
    "            counter = 0\n",
    "\n",
    "        counter += 1\n",
    "\n",
    "    compressed_s += f\"{s[-1]}{counter}\"\n",
    "    return min(s, compressed_s, key=len)\n",
    "\n",
    "compress_string_3(\"aabDbcccccccc\")"
   ]
  },
  {
   "cell_type": "code",
   "execution_count": 27,
   "metadata": {},
   "outputs": [
    {
     "name": "stdout",
     "output_type": "stream",
     "text": [
      "everything OK\n"
     ]
    }
   ],
   "source": [
    "run_test_cases(compress_string_3)"
   ]
  },
  {
   "cell_type": "code",
   "execution_count": null,
   "metadata": {},
   "outputs": [],
   "source": []
  },
  {
   "cell_type": "code",
   "execution_count": null,
   "metadata": {},
   "outputs": [],
   "source": []
  },
  {
   "cell_type": "code",
   "execution_count": null,
   "metadata": {},
   "outputs": [],
   "source": []
  },
  {
   "cell_type": "code",
   "execution_count": null,
   "metadata": {},
   "outputs": [],
   "source": []
  },
  {
   "cell_type": "code",
   "execution_count": null,
   "metadata": {},
   "outputs": [],
   "source": []
  }
 ],
 "metadata": {
  "kernelspec": {
   "display_name": "py311",
   "language": "python",
   "name": "python3"
  },
  "language_info": {
   "codemirror_mode": {
    "name": "ipython",
    "version": 3
   },
   "file_extension": ".py",
   "mimetype": "text/x-python",
   "name": "python",
   "nbconvert_exporter": "python",
   "pygments_lexer": "ipython3",
   "version": "3.11.3"
  },
  "orig_nbformat": 4
 },
 "nbformat": 4,
 "nbformat_minor": 2
}

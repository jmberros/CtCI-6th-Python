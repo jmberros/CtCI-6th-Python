{
 "cells": [
  {
   "cell_type": "markdown",
   "metadata": {},
   "source": [
    "Is Unique: Implement an algorithm to determine if a string has all unique characters. What if you\n",
    "cannot use additional data structures?\n",
    "\n",
    "Hints: #44, #7 7 7, #732"
   ]
  },
  {
   "cell_type": "code",
   "execution_count": 44,
   "metadata": {},
   "outputs": [],
   "source": [
    "TEST_CASES = [\n",
    "    (\"abcde\", True),\n",
    "    (\"aaaaa\", False),\n",
    "    (\"\", True),\n",
    "    # (None, False),\n",
    "]\n",
    "\n",
    "def run_test_cases(f):\n",
    "    for test_case, expected_result in TEST_CASES:\n",
    "        result = f(test_case)\n",
    "        if result != expected_result:\n",
    "            print(f\"f({test_case}) = {result} != {expected_result}\")\n",
    "            return\n",
    "\n",
    "    print(\"everything OK\")"
   ]
  },
  {
   "cell_type": "markdown",
   "metadata": {},
   "source": [
    "### First try (no help)"
   ]
  },
  {
   "cell_type": "markdown",
   "metadata": {},
   "source": [
    "#### Using additional data structures (`set`)"
   ]
  },
  {
   "cell_type": "code",
   "execution_count": 45,
   "metadata": {},
   "outputs": [
    {
     "name": "stdout",
     "output_type": "stream",
     "text": [
      "everything OK\n"
     ]
    }
   ],
   "source": [
    "def has_all_unique_chars(s: str) -> bool:\n",
    "    \"\"\"Determines if a string has all unique characters.\"\"\"\n",
    "    if not isinstance(s, str):\n",
    "        return False  # TODO: How do we want to handle this?\n",
    "\n",
    "    # O(n) iterating ver the string, O(1) adding each element\n",
    "    return len(set(s)) == len(s)\n",
    "\n",
    "run_test_cases(has_all_unique_chars)"
   ]
  },
  {
   "cell_type": "markdown",
   "metadata": {},
   "source": [
    "#### Without `set`"
   ]
  },
  {
   "cell_type": "code",
   "execution_count": 46,
   "metadata": {},
   "outputs": [
    {
     "name": "stdout",
     "output_type": "stream",
     "text": [
      "everything OK\n"
     ]
    }
   ],
   "source": [
    "from itertools import product\n",
    "\n",
    "\n",
    "def has_all_unique_chars_2(s: str) -> bool:  # O(n^2), very naive implementation\n",
    "    for i, char in enumerate(s):\n",
    "        for j, char in enumerate(s):\n",
    "            if i != j and s[i] == s[j]:\n",
    "                return False\n",
    "\n",
    "    return True\n",
    "\n",
    "run_test_cases(has_all_unique_chars_2)"
   ]
  },
  {
   "cell_type": "markdown",
   "metadata": {},
   "source": [
    "### Sorting the string"
   ]
  },
  {
   "cell_type": "code",
   "execution_count": 49,
   "metadata": {},
   "outputs": [
    {
     "name": "stdout",
     "output_type": "stream",
     "text": [
      "everything OK\n"
     ]
    }
   ],
   "source": [
    "def has_all_unique_chars_3(s: str):\n",
    "    last_char = \"\"\n",
    "    for char in sorted(s):\n",
    "        if char == last_char:\n",
    "            return False\n",
    "        last_char = char\n",
    "\n",
    "    return True\n",
    "\n",
    "run_test_cases(has_all_unique_chars_3)"
   ]
  },
  {
   "cell_type": "code",
   "execution_count": null,
   "metadata": {},
   "outputs": [],
   "source": []
  }
 ],
 "metadata": {
  "kernelspec": {
   "display_name": "py311",
   "language": "python",
   "name": "python3"
  },
  "language_info": {
   "codemirror_mode": {
    "name": "ipython",
    "version": 3
   },
   "file_extension": ".py",
   "mimetype": "text/x-python",
   "name": "python",
   "nbconvert_exporter": "python",
   "pygments_lexer": "ipython3",
   "version": "3.11.3"
  },
  "orig_nbformat": 4
 },
 "nbformat": 4,
 "nbformat_minor": 2
}

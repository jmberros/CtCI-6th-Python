{
 "cells": [
  {
   "cell_type": "markdown",
   "metadata": {},
   "source": [
    "# Check Subtree:\n",
    "\n",
    "- `T1` and `T2` are two very large binary trees, with `T1` much bigger than `T2`.\n",
    "- Create an algorithm to determine if `T2` is a subtree of `T1`.\n",
    "- A tree `T2` is a subtree of `T1` if there exists a node `n` in `T1` such that the subtree of `n` is identical to `T2`.\n",
    "- That is, if you cut off the tree at node `n`, the two trees would be identical.\n"
   ]
  },
  {
   "cell_type": "code",
   "execution_count": 84,
   "metadata": {},
   "outputs": [
    {
     "name": "stdout",
     "output_type": "stream",
     "text": [
      "T1:\n"
     ]
    },
    {
     "data": {
      "image/svg+xml": [
       "\n",
       "<svg width=\"768\" height=\"288\" xmlns=\"http://www.w3.org/2000/svg\">\n",
       "<style>\n",
       "    .value {\n",
       "        font: 300 16px sans-serif;\n",
       "        text-align: center;\n",
       "        dominant-baseline: middle;\n",
       "        text-anchor: middle;\n",
       "    }\n",
       "    .node {\n",
       "        fill: lightgray;\n",
       "        stroke-width: 1;\n",
       "    }\n",
       "</style>\n",
       "<g stroke=\"#000000\">\n",
       "<line x1=\"713.0\" y1=\"192\" x2=\"737.0\" y2=\"240\"/>\n",
       "<line x1=\"521.0\" y1=\"192\" x2=\"545.0\" y2=\"240\"/>\n",
       "<line x1=\"521.0\" y1=\"192\" x2=\"497.0\" y2=\"240\"/>\n",
       "<line x1=\"425.0\" y1=\"192\" x2=\"449.0\" y2=\"240\"/>\n",
       "<line x1=\"329.0\" y1=\"192\" x2=\"353.0\" y2=\"240\"/>\n",
       "<line x1=\"233.0\" y1=\"192\" x2=\"257.0\" y2=\"240\"/>\n",
       "<line x1=\"233.0\" y1=\"192\" x2=\"209.0\" y2=\"240\"/>\n",
       "<line x1=\"137.0\" y1=\"192\" x2=\"161.0\" y2=\"240\"/>\n",
       "<line x1=\"137.0\" y1=\"192\" x2=\"113.0\" y2=\"240\"/>\n",
       "<line x1=\"41.0\" y1=\"192\" x2=\"17.0\" y2=\"240\"/>\n",
       "<line x1=\"665.0\" y1=\"144\" x2=\"713.0\" y2=\"192\"/>\n",
       "<line x1=\"665.0\" y1=\"144\" x2=\"617.0\" y2=\"192\"/>\n",
       "<line x1=\"473.0\" y1=\"144\" x2=\"521.0\" y2=\"192\"/>\n",
       "<line x1=\"473.0\" y1=\"144\" x2=\"425.0\" y2=\"192\"/>\n",
       "<line x1=\"281.0\" y1=\"144\" x2=\"329.0\" y2=\"192\"/>\n",
       "<line x1=\"281.0\" y1=\"144\" x2=\"233.0\" y2=\"192\"/>\n",
       "<line x1=\"89.0\" y1=\"144\" x2=\"137.0\" y2=\"192\"/>\n",
       "<line x1=\"89.0\" y1=\"144\" x2=\"41.0\" y2=\"192\"/>\n",
       "<line x1=\"569.0\" y1=\"96\" x2=\"665.0\" y2=\"144\"/>\n",
       "<line x1=\"569.0\" y1=\"96\" x2=\"473.0\" y2=\"144\"/>\n",
       "<line x1=\"185.0\" y1=\"96\" x2=\"281.0\" y2=\"144\"/>\n",
       "<line x1=\"185.0\" y1=\"96\" x2=\"89.0\" y2=\"144\"/>\n",
       "<line x1=\"377.0\" y1=\"48\" x2=\"569.0\" y2=\"96\"/>\n",
       "<line x1=\"377.0\" y1=\"48\" x2=\"185.0\" y2=\"96\"/>\n",
       "<circle class=\"node\" cx=\"377.0\" cy=\"48\" r=\"16\"/>\n",
       "<text class=\"value\" x=\"377.0\" y=\"48\">25</text>\n",
       "<circle class=\"node\" cx=\"185.0\" cy=\"96\" r=\"16\"/>\n",
       "<text class=\"value\" x=\"185.0\" y=\"96\">7</text>\n",
       "<circle class=\"node\" cx=\"569.0\" cy=\"96\" r=\"16\"/>\n",
       "<text class=\"value\" x=\"569.0\" y=\"96\">21</text>\n",
       "<circle class=\"node\" cx=\"89.0\" cy=\"144\" r=\"16\"/>\n",
       "<text class=\"value\" x=\"89.0\" y=\"144\">26</text>\n",
       "<circle class=\"node\" cx=\"281.0\" cy=\"144\" r=\"16\"/>\n",
       "<text class=\"value\" x=\"281.0\" y=\"144\">4</text>\n",
       "<circle class=\"node\" cx=\"473.0\" cy=\"144\" r=\"16\"/>\n",
       "<text class=\"value\" x=\"473.0\" y=\"144\">23</text>\n",
       "<circle class=\"node\" cx=\"665.0\" cy=\"144\" r=\"16\"/>\n",
       "<text class=\"value\" x=\"665.0\" y=\"144\">22</text>\n",
       "<circle class=\"node\" cx=\"41.0\" cy=\"192\" r=\"16\"/>\n",
       "<text class=\"value\" x=\"41.0\" y=\"192\">17</text>\n",
       "<circle class=\"node\" cx=\"137.0\" cy=\"192\" r=\"16\"/>\n",
       "<text class=\"value\" x=\"137.0\" y=\"192\">11</text>\n",
       "<circle class=\"node\" cx=\"233.0\" cy=\"192\" r=\"16\"/>\n",
       "<text class=\"value\" x=\"233.0\" y=\"192\">28</text>\n",
       "<circle class=\"node\" cx=\"329.0\" cy=\"192\" r=\"16\"/>\n",
       "<text class=\"value\" x=\"329.0\" y=\"192\">3</text>\n",
       "<circle class=\"node\" cx=\"425.0\" cy=\"192\" r=\"16\"/>\n",
       "<text class=\"value\" x=\"425.0\" y=\"192\">16</text>\n",
       "<circle class=\"node\" cx=\"521.0\" cy=\"192\" r=\"16\"/>\n",
       "<text class=\"value\" x=\"521.0\" y=\"192\">10</text>\n",
       "<circle class=\"node\" cx=\"617.0\" cy=\"192\" r=\"16\"/>\n",
       "<text class=\"value\" x=\"617.0\" y=\"192\">27</text>\n",
       "<circle class=\"node\" cx=\"713.0\" cy=\"192\" r=\"16\"/>\n",
       "<text class=\"value\" x=\"713.0\" y=\"192\">19</text>\n",
       "<circle class=\"node\" cx=\"17.0\" cy=\"240\" r=\"16\"/>\n",
       "<text class=\"value\" x=\"17.0\" y=\"240\">6</text>\n",
       "<circle class=\"node\" cx=\"113.0\" cy=\"240\" r=\"16\"/>\n",
       "<text class=\"value\" x=\"113.0\" y=\"240\">9</text>\n",
       "<circle class=\"node\" cx=\"161.0\" cy=\"240\" r=\"16\"/>\n",
       "<text class=\"value\" x=\"161.0\" y=\"240\">8</text>\n",
       "<circle class=\"node\" cx=\"209.0\" cy=\"240\" r=\"16\"/>\n",
       "<text class=\"value\" x=\"209.0\" y=\"240\">0</text>\n",
       "<circle class=\"node\" cx=\"257.0\" cy=\"240\" r=\"16\"/>\n",
       "<text class=\"value\" x=\"257.0\" y=\"240\">1</text>\n",
       "<circle class=\"node\" cx=\"353.0\" cy=\"240\" r=\"16\"/>\n",
       "<text class=\"value\" x=\"353.0\" y=\"240\">18</text>\n",
       "<circle class=\"node\" cx=\"449.0\" cy=\"240\" r=\"16\"/>\n",
       "<text class=\"value\" x=\"449.0\" y=\"240\">5</text>\n",
       "<circle class=\"node\" cx=\"497.0\" cy=\"240\" r=\"16\"/>\n",
       "<text class=\"value\" x=\"497.0\" y=\"240\">30</text>\n",
       "<circle class=\"node\" cx=\"545.0\" cy=\"240\" r=\"16\"/>\n",
       "<text class=\"value\" x=\"545.0\" y=\"240\">24</text>\n",
       "<circle class=\"node\" cx=\"737.0\" cy=\"240\" r=\"16\"/>\n",
       "<text class=\"value\" x=\"737.0\" y=\"240\">2</text>\n",
       "</g>\n",
       "</svg>\n"
      ],
      "text/plain": [
       "Node(25)"
      ]
     },
     "metadata": {},
     "output_type": "display_data"
    },
    {
     "name": "stdout",
     "output_type": "stream",
     "text": [
      "T2:\n"
     ]
    },
    {
     "data": {
      "image/svg+xml": [
       "\n",
       "<svg width=\"192\" height=\"192\" xmlns=\"http://www.w3.org/2000/svg\">\n",
       "<style>\n",
       "    .value {\n",
       "        font: 300 16px sans-serif;\n",
       "        text-align: center;\n",
       "        dominant-baseline: middle;\n",
       "        text-anchor: middle;\n",
       "    }\n",
       "    .node {\n",
       "        fill: lightgray;\n",
       "        stroke-width: 1;\n",
       "    }\n",
       "</style>\n",
       "<g stroke=\"#000000\">\n",
       "<line x1=\"137.0\" y1=\"96\" x2=\"161.0\" y2=\"144\"/>\n",
       "<line x1=\"137.0\" y1=\"96\" x2=\"113.0\" y2=\"144\"/>\n",
       "<line x1=\"41.0\" y1=\"96\" x2=\"17.0\" y2=\"144\"/>\n",
       "<line x1=\"89.0\" y1=\"48\" x2=\"137.0\" y2=\"96\"/>\n",
       "<line x1=\"89.0\" y1=\"48\" x2=\"41.0\" y2=\"96\"/>\n",
       "<circle class=\"node\" cx=\"89.0\" cy=\"48\" r=\"16\"/>\n",
       "<text class=\"value\" x=\"89.0\" y=\"48\">26</text>\n",
       "<circle class=\"node\" cx=\"41.0\" cy=\"96\" r=\"16\"/>\n",
       "<text class=\"value\" x=\"41.0\" y=\"96\">17</text>\n",
       "<circle class=\"node\" cx=\"137.0\" cy=\"96\" r=\"16\"/>\n",
       "<text class=\"value\" x=\"137.0\" y=\"96\">11</text>\n",
       "<circle class=\"node\" cx=\"17.0\" cy=\"144\" r=\"16\"/>\n",
       "<text class=\"value\" x=\"17.0\" y=\"144\">6</text>\n",
       "<circle class=\"node\" cx=\"113.0\" cy=\"144\" r=\"16\"/>\n",
       "<text class=\"value\" x=\"113.0\" y=\"144\">9</text>\n",
       "<circle class=\"node\" cx=\"161.0\" cy=\"144\" r=\"16\"/>\n",
       "<text class=\"value\" x=\"161.0\" y=\"144\">8</text>\n",
       "</g>\n",
       "</svg>\n"
      ],
      "text/plain": [
       "Node(26)"
      ]
     },
     "metadata": {},
     "output_type": "display_data"
    }
   ],
   "source": [
    "from binarytree import tree, Node\n",
    "\n",
    "root1 = tree(height=4)\n",
    "root2 = root1.left.left\n",
    "\n",
    "print(\"T1:\")\n",
    "display(root1)\n",
    "print(\"T2:\")\n",
    "display(root2)"
   ]
  },
  {
   "cell_type": "code",
   "execution_count": 92,
   "metadata": {},
   "outputs": [],
   "source": [
    "import pytest\n",
    "import ipytest\n",
    "ipytest.autoconfig()"
   ]
  },
  {
   "cell_type": "code",
   "execution_count": 90,
   "metadata": {},
   "outputs": [],
   "source": [
    "from collections import deque\n",
    "\n",
    "import binarytree"
   ]
  },
  {
   "cell_type": "code",
   "execution_count": 136,
   "metadata": {},
   "outputs": [
    {
     "name": "stdout",
     "output_type": "stream",
     "text": [
      "\u001b[32m.\u001b[0m\u001b[32m                                                                                            [100%]\u001b[0m\n",
      "\u001b[32m\u001b[32m\u001b[1m1 passed\u001b[0m\u001b[32m in 0.02s\u001b[0m\u001b[0m\n"
     ]
    }
   ],
   "source": [
    "%%ipytest\n",
    "from typing import Generator\n",
    "\n",
    "from binarytree import Node\n",
    "\n",
    "\n",
    "def get_tree_values(root: Node, null_value: int = -1) -> Generator[int, None, None]:\n",
    "    # TODO: Docstring\n",
    "    to_visit = deque([root])\n",
    "    while to_visit:\n",
    "        node = to_visit.popleft()\n",
    "\n",
    "        if node:\n",
    "            yield node.value\n",
    "            to_visit.append(node.left)\n",
    "            to_visit.append(node.right)\n",
    "        else:\n",
    "            yield null_value\n",
    "\n",
    "\n",
    "def test_get_tree_values():\n",
    "    root = Node(1)\n",
    "    root.left = Node(2)\n",
    "    root.right = Node(3)\n",
    "    assert list(get_tree_values(root)) == [1, 2,  3, -1, -1, -1, -1]\n",
    "    assert list(get_tree_values(root.left)) == [2, -1, -1]\n"
   ]
  },
  {
   "cell_type": "code",
   "execution_count": 137,
   "metadata": {},
   "outputs": [
    {
     "name": "stdout",
     "output_type": "stream",
     "text": [
      "\u001b[32m.\u001b[0m\u001b[32m                                                                                            [100%]\u001b[0m\n",
      "\u001b[32m\u001b[32m\u001b[1m1 passed\u001b[0m\u001b[32m in 0.03s\u001b[0m\u001b[0m\n"
     ]
    }
   ],
   "source": [
    "%%ipytest\n",
    "from typing import Generator\n",
    "\n",
    "from binarytree import Node\n",
    "\n",
    "\n",
    "def find_nodes_by_value(value: int, under: Node) -> Generator[Node, None, None]:\n",
    "    \"\"\"Finds the nodes that match a given value.\n",
    "    \n",
    "    Args:\n",
    "        value: An integer.\n",
    "        under: A Node under which we will search for the value.\n",
    "    Returns:\n",
    "        A node with the given value, or None if the value is not found.\n",
    "    \"\"\"\n",
    "    to_visit = deque([under])\n",
    "    while to_visit:\n",
    "        node = to_visit.popleft()\n",
    "\n",
    "        if node.value == value:\n",
    "            yield node\n",
    "\n",
    "        if node.left:\n",
    "            to_visit.append(node.left)    \n",
    "        if node.right:\n",
    "            to_visit.append(node.right)\n",
    "    return None\n",
    "\n",
    "\n",
    "def test_find_nodes_by_value():\n",
    "    root = Node(1)\n",
    "    root.left = Node(2)\n",
    "    root.right = n3_1 = Node(3)\n",
    "    root.left.right = n3_2 = Node(3)\n",
    "    \n",
    "    \n",
    "    result = find_nodes_by_value(3, under=root)\n",
    "    assert list(result) == [n3_1, n3_2]"
   ]
  },
  {
   "cell_type": "code",
   "execution_count": 139,
   "metadata": {},
   "outputs": [
    {
     "name": "stdout",
     "output_type": "stream",
     "text": [
      "\u001b[32m.\u001b[0m\u001b[32m                                                                                            [100%]\u001b[0m\n",
      "\u001b[32m\u001b[32m\u001b[1m1 passed\u001b[0m\u001b[32m in 0.01s\u001b[0m\u001b[0m\n"
     ]
    }
   ],
   "source": [
    "%%ipytest\n",
    "from itertools import zip_longest\n",
    "\n",
    "from binarytree import Node, tree, build\n",
    "\n",
    "\n",
    "def are_trees_equal(root1: Node, root2: Node) -> bool:\n",
    "    # TODO Docstring\n",
    "    values1 = get_tree_values(root1)\n",
    "    values2 = get_tree_values(root2)\n",
    "    for value1, value2 in zip_longest(values1, values2):\n",
    "        if value1 != value2:\n",
    "            return False\n",
    "    return True\n",
    "\n",
    "\n",
    "def test_are_trees_equal():\n",
    "    t1 = tree(height=5)\n",
    "    t2 = build(t1.values)\n",
    "    assert are_trees_equal(t1, t2)\n",
    "\n",
    "    t2.right = Node(-1)\n",
    "    assert not are_trees_equal(t1, t2)\n",
    "\n",
    "    # Same values, different structure\n",
    "    t1 = Node(1)\n",
    "    t1.left = Node(2)\n",
    "    t2 = Node(1)\n",
    "    t2.right = Node(2)\n",
    "    assert not are_trees_equal(t1, t2)\n"
   ]
  },
  {
   "cell_type": "code",
   "execution_count": 140,
   "metadata": {},
   "outputs": [
    {
     "name": "stdout",
     "output_type": "stream",
     "text": [
      "\u001b[32m.\u001b[0m\u001b[32m                                                                                            [100%]\u001b[0m\n",
      "\u001b[32m\u001b[32m\u001b[1m1 passed\u001b[0m\u001b[32m in 0.04s\u001b[0m\u001b[0m\n"
     ]
    }
   ],
   "source": [
    "%%ipytest\n",
    "from binarytree import Node, tree, build\n",
    "\n",
    "# Worst case O(N1 + k * N2) where k is the # of times T2 root's value appears in T1\n",
    "def is_subtree(root1: Node, root2: Node) -> bool:\n",
    "    \"\"\"Checks if the tree under root2 is a subtree of the tree under root1.\n",
    "    # TODO: Add Args and Returns.\n",
    "    \"\"\"\n",
    "    for subtree_of_root1 in find_nodes_by_value(root2.value, under=root1):  # O(N1) where N1 is the size of T1\n",
    "        if are_trees_equal(subtree_of_root1, root2):  # O(N2) where N2 is the size of T2 (smaller than T1)\n",
    "            return True\n",
    "    return False\n",
    "\n",
    "\n",
    "def test_is_subtree():\n",
    "    t1 = tree(height=5)\n",
    "    t2 = build(t1.left.right.values)  # Might fail if no left-right node\n",
    "    assert is_subtree(t1, t2)\n",
    "\n",
    "    t2.left.value = -1\n",
    "    assert not is_subtree(t1, t2)"
   ]
  },
  {
   "cell_type": "code",
   "execution_count": 141,
   "metadata": {},
   "outputs": [
    {
     "data": {
      "image/svg+xml": [
       "\n",
       "<svg width=\"768\" height=\"288\" xmlns=\"http://www.w3.org/2000/svg\">\n",
       "<style>\n",
       "    .value {\n",
       "        font: 300 16px sans-serif;\n",
       "        text-align: center;\n",
       "        dominant-baseline: middle;\n",
       "        text-anchor: middle;\n",
       "    }\n",
       "    .node {\n",
       "        fill: lightgray;\n",
       "        stroke-width: 1;\n",
       "    }\n",
       "</style>\n",
       "<g stroke=\"#000000\">\n",
       "<line x1=\"713.0\" y1=\"192\" x2=\"689.0\" y2=\"240\"/>\n",
       "<line x1=\"329.0\" y1=\"192\" x2=\"305.0\" y2=\"240\"/>\n",
       "<line x1=\"233.0\" y1=\"192\" x2=\"257.0\" y2=\"240\"/>\n",
       "<line x1=\"41.0\" y1=\"192\" x2=\"17.0\" y2=\"240\"/>\n",
       "<line x1=\"665.0\" y1=\"144\" x2=\"713.0\" y2=\"192\"/>\n",
       "<line x1=\"281.0\" y1=\"144\" x2=\"329.0\" y2=\"192\"/>\n",
       "<line x1=\"281.0\" y1=\"144\" x2=\"233.0\" y2=\"192\"/>\n",
       "<line x1=\"89.0\" y1=\"144\" x2=\"137.0\" y2=\"192\"/>\n",
       "<line x1=\"89.0\" y1=\"144\" x2=\"41.0\" y2=\"192\"/>\n",
       "<line x1=\"569.0\" y1=\"96\" x2=\"665.0\" y2=\"144\"/>\n",
       "<line x1=\"185.0\" y1=\"96\" x2=\"281.0\" y2=\"144\"/>\n",
       "<line x1=\"185.0\" y1=\"96\" x2=\"89.0\" y2=\"144\"/>\n",
       "<line x1=\"377.0\" y1=\"48\" x2=\"569.0\" y2=\"96\"/>\n",
       "<line x1=\"377.0\" y1=\"48\" x2=\"185.0\" y2=\"96\"/>\n",
       "<circle class=\"node\" cx=\"377.0\" cy=\"48\" r=\"16\"/>\n",
       "<text class=\"value\" x=\"377.0\" y=\"48\">24</text>\n",
       "<circle class=\"node\" cx=\"185.0\" cy=\"96\" r=\"16\"/>\n",
       "<text class=\"value\" x=\"185.0\" y=\"96\">26</text>\n",
       "<circle class=\"node\" cx=\"569.0\" cy=\"96\" r=\"16\"/>\n",
       "<text class=\"value\" x=\"569.0\" y=\"96\">22</text>\n",
       "<circle class=\"node\" cx=\"89.0\" cy=\"144\" r=\"16\"/>\n",
       "<text class=\"value\" x=\"89.0\" y=\"144\">8</text>\n",
       "<circle class=\"node\" cx=\"281.0\" cy=\"144\" r=\"16\"/>\n",
       "<text class=\"value\" x=\"281.0\" y=\"144\">0</text>\n",
       "<circle class=\"node\" cx=\"665.0\" cy=\"144\" r=\"16\"/>\n",
       "<text class=\"value\" x=\"665.0\" y=\"144\">5</text>\n",
       "<circle class=\"node\" cx=\"41.0\" cy=\"192\" r=\"16\"/>\n",
       "<text class=\"value\" x=\"41.0\" y=\"192\">18</text>\n",
       "<circle class=\"node\" cx=\"137.0\" cy=\"192\" r=\"16\"/>\n",
       "<text class=\"value\" x=\"137.0\" y=\"192\">29</text>\n",
       "<circle class=\"node\" cx=\"233.0\" cy=\"192\" r=\"16\"/>\n",
       "<text class=\"value\" x=\"233.0\" y=\"192\">14</text>\n",
       "<circle class=\"node\" cx=\"329.0\" cy=\"192\" r=\"16\"/>\n",
       "<text class=\"value\" x=\"329.0\" y=\"192\">3</text>\n",
       "<circle class=\"node\" cx=\"713.0\" cy=\"192\" r=\"16\"/>\n",
       "<text class=\"value\" x=\"713.0\" y=\"192\">23</text>\n",
       "<circle class=\"node\" cx=\"17.0\" cy=\"240\" r=\"16\"/>\n",
       "<text class=\"value\" x=\"17.0\" y=\"240\">1</text>\n",
       "<circle class=\"node\" cx=\"257.0\" cy=\"240\" r=\"16\"/>\n",
       "<text class=\"value\" x=\"257.0\" y=\"240\">15</text>\n",
       "<circle class=\"node\" cx=\"305.0\" cy=\"240\" r=\"16\"/>\n",
       "<text class=\"value\" x=\"305.0\" y=\"240\">19</text>\n",
       "<circle class=\"node\" cx=\"689.0\" cy=\"240\" r=\"16\"/>\n",
       "<text class=\"value\" x=\"689.0\" y=\"240\">13</text>\n",
       "</g>\n",
       "</svg>\n"
      ],
      "text/plain": [
       "Node(24)"
      ]
     },
     "metadata": {},
     "output_type": "display_data"
    },
    {
     "data": {
      "image/svg+xml": [
       "\n",
       "<svg width=\"48\" height=\"96\" xmlns=\"http://www.w3.org/2000/svg\">\n",
       "<style>\n",
       "    .value {\n",
       "        font: 300 16px sans-serif;\n",
       "        text-align: center;\n",
       "        dominant-baseline: middle;\n",
       "        text-anchor: middle;\n",
       "    }\n",
       "    .node {\n",
       "        fill: lightgray;\n",
       "        stroke-width: 1;\n",
       "    }\n",
       "</style>\n",
       "<g stroke=\"#000000\">\n",
       "<circle class=\"node\" cx=\"17.0\" cy=\"48\" r=\"16\"/>\n",
       "<text class=\"value\" x=\"17.0\" y=\"48\">24</text>\n",
       "</g>\n",
       "</svg>\n"
      ],
      "text/plain": [
       "Node(24)"
      ]
     },
     "metadata": {},
     "output_type": "display_data"
    },
    {
     "data": {
      "text/plain": [
       "False"
      ]
     },
     "execution_count": 141,
     "metadata": {},
     "output_type": "execute_result"
    }
   ],
   "source": [
    "####\n",
    "\n",
    "root1 = tree(height=4)\n",
    "root2 = Node(root1.value)\n",
    "\n",
    "display(root1)\n",
    "display(root2)\n",
    "\n",
    "is_subtree(root1, root2)"
   ]
  },
  {
   "cell_type": "code",
   "execution_count": null,
   "metadata": {},
   "outputs": [],
   "source": []
  },
  {
   "cell_type": "code",
   "execution_count": null,
   "metadata": {},
   "outputs": [],
   "source": []
  },
  {
   "cell_type": "code",
   "execution_count": null,
   "metadata": {},
   "outputs": [],
   "source": []
  },
  {
   "cell_type": "code",
   "execution_count": null,
   "metadata": {},
   "outputs": [],
   "source": []
  },
  {
   "cell_type": "code",
   "execution_count": null,
   "metadata": {},
   "outputs": [],
   "source": []
  },
  {
   "cell_type": "code",
   "execution_count": null,
   "metadata": {},
   "outputs": [],
   "source": []
  },
  {
   "cell_type": "code",
   "execution_count": null,
   "metadata": {},
   "outputs": [],
   "source": []
  },
  {
   "cell_type": "code",
   "execution_count": null,
   "metadata": {},
   "outputs": [],
   "source": []
  },
  {
   "cell_type": "code",
   "execution_count": null,
   "metadata": {},
   "outputs": [
    {
     "data": {
      "image/svg+xml": [
       "\n",
       "<svg width=\"192\" height=\"192\" xmlns=\"http://www.w3.org/2000/svg\">\n",
       "<style>\n",
       "    .value {\n",
       "        font: 300 16px sans-serif;\n",
       "        text-align: center;\n",
       "        dominant-baseline: middle;\n",
       "        text-anchor: middle;\n",
       "    }\n",
       "    .node {\n",
       "        fill: lightgray;\n",
       "        stroke-width: 1;\n",
       "    }\n",
       "</style>\n",
       "<g stroke=\"#000000\">\n",
       "<line x1=\"41.0\" y1=\"96\" x2=\"65.0\" y2=\"144\"/>\n",
       "<line x1=\"41.0\" y1=\"96\" x2=\"17.0\" y2=\"144\"/>\n",
       "<line x1=\"89.0\" y1=\"48\" x2=\"137.0\" y2=\"96\"/>\n",
       "<line x1=\"89.0\" y1=\"48\" x2=\"41.0\" y2=\"96\"/>\n",
       "<circle class=\"node\" cx=\"89.0\" cy=\"48\" r=\"16\"/>\n",
       "<text class=\"value\" x=\"89.0\" y=\"48\">5</text>\n",
       "<circle class=\"node\" cx=\"41.0\" cy=\"96\" r=\"16\"/>\n",
       "<text class=\"value\" x=\"41.0\" y=\"96\">3</text>\n",
       "<circle class=\"node\" cx=\"137.0\" cy=\"96\" r=\"16\"/>\n",
       "<text class=\"value\" x=\"137.0\" y=\"96\">6</text>\n",
       "<circle class=\"node\" cx=\"17.0\" cy=\"144\" r=\"16\"/>\n",
       "<text class=\"value\" x=\"17.0\" y=\"144\">0</text>\n",
       "<circle class=\"node\" cx=\"65.0\" cy=\"144\" r=\"16\"/>\n",
       "<text class=\"value\" x=\"65.0\" y=\"144\">1</text>\n",
       "</g>\n",
       "</svg>\n"
      ],
      "text/plain": [
       "Node(5)"
      ]
     },
     "metadata": {},
     "output_type": "display_data"
    }
   ],
   "source": [
    "# from collections import dequej\n",
    "# from typing import Generator\n",
    "\n",
    "\n",
    "# def traverse_together(root1: Node, root2: Node) -> Generator[tuple[Optional[int], Optional[int]], None, None]:\n",
    "#     # TODO Docstring\n",
    "#     to_visit_1 = deque([root1])\n",
    "#     to_visit_2 = deque([root2])\n",
    "\n",
    "#     while to_visit_1 or to_visit_2:\n",
    "#         node1 = to_visit_1.popleft()\n",
    "#         node2 = to_visit_2.popleft()\n",
    "\n",
    "#         yield node1 and node1.value, node2 and node2.value\n",
    "\n",
    "#         if node1 is None or node2 is None:\n",
    "#             break\n",
    "\n",
    "#         to_visit_1.append(node1.left)\n",
    "#         to_visit_1.append(node1.right)\n",
    "#         to_visit_2.append(node2.left)\n",
    "#         to_visit_2.append(node2.right)\n",
    "\n",
    "\n",
    "t1 = tree(height=2)\n",
    "display(t1)"
   ]
  }
 ],
 "metadata": {
  "kernelspec": {
   "display_name": "py311",
   "language": "python",
   "name": "python3"
  },
  "language_info": {
   "codemirror_mode": {
    "name": "ipython",
    "version": 3
   },
   "file_extension": ".py",
   "mimetype": "text/x-python",
   "name": "python",
   "nbconvert_exporter": "python",
   "pygments_lexer": "ipython3",
   "version": "3.11.3"
  },
  "orig_nbformat": 4
 },
 "nbformat": 4,
 "nbformat_minor": 2
}

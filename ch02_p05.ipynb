{
 "cells": [
  {
   "cell_type": "markdown",
   "metadata": {},
   "source": [
    "# Sum Lists\n",
    "\n",
    "You have two numbers represented by a linked list, where each node contains a single\n",
    "digit. The digits are stored in reverse order, such that the `1`'s digit is at the head of the list. Write a\n",
    "function that adds the two numbers and returns the sum as a linked list.\n",
    "\n",
    "```\n",
    "EXAMPLE\n",
    "Input:(7-> 1 -> 6) + (5 -> 9 -> 2).That is,617 + 295.\n",
    "Output: 2 -> 1 -> 9. That is, 912.\n",
    "\n",
    "FOLLOW UP\n",
    "Suppose the digits are stored in forward order. Repeat the above problem.\n",
    "\n",
    "EXAMPLE\n",
    "lnput:(6 -> 1 -> 7) + (2 -> 9 -> 5).That is,617 + 295.\n",
    "Output: 9 -> 1 -> 2. That is, 912.\n",
    "```\n",
    "\n",
    "Hints: #7, #30, #71, #95, #109\n"
   ]
  },
  {
   "cell_type": "code",
   "execution_count": 1,
   "metadata": {},
   "outputs": [],
   "source": [
    "from linked_list_JM import LinkedList, LinkedListNode"
   ]
  },
  {
   "cell_type": "code",
   "execution_count": 2,
   "metadata": {},
   "outputs": [
    {
     "data": {
      "text/plain": [
       "1"
      ]
     },
     "execution_count": 2,
     "metadata": {},
     "output_type": "execute_result"
    }
   ],
   "source": [
    "class LinkedListInteger(LinkedList):\n",
    "    def __init__(self, *values, is_reversed: bool = True):\n",
    "        # TODO : Docstrings everywhere\n",
    "        super().__init__(*values)\n",
    "        self.is_reversed = is_reversed\n",
    "\n",
    "    def __iter__(self):\n",
    "        iter_method = self.reverse_iter if self.is_reversed else super().__iter__\n",
    "        for n in iter_method():\n",
    "            yield n\n",
    "\n",
    "    def number_as_string(self):\n",
    "        return \"\".join(str(node.value).strip(\"0\") for node in self)\n",
    "\n",
    "    def number(self):\n",
    "        return eval(self.number_as_string())\n",
    "\n",
    "    def __add__(self, other):\n",
    "        return self.number() + other.number()\n",
    "\n",
    "\n",
    "LinkedListInteger(0, 0, 1, is_reversed=True).number()"
   ]
  },
  {
   "cell_type": "markdown",
   "metadata": {},
   "source": [
    "# First try, sum, digits in reverse order"
   ]
  },
  {
   "cell_type": "code",
   "execution_count": 3,
   "metadata": {},
   "outputs": [
    {
     "name": "stdout",
     "output_type": "stream",
     "text": [
      "Result = 1099"
     ]
    },
    {
     "data": {
      "text/plain": [
       "LinkedList(9::9::0::1)"
      ]
     },
     "execution_count": 3,
     "metadata": {},
     "output_type": "execute_result"
    }
   ],
   "source": [
    "from itertools import zip_longest\n",
    "\n",
    "\n",
    "# Time complexity: O(A + B)\n",
    "# Space complexity: <= O(max(A, B))\n",
    "\n",
    "def sum_lists_1(a: LinkedList, b: LinkedList, reverse: bool = True) -> LinkedList:\n",
    "    \"\"\"Sums two linked lists of digits that might be in reverse or forward order.\n",
    "\n",
    "    Args:\n",
    "        a, b: LinkedLists.\n",
    "        reverse: If set, treat LinkedLists in reverse order, i.e. (1, 2, 3) = 321.\n",
    "\n",
    "    Returns:\n",
    "        A LinkedList with the result of the sum.\n",
    "    \"\"\"\n",
    "    result = LinkedList()\n",
    "    carry_over = 0\n",
    "\n",
    "    # This seems backwards, but if the number is reversed, then we want to start from\n",
    "    # the left summing (the ones, then the tens, etc.):\n",
    "    a_nodes = a.reverse_iter() if not reverse else a\n",
    "    b_nodes = b.reverse_iter() if not reverse else b\n",
    "\n",
    "    for a_node, b_node in zip_longest(a_nodes, b_nodes, fillvalue=LinkedListNode(0)):\n",
    "        sum_ = a_node.value + b_node.value + carry_over\n",
    "        carry_over, remainder = divmod(sum_, 10)\n",
    "        result.add(remainder)\n",
    "\n",
    "    if carry_over > 0:\n",
    "        result.add(carry_over)\n",
    "\n",
    "    print(\"Result = \", end=\"\")\n",
    "    current = result.tail\n",
    "    while current:\n",
    "        print(current.value, end=\"\")\n",
    "        current = current.prev\n",
    "\n",
    "    return result\n",
    "\n",
    "#####\n",
    "\n",
    "a = LinkedList(9, 9, 9)  #\n",
    "b = LinkedList(0, 0, 1)  #\n",
    "\n",
    "sum_lists_1(a, b)"
   ]
  },
  {
   "cell_type": "markdown",
   "metadata": {},
   "source": [
    "# Use recursion (suggested by Gayle)"
   ]
  },
  {
   "cell_type": "code",
   "execution_count": 4,
   "metadata": {},
   "outputs": [
    {
     "data": {
      "text/plain": [
       "(LinkedList(9::9::0), LinkedList(1::0::0))"
      ]
     },
     "execution_count": 4,
     "metadata": {},
     "output_type": "execute_result"
    }
   ],
   "source": [
    "from typing import Tuple\n",
    "from itertools import zip_longest\n",
    "\n",
    "def zero_padding(a: LinkedList, b: LinkedList, prepend: bool = False) -> Tuple[LinkedList, LinkedList]:\n",
    "    for a_node, b_node in zip_longest(a, b):\n",
    "        if a_node is None:\n",
    "            a.prepend(0) if prepend else a.add(0)\n",
    "        if b_node is None:\n",
    "            b.prepend(0) if prepend else b.add(0)\n",
    "\n",
    "a = LinkedList(9, 9, 0)\n",
    "b = LinkedList(1)\n",
    "\n",
    "zero_padding(b, a, prepend=False)\n",
    "\n",
    "a, b"
   ]
  },
  {
   "cell_type": "code",
   "execution_count": 16,
   "metadata": {},
   "outputs": [
    {
     "name": "stdout",
     "output_type": "stream",
     "text": [
      "LinkedList(9::9::9) + LinkedList(0::0::1) = LinkedList(9::9::0::1)\n"
     ]
    },
    {
     "data": {
      "text/plain": [
       "LinkedList(9::9::0::1)"
      ]
     },
     "execution_count": 16,
     "metadata": {},
     "output_type": "execute_result"
    }
   ],
   "source": [
    "def sum_digits(node_a: LinkedListNode, node_b: LinkedListNode, carry_over: int = 0, forward: bool = False):\n",
    "    if node_a is None and node_b is None:\n",
    "        return [carry_over]\n",
    "\n",
    "    sum_ = node_a.value + node_b.value + carry_over\n",
    "    carry_over, remainder = divmod(sum_, 10)\n",
    "    \n",
    "    next_a = node_a.prev if forward else node_a.next\n",
    "    next_b = node_b.prev if forward else node_b.next\n",
    "\n",
    "    return [remainder] + sum_digits(next_a, next_b, carry_over, forward)\n",
    "\n",
    "def sum_lists_2(a: LinkedList, b: LinkedList, forward: bool = False) -> LinkedList:\n",
    "    zero_padding(a, b, prepend=forward)  # If the format is foward, pad by adding zeros to the left\n",
    "\n",
    "    start_a = a.tail if forward else a.head\n",
    "    start_b = b.tail if forward else b.head \n",
    "\n",
    "    result = LinkedList(*sum_digits(start_a, start_b, forward=forward))\n",
    "\n",
    "    if forward:\n",
    "        # Operations were carried over with backwards numbers, we need to forward the result\n",
    "        result.reverse()\n",
    "\n",
    "    print(f\"{a} + {b} = {result}\")\n",
    "\n",
    "    return result\n",
    "\n",
    "a = LinkedList(9, 9, 9)\n",
    "b = LinkedList(0, 0, 1)\n",
    "\n",
    "sum_lists_2(a, b, forward=False)"
   ]
  },
  {
   "cell_type": "code",
   "execution_count": null,
   "metadata": {},
   "outputs": [],
   "source": []
  },
  {
   "cell_type": "code",
   "execution_count": null,
   "metadata": {},
   "outputs": [],
   "source": []
  },
  {
   "cell_type": "markdown",
   "metadata": {},
   "source": [
    "# Follow up"
   ]
  },
  {
   "cell_type": "code",
   "execution_count": 6,
   "metadata": {},
   "outputs": [
    {
     "name": "stdout",
     "output_type": "stream",
     "text": [
      "Result = \n",
      "110"
     ]
    },
    {
     "data": {
      "text/plain": [
       "LinkedList(0::1::1)"
      ]
     },
     "execution_count": 6,
     "metadata": {},
     "output_type": "execute_result"
    }
   ],
   "source": [
    "a = LinkedList(9, 0, 1)\n",
    "b = LinkedList(1, 0)\n",
    "\n",
    "sum_lists_1(a, b, reverse=False)"
   ]
  },
  {
   "cell_type": "markdown",
   "metadata": {},
   "source": [
    "# Easier but nastier"
   ]
  },
  {
   "cell_type": "code",
   "execution_count": 48,
   "metadata": {},
   "outputs": [
    {
     "data": {
      "text/plain": [
       "1099"
      ]
     },
     "execution_count": 48,
     "metadata": {},
     "output_type": "execute_result"
    }
   ],
   "source": [
    "a = LinkedList(9, 9, 9)  #\n",
    "b = LinkedList(0, 0, 1)  #\n",
    "\n",
    "\n",
    "def sum_lists_2(a: LinkedList, b: LinkedList, reverse: bool = True):\n",
    "    # TODO : Docstring\n",
    "    a_nodes = a.reverse_iter() if reverse else a\n",
    "    b_nodes = b.reverse_iter() if reverse else b\n",
    "\n",
    "    a_str = \"\".join(str(node.value) for node in a_nodes)\n",
    "    b_str = \"\".join(str(node.value) for node in b_nodes)\n",
    "    \n",
    "    return eval(a_str) + eval(b_str)\n",
    "\n",
    "\n",
    "sum_lists_2(a, b)"
   ]
  },
  {
   "cell_type": "markdown",
   "metadata": {},
   "source": [
    "# Using `LinkedListInteger`"
   ]
  },
  {
   "cell_type": "code",
   "execution_count": 55,
   "metadata": {},
   "outputs": [
    {
     "data": {
      "text/plain": [
       "1001"
      ]
     },
     "execution_count": 55,
     "metadata": {},
     "output_type": "execute_result"
    }
   ],
   "source": [
    "a = LinkedListInteger(9, 9, 9, is_reversed=False)\n",
    "b = LinkedListInteger(0, 0, 2, is_reversed=False)\n",
    "\n",
    "a + b"
   ]
  },
  {
   "cell_type": "code",
   "execution_count": null,
   "metadata": {},
   "outputs": [],
   "source": []
  },
  {
   "cell_type": "code",
   "execution_count": null,
   "metadata": {},
   "outputs": [],
   "source": []
  },
  {
   "cell_type": "code",
   "execution_count": null,
   "metadata": {},
   "outputs": [],
   "source": []
  },
  {
   "cell_type": "code",
   "execution_count": null,
   "metadata": {},
   "outputs": [],
   "source": []
  },
  {
   "cell_type": "code",
   "execution_count": null,
   "metadata": {},
   "outputs": [],
   "source": []
  }
 ],
 "metadata": {
  "kernelspec": {
   "display_name": "py311",
   "language": "python",
   "name": "python3"
  },
  "language_info": {
   "codemirror_mode": {
    "name": "ipython",
    "version": 3
   },
   "file_extension": ".py",
   "mimetype": "text/x-python",
   "name": "python",
   "nbconvert_exporter": "python",
   "pygments_lexer": "ipython3",
   "version": "3.11.3"
  },
  "orig_nbformat": 4
 },
 "nbformat": 4,
 "nbformat_minor": 2
}

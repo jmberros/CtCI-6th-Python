{
 "cells": [
  {
   "cell_type": "markdown",
   "metadata": {},
   "source": [
    "Stack of Plates: Imagine a (literal) stack of plates. If the stack gets too high, it might topple. Therefore, in real life, we would likely start a new stack when the previous stack exceeds some threshold. Implement a data structure `SetOfStacks` that mimics this. `SetOfStacks` should be composed of several stacks and should create a new stack once the previous one exceeds capacity. `SetOfStacks.push()` and `SetOfStacks.pop()` should behave identically to a single stack (that is, `pop()` should return the same values as it would if there were just a single stack).\n",
    "\n",
    "FOLLOW UP\n",
    "\n",
    "Implement a function `popAt(int index)` which performs a pop operation on a specific sub-stack."
   ]
  },
  {
   "cell_type": "code",
   "execution_count": 1,
   "metadata": {},
   "outputs": [],
   "source": [
    "from stack_JM import Stack, EmptyStackException\n",
    "from queue_JM import Queue"
   ]
  },
  {
   "cell_type": "code",
   "execution_count": null,
   "metadata": {},
   "outputs": [],
   "source": []
  },
  {
   "cell_type": "code",
   "execution_count": 21,
   "metadata": {},
   "outputs": [
    {
     "name": "stdout",
     "output_type": "stream",
     "text": [
      "[Stack(0)]\n",
      "[Stack(0.1)]\n",
      "[Stack(0.1.2)]\n",
      "[Stack(0.1.2), Stack(3)]\n",
      "[Stack(0.1.2), Stack(3.4)]\n",
      "[Stack(0.1.2), Stack(3.4.5)]\n",
      "[Stack(0.1.2), Stack(3.4.5), Stack(6)]\n",
      "[Stack(0.1.2), Stack(3.4.5), Stack(6.7)]\n",
      "[Stack(0.1.2), Stack(3.4.5), Stack(6.7.8)]\n",
      "[Stack(0.1.2), Stack(3.4.5), Stack(6.7.8), Stack(9)]\n",
      "[Stack(0.1.2), Stack(3.4.5), Stack(6.7.8), Stack(9.10)]\n",
      "[Stack(0.1.2), Stack(3.4.5), Stack(6.7.8), Stack(9.10.11)]\n",
      "[Stack(0.1.2), Stack(3.4.5), Stack(6.7.8), Stack(9.10.11), Stack(12)]\n",
      "5\n",
      "4\n",
      "3\n",
      "[Stack(0.1.2), Stack(6.7.8), Stack(9.10.11)] 12\n",
      "[Stack(0.1.2), Stack(6.7.8), Stack(9.10)] 11\n",
      "[Stack(0.1.2), Stack(6.7.8), Stack(9)] 10\n",
      "[Stack(0.1.2), Stack(6.7.8)] 9\n",
      "[Stack(0.1.2), Stack(6.7)] 8\n",
      "[Stack(0.1.2), Stack(6)] 7\n",
      "[Stack(0.1.2)] 6\n",
      "[Stack(0.1)] 2\n",
      "[Stack(0)] 1\n",
      "[] 0\n"
     ]
    },
    {
     "data": {
      "text/plain": [
       "[Stack(X.Y)]"
      ]
     },
     "execution_count": 21,
     "metadata": {},
     "output_type": "execute_result"
    }
   ],
   "source": [
    "class NoSuchStackException(Exception):\n",
    "    pass\n",
    "\n",
    "class SetOfStacks:\n",
    "    # TODO: Docstring!\n",
    "    # - Explain that we shall never have empty individual Stacks hanging around\n",
    "    # - Whenever we create a new Stack, it's to actually hold something\n",
    "    # - The only Empty situation we would face is when the whole Set of Stacks is empty\n",
    "    # - The user doesn't realize if a new Stack had to be created\n",
    "\n",
    "    def __init__(self, max_capacity: int):\n",
    "        self.stacks = []\n",
    "        self.max_capacity = max_capacity\n",
    "\n",
    "    @property\n",
    "    def n_stacks(self) -> int:\n",
    "        return len(self.stacks)\n",
    "\n",
    "    @property\n",
    "    def current_stack(self) -> Stack:\n",
    "        return self.stacks[-1]\n",
    "\n",
    "    def is_current_stack_full(self) -> bool:\n",
    "        return self.current_stack.size == self.max_capacity\n",
    "\n",
    "    def add_new_stack(self):\n",
    "        self.stacks.append(Stack())\n",
    "        self.current_stack.size = 0\n",
    "\n",
    "    def push(self, value: int):\n",
    "        if not self.stacks or self.is_current_stack_full():\n",
    "            self.add_new_stack()\n",
    "        self.current_stack.push(value)\n",
    "        self.current_stack.size += 1\n",
    "\n",
    "    def pop(self):\n",
    "        if not self.stacks:\n",
    "            raise EmptyStackException\n",
    "        item = self.current_stack.pop()\n",
    "        self.current_stack.size -= 1\n",
    "        if self.current_stack.is_empty():\n",
    "            self.stacks.pop()\n",
    "        return item\n",
    "\n",
    "    def pop_at(self, stack_index: int):\n",
    "        if stack_index > len(self.stacks) - 1:\n",
    "            raise NoSuchStackException\n",
    "        chosen_stack = self.stacks[stack_index]\n",
    "        item = chosen_stack.pop()\n",
    "        if chosen_stack.is_empty():\n",
    "            self.stacks.remove(chosen_stack)\n",
    "        return item\n",
    "\n",
    "\n",
    "set_of_stacks = SetOfStacks(max_capacity=3)\n",
    "\n",
    "for i in range(13):\n",
    "    set_of_stacks.push(i)\n",
    "    print(set_of_stacks.stacks)\n",
    "\n",
    "for i in range(3):\n",
    "    item = set_of_stacks.pop_at(1)\n",
    "    print(item)\n",
    "\n",
    "for i in range(10):\n",
    "    popped_item = set_of_stacks.pop()\n",
    "    print(set_of_stacks.stacks, popped_item)\n",
    "\n",
    "set_of_stacks.push(\"X\")\n",
    "set_of_stacks.push(\"Y\")\n",
    "set_of_stacks.stacks"
   ]
  },
  {
   "cell_type": "code",
   "execution_count": null,
   "metadata": {},
   "outputs": [],
   "source": []
  },
  {
   "cell_type": "code",
   "execution_count": null,
   "metadata": {},
   "outputs": [],
   "source": []
  },
  {
   "cell_type": "code",
   "execution_count": null,
   "metadata": {},
   "outputs": [],
   "source": []
  },
  {
   "cell_type": "code",
   "execution_count": null,
   "metadata": {},
   "outputs": [],
   "source": []
  },
  {
   "cell_type": "code",
   "execution_count": null,
   "metadata": {},
   "outputs": [],
   "source": []
  },
  {
   "cell_type": "code",
   "execution_count": null,
   "metadata": {},
   "outputs": [],
   "source": []
  },
  {
   "cell_type": "code",
   "execution_count": null,
   "metadata": {},
   "outputs": [],
   "source": []
  },
  {
   "cell_type": "code",
   "execution_count": null,
   "metadata": {},
   "outputs": [],
   "source": []
  }
 ],
 "metadata": {
  "kernelspec": {
   "display_name": "py311",
   "language": "python",
   "name": "python3"
  },
  "language_info": {
   "codemirror_mode": {
    "name": "ipython",
    "version": 3
   },
   "file_extension": ".py",
   "mimetype": "text/x-python",
   "name": "python",
   "nbconvert_exporter": "python",
   "pygments_lexer": "ipython3",
   "version": "3.11.3"
  },
  "orig_nbformat": 4
 },
 "nbformat": 4,
 "nbformat_minor": 2
}

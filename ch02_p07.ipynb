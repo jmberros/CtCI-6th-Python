{
 "cells": [
  {
   "cell_type": "markdown",
   "metadata": {},
   "source": [
    "Intersection: Given two (singly) linked lists, determine if the two lists intersect. Return the inter­secting node. Note that the intersection is defined based on reference, not value.That is, if the kth\n",
    "node of the first linked list is the exact same node (by reference) as the jth node of the second\n",
    "linked list, then they are intersecting"
   ]
  },
  {
   "cell_type": "code",
   "execution_count": 1,
   "metadata": {},
   "outputs": [],
   "source": [
    "from linked_list_JM import LinkedList as LL, LinkedListNode as LLN"
   ]
  },
  {
   "cell_type": "code",
   "execution_count": 49,
   "metadata": {},
   "outputs": [
    {
     "data": {
      "text/plain": [
       "(LinkedList(1::2::3::4::5::6::7), LinkedList(99::98::5::6::7))"
      ]
     },
     "execution_count": 49,
     "metadata": {},
     "output_type": "execute_result"
    }
   ],
   "source": [
    "a = LL(1, 2, 3, 4, 5)\n",
    "\n",
    "b = LL(99, 98)\n",
    "b.tail.next = a.tail\n",
    "b.tail = a.tail\n",
    "b.add(6)\n",
    "b.add(7)\n",
    "\n",
    "a, b"
   ]
  },
  {
   "cell_type": "code",
   "execution_count": 20,
   "metadata": {},
   "outputs": [
    {
     "data": {
      "text/plain": [
       "(140209483100688, 140209483100688)"
      ]
     },
     "execution_count": 20,
     "metadata": {},
     "output_type": "execute_result"
    }
   ],
   "source": [
    "id(a.tail), id(b.tail)"
   ]
  },
  {
   "cell_type": "markdown",
   "metadata": {},
   "source": [
    "# Naive, inefficient solution"
   ]
  },
  {
   "cell_type": "code",
   "execution_count": 29,
   "metadata": {},
   "outputs": [
    {
     "data": {
      "text/plain": [
       ":5"
      ]
     },
     "execution_count": 29,
     "metadata": {},
     "output_type": "execute_result"
    }
   ],
   "source": [
    "get_last_node_and_length(a.head)\n",
    "\n",
    "# O(A * B) time \n",
    "# O(1) space\n",
    "\n",
    "def intersect_1(a: LL, b: LL) -> Optional[LLN]:\n",
    "    # TODO: Docstring\n",
    "\n",
    "    for nodeA in a:\n",
    "        for nodeB in b:\n",
    "            if nodeA == nodeB:\n",
    "                return nodeA\n",
    "\n",
    "    return None\n",
    "\n",
    "\n",
    "intersect_1(a, b)\n",
    "# intersect_1(a, a)\n",
    "# intersect_1(a, LL(1, 2))"
   ]
  },
  {
   "cell_type": "markdown",
   "metadata": {},
   "source": [
    "# Slightly less naive solution"
   ]
  },
  {
   "cell_type": "code",
   "execution_count": 33,
   "metadata": {},
   "outputs": [],
   "source": [
    "from collections import deque\n",
    "\n",
    "# O(A) space\n",
    "# <= O(A * B) time\n",
    "\n",
    "def intersect_2(a: LL, b: LL) -> Optional[LLN]:\n",
    "    nodesA = deque()\n",
    "    for nodeA in a:\n",
    "        nodesA.appendleft(nodeA)\n",
    "\n",
    "    for nodeB in b:\n",
    "        if nodeB in nodesA:\n",
    "            return nodeB\n",
    "\n",
    "    return None\n",
    "\n",
    "\n",
    "intersect_2(a, LL(1, 2))"
   ]
  },
  {
   "cell_type": "markdown",
   "metadata": {},
   "source": [
    "# Using a Hashmap"
   ]
  },
  {
   "cell_type": "code",
   "execution_count": 40,
   "metadata": {},
   "outputs": [
    {
     "data": {
      "text/plain": [
       ":5"
      ]
     },
     "execution_count": 40,
     "metadata": {},
     "output_type": "execute_result"
    }
   ],
   "source": [
    "# O(A + B) time\n",
    "# O(A) size\n",
    "\n",
    "def intersect_3(a: LL, b: LL) -> Optional[LLN]:\n",
    "    nodesA = set()\n",
    "\n",
    "    for node in a:  # O(A)\n",
    "        nodesA.add(node)\n",
    "\n",
    "    for node in b:  # O(B)\n",
    "        if node in nodesA:  # O(1)\n",
    "            return node\n",
    "\n",
    "    ## Alternatively:\n",
    "\n",
    "    # nodesB = []\n",
    "    # for node in b:\n",
    "    #     nodesB.append(node)\n",
    "\n",
    "    # last_intersection = None\n",
    "\n",
    "    # while nodesB:\n",
    "    #     nodeB = nodesB.pop()\n",
    "    #     if nodeB in nodesA:\n",
    "    #         last_intersection = nodeB\n",
    "    #     else:\n",
    "    #         return last_intersection\n",
    "\n",
    "    # return last_intersection\n",
    "\n",
    "\n",
    "intersect_3(a, b)"
   ]
  },
  {
   "cell_type": "markdown",
   "metadata": {},
   "source": [
    "# Not storing all elements in a set"
   ]
  },
  {
   "cell_type": "code",
   "execution_count": 54,
   "metadata": {},
   "outputs": [
    {
     "data": {
      "text/plain": [
       ":5:"
      ]
     },
     "execution_count": 54,
     "metadata": {},
     "output_type": "execute_result"
    }
   ],
   "source": [
    "from typing import Tuple, Optional\n",
    "\n",
    "\n",
    "def get_last_node_and_length(head: LLN) -> Tuple[LLN, int]:\n",
    "    runner = head\n",
    "    length = 1\n",
    "\n",
    "    while runner.next:\n",
    "        length += 1\n",
    "        runner = runner.next\n",
    "\n",
    "    return runner, length\n",
    "\n",
    "\n",
    "def intersect_4(a: LL, b: LL) -> Optional[LLN]:\n",
    "    tailA, lengthA = get_last_node_and_length(a.head)\n",
    "    tailB, lengthB = get_last_node_and_length(b.head)\n",
    "\n",
    "    # If the tails don't match, we already know there's no intersection\n",
    "    if tailA != tailB:\n",
    "        return None\n",
    "\n",
    "    diffA = lengthA - lengthB\n",
    "    runnerA = a.head\n",
    "    runnerB = b.head\n",
    "\n",
    "    # Advance the pointer of the longest list so that we\n",
    "    # \"align\" them by the tail\n",
    "    if diffA > 0:\n",
    "        for _ in range(diffA):\n",
    "            runnerA = runnerA.next\n",
    "    else:\n",
    "        for _ in range(-diffA):\n",
    "            runnerB = runnerB.next\n",
    "\n",
    "    while runnerA and runnerB:\n",
    "        if runnerA == runnerB:\n",
    "            return runnerA\n",
    "        \n",
    "        runnerA = runnerA.next\n",
    "        runnerB = runnerB.next\n",
    "\n",
    "    return None\n",
    "\n",
    "intersect_4(a, b)\n"
   ]
  },
  {
   "cell_type": "code",
   "execution_count": null,
   "metadata": {},
   "outputs": [],
   "source": []
  },
  {
   "cell_type": "code",
   "execution_count": null,
   "metadata": {},
   "outputs": [],
   "source": []
  },
  {
   "cell_type": "code",
   "execution_count": null,
   "metadata": {},
   "outputs": [],
   "source": []
  },
  {
   "cell_type": "code",
   "execution_count": null,
   "metadata": {},
   "outputs": [],
   "source": []
  },
  {
   "cell_type": "code",
   "execution_count": null,
   "metadata": {},
   "outputs": [],
   "source": []
  },
  {
   "cell_type": "code",
   "execution_count": null,
   "metadata": {},
   "outputs": [],
   "source": []
  },
  {
   "cell_type": "code",
   "execution_count": null,
   "metadata": {},
   "outputs": [],
   "source": []
  },
  {
   "cell_type": "code",
   "execution_count": null,
   "metadata": {},
   "outputs": [],
   "source": []
  },
  {
   "cell_type": "code",
   "execution_count": null,
   "metadata": {},
   "outputs": [],
   "source": []
  }
 ],
 "metadata": {
  "kernelspec": {
   "display_name": "py311",
   "language": "python",
   "name": "python3"
  },
  "language_info": {
   "codemirror_mode": {
    "name": "ipython",
    "version": 3
   },
   "file_extension": ".py",
   "mimetype": "text/x-python",
   "name": "python",
   "nbconvert_exporter": "python",
   "pygments_lexer": "ipython3",
   "version": "3.11.3"
  },
  "orig_nbformat": 4
 },
 "nbformat": 4,
 "nbformat_minor": 2
}

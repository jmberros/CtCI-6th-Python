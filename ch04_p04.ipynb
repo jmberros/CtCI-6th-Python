{
 "cells": [
  {
   "cell_type": "markdown",
   "metadata": {},
   "source": [
    "Check Balanced: Implement a function to check if a binary tree is balanced. For the purposes of\n",
    "this question, a balanced tree is defined to be a tree such that the heights of the two subtrees of any\n",
    "node never differ by more than one."
   ]
  },
  {
   "cell_type": "code",
   "execution_count": 30,
   "metadata": {},
   "outputs": [
    {
     "name": "stdout",
     "output_type": "stream",
     "text": [
      "\n",
      "    1__\n",
      "   /   \\\n",
      "  2     3\n",
      " /     /\n",
      "4     5\n",
      "\n",
      "\n",
      "      1\n",
      "     / \\\n",
      "    2   4\n",
      "   /\n",
      "  3\n",
      " /\n",
      "5\n",
      "\n"
     ]
    }
   ],
   "source": [
    "from binarytree import Node\n",
    "\n",
    "root_b = Node(1)\n",
    "root_b.left = Node(2)\n",
    "root_b.right = Node(3)\n",
    "root_b.left.left = Node(4)\n",
    "root_b.right.left = Node(5)\n",
    "print(root_b)\n",
    "\n",
    "root_u = Node(1)\n",
    "root_u.left = Node(2)\n",
    "root_u.left.left = Node(3)\n",
    "root_u.left.left.left = Node(5)\n",
    "root_u.right = Node(4)\n",
    "print(root_u)"
   ]
  },
  {
   "cell_type": "code",
   "execution_count": 33,
   "metadata": {},
   "outputs": [
    {
     "data": {
      "text/plain": [
       "(1, True)"
      ]
     },
     "execution_count": 33,
     "metadata": {},
     "output_type": "execute_result"
    }
   ],
   "source": [
    "def get_h_and_balance(node: Node, h: int = 1) -> tuple[int, bool]:\n",
    "    \"\"\"Gets the max h under the node, and the balanced status.\n",
    "\n",
    "    Args:\n",
    "        node: a binary tree node.\n",
    "        h: the number of levels from the top.\n",
    "\n",
    "    Returns:\n",
    "        A 2-tuple of (max height below, balanced status) where balanced\n",
    "        status is True if the hs are balanced (diff <= 1).\n",
    "    \"\"\"\n",
    "    if node.left:\n",
    "        left_h, left_ok = h, True\n",
    "    else:\n",
    "        left_h, left_ok = get_h_and_balance(node.left, h + 1)\n",
    "\n",
    "    if node.right:\n",
    "        right_h, right_ok = h, True\n",
    "    else:\n",
    "        right_h, right_ok = get_h_and_balance(node.right, h + 1)\n",
    "\n",
    "    is_balanced = abs(left_h - right_h) <= 1 and right_ok and left_ok\n",
    "    return max(left_h, right_h), is_balanced\n",
    "\n",
    "\n",
    "get_h_and_balance(root_u)"
   ]
  },
  {
   "cell_type": "markdown",
   "metadata": {},
   "source": [
    "Code the unbalanced state as height == -1:"
   ]
  },
  {
   "cell_type": "code",
   "execution_count": 32,
   "metadata": {},
   "outputs": [
    {
     "data": {
      "text/plain": [
       "3"
      ]
     },
     "execution_count": 32,
     "metadata": {},
     "output_type": "execute_result"
    }
   ],
   "source": [
    "def get_h(node: Node, h: int = 1) -> int:\n",
    "    # TODO: Explain -1\n",
    "    left_h = get_h(node.left, h + 1) if node.left else h\n",
    "    right_h = get_h(node.right, h + 1) if node.right else h\n",
    "    is_balanced = (\n",
    "        abs(left_h - right_h) <= 1\n",
    "        and left_h != -1\n",
    "        and right_h != -1\n",
    "    )\n",
    "    return max(left_h, right_h) if is_balanced else -1\n",
    "\n",
    "\n",
    "get_h(root_b)"
   ]
  },
  {
   "cell_type": "code",
   "execution_count": null,
   "metadata": {},
   "outputs": [],
   "source": []
  },
  {
   "cell_type": "code",
   "execution_count": null,
   "metadata": {},
   "outputs": [],
   "source": []
  },
  {
   "cell_type": "code",
   "execution_count": null,
   "metadata": {},
   "outputs": [],
   "source": []
  },
  {
   "cell_type": "code",
   "execution_count": null,
   "metadata": {},
   "outputs": [],
   "source": []
  },
  {
   "cell_type": "code",
   "execution_count": null,
   "metadata": {},
   "outputs": [],
   "source": []
  }
 ],
 "metadata": {
  "kernelspec": {
   "display_name": "py311",
   "language": "python",
   "name": "python3"
  },
  "language_info": {
   "codemirror_mode": {
    "name": "ipython",
    "version": 3
   },
   "file_extension": ".py",
   "mimetype": "text/x-python",
   "name": "python",
   "nbconvert_exporter": "python",
   "pygments_lexer": "ipython3",
   "version": "3.11.3"
  },
  "orig_nbformat": 4
 },
 "nbformat": 4,
 "nbformat_minor": 2
}

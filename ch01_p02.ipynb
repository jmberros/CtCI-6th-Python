{
 "cells": [
  {
   "cell_type": "markdown",
   "metadata": {},
   "source": [
    "1.2\n",
    "Check Permutation: Given two strings, write a method to decide if one is a permutation of the\n",
    "other.\n",
    "Hints: #7, #84, #722, #737"
   ]
  },
  {
   "cell_type": "code",
   "execution_count": 2,
   "metadata": {},
   "outputs": [],
   "source": [
    "TEST_CASES = [\n",
    "    (\"abc\", \"cab\", True),\n",
    "    (\"abc\", \"cba\", True),\n",
    "    (\"\", \"\", True),\n",
    "    (\"\", \"a\", False),\n",
    "    (\"aaa\", \"aa\", False),\n",
    "    # (None, False),\n",
    "]\n",
    "\n",
    "def run_test_cases(f):\n",
    "    for s1, s2, expected_result in TEST_CASES:\n",
    "        result = f(s1, s2)\n",
    "        if result != expected_result:\n",
    "            print(f\"f({s1}, {s2}) = {result} != {expected_result}\")\n",
    "            return\n",
    "\n",
    "    print(\"everything OK\")"
   ]
  },
  {
   "cell_type": "code",
   "execution_count": 4,
   "metadata": {},
   "outputs": [
    {
     "name": "stdout",
     "output_type": "stream",
     "text": [
      "everything OK\n"
     ]
    }
   ],
   "source": [
    "def is_permutation_1(s1: str, s2: str) -> bool:\n",
    "    # O(n log n)\n",
    "    return sorted(s1) == sorted(s2)\n",
    "\n",
    "run_test_cases(is_permutation_1)"
   ]
  },
  {
   "cell_type": "code",
   "execution_count": 11,
   "metadata": {},
   "outputs": [
    {
     "name": "stdout",
     "output_type": "stream",
     "text": [
      "everything OK\n"
     ]
    }
   ],
   "source": [
    "s1, s2 = \"abc\", \"cba\"\n",
    "\n",
    "###\n",
    "def is_permutation_2(s1, s2):\n",
    "    if len(s1) != len(s2):\n",
    "        return False\n",
    "\n",
    "    if s1 == s2:\n",
    "        return True\n",
    "\n",
    "    remaining_chars_in_s1 = list(s1)\n",
    "\n",
    "    for char_from_s2 in s2:\n",
    "        if char_from_s2 not in remaining_chars_in_s1:\n",
    "            return False\n",
    "        \n",
    "        remaining_chars_in_s1.remove(char_from_s2)\n",
    "\n",
    "    return True\n",
    "\n",
    "run_test_cases(is_permutation_2)"
   ]
  },
  {
   "cell_type": "code",
   "execution_count": 14,
   "metadata": {},
   "outputs": [
    {
     "name": "stdout",
     "output_type": "stream",
     "text": [
      "everything OK\n"
     ]
    }
   ],
   "source": [
    "from collections import Counter\n",
    "\n",
    "def is_permutation_3(s1, s2):  \n",
    "    return Counter(s1) == Counter(s2)\n",
    "\n",
    "run_test_cases(is_permutation_3)"
   ]
  },
  {
   "cell_type": "code",
   "execution_count": null,
   "metadata": {},
   "outputs": [],
   "source": []
  },
  {
   "cell_type": "code",
   "execution_count": null,
   "metadata": {},
   "outputs": [],
   "source": []
  },
  {
   "cell_type": "code",
   "execution_count": null,
   "metadata": {},
   "outputs": [],
   "source": []
  },
  {
   "cell_type": "code",
   "execution_count": null,
   "metadata": {},
   "outputs": [],
   "source": []
  },
  {
   "cell_type": "code",
   "execution_count": null,
   "metadata": {},
   "outputs": [],
   "source": []
  },
  {
   "cell_type": "code",
   "execution_count": null,
   "metadata": {},
   "outputs": [],
   "source": []
  }
 ],
 "metadata": {
  "kernelspec": {
   "display_name": "py311",
   "language": "python",
   "name": "python3"
  },
  "language_info": {
   "codemirror_mode": {
    "name": "ipython",
    "version": 3
   },
   "file_extension": ".py",
   "mimetype": "text/x-python",
   "name": "python",
   "nbconvert_exporter": "python",
   "pygments_lexer": "ipython3",
   "version": "3.11.3"
  },
  "orig_nbformat": 4
 },
 "nbformat": 4,
 "nbformat_minor": 2
}

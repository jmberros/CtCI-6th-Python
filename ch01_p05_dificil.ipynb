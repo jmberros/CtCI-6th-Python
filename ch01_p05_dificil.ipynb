{
 "cells": [
  {
   "cell_type": "markdown",
   "metadata": {},
   "source": [
    "One Away: There are three types of edits that can be performed on strings: insert a character,\n",
    "remove a character, or replace a character. Given two strings, write a function to check if they are\n",
    "one edit (or zero edits) away.\n",
    "\n",
    "EXAMPLE\n",
    "```\n",
    "pale, ple -> true\n",
    "pales, pale -> true\n",
    "pale, bale -> true\n",
    "pale, bake -> false\n",
    "```"
   ]
  },
  {
   "cell_type": "code",
   "execution_count": 9,
   "metadata": {},
   "outputs": [],
   "source": [
    "TEST_CASES = [\n",
    "    (\"abc\", \"a\", False),\n",
    "    (\"abc\", \"abcd\", True),\n",
    "    # no changes\n",
    "    (\"pale\", \"pale\", True),\n",
    "    (\"\", \"\", True),\n",
    "    # one insert\n",
    "    (\"pale\", \"ple\", True),\n",
    "    (\"ple\", \"pale\", True),\n",
    "    (\"pales\", \"pale\", True),\n",
    "    (\"ples\", \"pales\", True),\n",
    "    (\"pale\", \"pkle\", True),\n",
    "    (\"paleabc\", \"pleabc\", True),\n",
    "    (\"\", \"d\", True),\n",
    "    (\"d\", \"de\", True),\n",
    "    # one replace\n",
    "    (\"pale\", \"bale\", True),\n",
    "    (\"a\", \"b\", True),\n",
    "    (\"pale\", \"ble\", False),\n",
    "    # multiple replace\n",
    "    (\"pale\", \"bake\", False),\n",
    "    # insert and replace\n",
    "    (\"pale\", \"pse\", False),\n",
    "    (\"pale\", \"pas\", False),\n",
    "    (\"pas\", \"pale\", False),\n",
    "    (\"pkle\", \"pable\", False),\n",
    "    (\"pal\", \"palks\", False),\n",
    "    (\"palks\", \"pal\", False),\n",
    "    # permutation with insert shouldn't match\n",
    "    (\"ale\", \"elas\", False),\n",
    "]\n",
    "\n",
    "def run_test_cases(f):\n",
    "    for *inputs, expected_result in TEST_CASES:\n",
    "        result = f(*inputs)\n",
    "        if result != expected_result:\n",
    "            print(f\"f({', '.join(str(i) for i in inputs)}) = {result} != {expected_result}\")\n",
    "            return\n",
    "\n",
    "    print(\"everything OK\")"
   ]
  },
  {
   "cell_type": "code",
   "execution_count": 21,
   "metadata": {},
   "outputs": [
    {
     "data": {
      "text/plain": [
       "True"
      ]
     },
     "execution_count": 21,
     "metadata": {},
     "output_type": "execute_result"
    }
   ],
   "source": [
    "s1, s2 = \"ples\", \"pales\"\n",
    "\n",
    "#####\n",
    "\n",
    "def one_insert_in_s2_away(s1: str, s2: str) -> bool:\n",
    "    i, j = 0, 0\n",
    "    edited = False\n",
    "\n",
    "    while i < len(s1) and j < len(s2):\n",
    "        if s1[i] != s2[j]:\n",
    "            if edited:\n",
    "                return False\n",
    "            \n",
    "            i += 1\n",
    "            edited = True\n",
    "        else:\n",
    "            i += 1\n",
    "            j += 1\n",
    "    \n",
    "    return True\n",
    "\n",
    "def one_away(s1: str, s2: str) -> bool:\n",
    "    len_diff = len(s1) - len(s2)\n",
    "\n",
    "    if len_diff == 0:\n",
    "        # One replace away?\n",
    "        n_differences = sum(1 for char1, char2 in zip(s1, s2) if char1 != char2)\n",
    "        return n_differences <= 1\n",
    "\n",
    "    elif len_diff == 1:\n",
    "        # One insertion in S2 away?\n",
    "        return one_insert_in_s2_away(s1, s2)\n",
    "\n",
    "    elif len_diff == -1:\n",
    "        # One insertion in S1 away?\n",
    "        return one_insert_in_s2_away(s2, s1)\n",
    "    \n",
    "    return False\n",
    "        \n",
    "\n",
    "one_away(s1, s2)\n",
    "one_insert_in_s2_away(\"pales\", \"ples\")"
   ]
  },
  {
   "cell_type": "code",
   "execution_count": 22,
   "metadata": {},
   "outputs": [
    {
     "name": "stdout",
     "output_type": "stream",
     "text": [
      "everything OK\n"
     ]
    }
   ],
   "source": [
    "run_test_cases(one_away)\n"
   ]
  },
  {
   "cell_type": "code",
   "execution_count": null,
   "metadata": {},
   "outputs": [],
   "source": []
  }
 ],
 "metadata": {
  "kernelspec": {
   "display_name": "py311",
   "language": "python",
   "name": "python3"
  },
  "language_info": {
   "codemirror_mode": {
    "name": "ipython",
    "version": 3
   },
   "file_extension": ".py",
   "mimetype": "text/x-python",
   "name": "python",
   "nbconvert_exporter": "python",
   "pygments_lexer": "ipython3",
   "version": "3.11.3"
  },
  "orig_nbformat": 4
 },
 "nbformat": 4,
 "nbformat_minor": 2
}
